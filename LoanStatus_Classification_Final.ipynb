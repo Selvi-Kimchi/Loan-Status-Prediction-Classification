{
 "cells": [
  {
   "cell_type": "markdown",
   "id": "e7bcca60-0486-4a38-b39c-3cbb9ff83a23",
   "metadata": {},
   "source": [
    "# Importing Neccessary Libraries"
   ]
  },
  {
   "cell_type": "code",
   "execution_count": 3,
   "id": "fca41df2-f444-48ca-bae9-9a984d629e06",
   "metadata": {},
   "outputs": [],
   "source": [
    "import pandas as pd\n",
    "import numpy as np"
   ]
  },
  {
   "cell_type": "markdown",
   "id": "4c0bc1d5-479d-4fd6-9948-4541a5b7c001",
   "metadata": {},
   "source": [
    "# 2. Reading the Preprocessed datasets"
   ]
  },
  {
   "cell_type": "code",
   "execution_count": 5,
   "id": "a112b9f7-f4d9-4246-9e05-0afda96430e5",
   "metadata": {},
   "outputs": [
    {
     "name": "stdout",
     "output_type": "stream",
     "text": [
      "(614, 11) (367, 10)\n"
     ]
    }
   ],
   "source": [
    "df_train=pd.read_csv('Preprocessed_train')\n",
    "df_test=pd.read_csv('Preprocessed_test')\n",
    "print(df_train.shape, df_test.shape)"
   ]
  },
  {
   "cell_type": "code",
   "execution_count": 6,
   "id": "35e1e059-c386-40b7-9f88-08fe909da940",
   "metadata": {},
   "outputs": [
    {
     "data": {
      "text/html": [
       "<div>\n",
       "<style scoped>\n",
       "    .dataframe tbody tr th:only-of-type {\n",
       "        vertical-align: middle;\n",
       "    }\n",
       "\n",
       "    .dataframe tbody tr th {\n",
       "        vertical-align: top;\n",
       "    }\n",
       "\n",
       "    .dataframe thead th {\n",
       "        text-align: right;\n",
       "    }\n",
       "</style>\n",
       "<table border=\"1\" class=\"dataframe\">\n",
       "  <thead>\n",
       "    <tr style=\"text-align: right;\">\n",
       "      <th></th>\n",
       "      <th>Gender</th>\n",
       "      <th>Married</th>\n",
       "      <th>Dependents</th>\n",
       "      <th>Education</th>\n",
       "      <th>Self_Employed</th>\n",
       "      <th>Loan_Amount_Term</th>\n",
       "      <th>Credit_History</th>\n",
       "      <th>Property_Area</th>\n",
       "      <th>LoanAmount</th>\n",
       "      <th>Total_Income</th>\n",
       "      <th>Loan_Status</th>\n",
       "    </tr>\n",
       "  </thead>\n",
       "  <tbody>\n",
       "    <tr>\n",
       "      <th>0</th>\n",
       "      <td>1.0</td>\n",
       "      <td>0.0</td>\n",
       "      <td>0.000000</td>\n",
       "      <td>0.0</td>\n",
       "      <td>0.0</td>\n",
       "      <td>0.74359</td>\n",
       "      <td>1.0</td>\n",
       "      <td>1.0</td>\n",
       "      <td>0.601711</td>\n",
       "      <td>0.347520</td>\n",
       "      <td>1</td>\n",
       "    </tr>\n",
       "    <tr>\n",
       "      <th>1</th>\n",
       "      <td>1.0</td>\n",
       "      <td>1.0</td>\n",
       "      <td>0.333333</td>\n",
       "      <td>0.0</td>\n",
       "      <td>0.0</td>\n",
       "      <td>0.74359</td>\n",
       "      <td>1.0</td>\n",
       "      <td>0.0</td>\n",
       "      <td>0.601711</td>\n",
       "      <td>0.357583</td>\n",
       "      <td>0</td>\n",
       "    </tr>\n",
       "    <tr>\n",
       "      <th>2</th>\n",
       "      <td>1.0</td>\n",
       "      <td>1.0</td>\n",
       "      <td>0.000000</td>\n",
       "      <td>0.0</td>\n",
       "      <td>1.0</td>\n",
       "      <td>0.74359</td>\n",
       "      <td>1.0</td>\n",
       "      <td>1.0</td>\n",
       "      <td>0.447563</td>\n",
       "      <td>0.181795</td>\n",
       "      <td>1</td>\n",
       "    </tr>\n",
       "    <tr>\n",
       "      <th>3</th>\n",
       "      <td>1.0</td>\n",
       "      <td>1.0</td>\n",
       "      <td>0.000000</td>\n",
       "      <td>1.0</td>\n",
       "      <td>0.0</td>\n",
       "      <td>0.74359</td>\n",
       "      <td>1.0</td>\n",
       "      <td>1.0</td>\n",
       "      <td>0.586647</td>\n",
       "      <td>0.305642</td>\n",
       "      <td>1</td>\n",
       "    </tr>\n",
       "    <tr>\n",
       "      <th>4</th>\n",
       "      <td>1.0</td>\n",
       "      <td>0.0</td>\n",
       "      <td>0.000000</td>\n",
       "      <td>0.0</td>\n",
       "      <td>0.0</td>\n",
       "      <td>0.74359</td>\n",
       "      <td>1.0</td>\n",
       "      <td>1.0</td>\n",
       "      <td>0.624304</td>\n",
       "      <td>0.353847</td>\n",
       "      <td>1</td>\n",
       "    </tr>\n",
       "  </tbody>\n",
       "</table>\n",
       "</div>"
      ],
      "text/plain": [
       "   Gender  Married  Dependents  Education  Self_Employed  Loan_Amount_Term  \\\n",
       "0     1.0      0.0    0.000000        0.0            0.0           0.74359   \n",
       "1     1.0      1.0    0.333333        0.0            0.0           0.74359   \n",
       "2     1.0      1.0    0.000000        0.0            1.0           0.74359   \n",
       "3     1.0      1.0    0.000000        1.0            0.0           0.74359   \n",
       "4     1.0      0.0    0.000000        0.0            0.0           0.74359   \n",
       "\n",
       "   Credit_History  Property_Area  LoanAmount  Total_Income  Loan_Status  \n",
       "0             1.0            1.0    0.601711      0.347520            1  \n",
       "1             1.0            0.0    0.601711      0.357583            0  \n",
       "2             1.0            1.0    0.447563      0.181795            1  \n",
       "3             1.0            1.0    0.586647      0.305642            1  \n",
       "4             1.0            1.0    0.624304      0.353847            1  "
      ]
     },
     "execution_count": 6,
     "metadata": {},
     "output_type": "execute_result"
    }
   ],
   "source": [
    "df_train.head()"
   ]
  },
  {
   "cell_type": "code",
   "execution_count": 7,
   "id": "07ec5efc-e647-4084-bc2f-f6f0b4ac4d98",
   "metadata": {},
   "outputs": [
    {
     "data": {
      "text/html": [
       "<div>\n",
       "<style scoped>\n",
       "    .dataframe tbody tr th:only-of-type {\n",
       "        vertical-align: middle;\n",
       "    }\n",
       "\n",
       "    .dataframe tbody tr th {\n",
       "        vertical-align: top;\n",
       "    }\n",
       "\n",
       "    .dataframe thead th {\n",
       "        text-align: right;\n",
       "    }\n",
       "</style>\n",
       "<table border=\"1\" class=\"dataframe\">\n",
       "  <thead>\n",
       "    <tr style=\"text-align: right;\">\n",
       "      <th></th>\n",
       "      <th>Gender</th>\n",
       "      <th>Married</th>\n",
       "      <th>Dependents</th>\n",
       "      <th>Education</th>\n",
       "      <th>Self_Employed</th>\n",
       "      <th>Loan_Amount_Term</th>\n",
       "      <th>Credit_History</th>\n",
       "      <th>Property_Area</th>\n",
       "      <th>LoanAmount</th>\n",
       "      <th>Total_Income</th>\n",
       "    </tr>\n",
       "  </thead>\n",
       "  <tbody>\n",
       "    <tr>\n",
       "      <th>0</th>\n",
       "      <td>1.0</td>\n",
       "      <td>1.0</td>\n",
       "      <td>0.000000</td>\n",
       "      <td>0.0</td>\n",
       "      <td>0.0</td>\n",
       "      <td>0.74359</td>\n",
       "      <td>1.0</td>\n",
       "      <td>1.0</td>\n",
       "      <td>0.566350</td>\n",
       "      <td>0.341983</td>\n",
       "    </tr>\n",
       "    <tr>\n",
       "      <th>1</th>\n",
       "      <td>1.0</td>\n",
       "      <td>1.0</td>\n",
       "      <td>0.333333</td>\n",
       "      <td>0.0</td>\n",
       "      <td>0.0</td>\n",
       "      <td>0.74359</td>\n",
       "      <td>1.0</td>\n",
       "      <td>1.0</td>\n",
       "      <td>0.598035</td>\n",
       "      <td>0.286593</td>\n",
       "    </tr>\n",
       "    <tr>\n",
       "      <th>2</th>\n",
       "      <td>1.0</td>\n",
       "      <td>1.0</td>\n",
       "      <td>0.666667</td>\n",
       "      <td>0.0</td>\n",
       "      <td>0.0</td>\n",
       "      <td>0.74359</td>\n",
       "      <td>1.0</td>\n",
       "      <td>1.0</td>\n",
       "      <td>0.715248</td>\n",
       "      <td>0.384917</td>\n",
       "    </tr>\n",
       "    <tr>\n",
       "      <th>3</th>\n",
       "      <td>1.0</td>\n",
       "      <td>1.0</td>\n",
       "      <td>0.666667</td>\n",
       "      <td>0.0</td>\n",
       "      <td>0.0</td>\n",
       "      <td>0.74359</td>\n",
       "      <td>1.0</td>\n",
       "      <td>1.0</td>\n",
       "      <td>0.544136</td>\n",
       "      <td>0.302863</td>\n",
       "    </tr>\n",
       "    <tr>\n",
       "      <th>4</th>\n",
       "      <td>1.0</td>\n",
       "      <td>0.0</td>\n",
       "      <td>0.000000</td>\n",
       "      <td>1.0</td>\n",
       "      <td>0.0</td>\n",
       "      <td>0.74359</td>\n",
       "      <td>1.0</td>\n",
       "      <td>1.0</td>\n",
       "      <td>0.486329</td>\n",
       "      <td>0.203639</td>\n",
       "    </tr>\n",
       "  </tbody>\n",
       "</table>\n",
       "</div>"
      ],
      "text/plain": [
       "   Gender  Married  Dependents  Education  Self_Employed  Loan_Amount_Term  \\\n",
       "0     1.0      1.0    0.000000        0.0            0.0           0.74359   \n",
       "1     1.0      1.0    0.333333        0.0            0.0           0.74359   \n",
       "2     1.0      1.0    0.666667        0.0            0.0           0.74359   \n",
       "3     1.0      1.0    0.666667        0.0            0.0           0.74359   \n",
       "4     1.0      0.0    0.000000        1.0            0.0           0.74359   \n",
       "\n",
       "   Credit_History  Property_Area  LoanAmount  Total_Income  \n",
       "0             1.0            1.0    0.566350      0.341983  \n",
       "1             1.0            1.0    0.598035      0.286593  \n",
       "2             1.0            1.0    0.715248      0.384917  \n",
       "3             1.0            1.0    0.544136      0.302863  \n",
       "4             1.0            1.0    0.486329      0.203639  "
      ]
     },
     "execution_count": 7,
     "metadata": {},
     "output_type": "execute_result"
    }
   ],
   "source": [
    "df_test.head()"
   ]
  },
  {
   "cell_type": "markdown",
   "id": "ceaf0610-7cec-487e-ac61-60a61d041f48",
   "metadata": {},
   "source": [
    "# 3. Check for class Imbalance"
   ]
  },
  {
   "cell_type": "code",
   "execution_count": 9,
   "id": "77f8d804-b542-4f2d-a7fb-fd016e837de0",
   "metadata": {},
   "outputs": [
    {
     "data": {
      "text/plain": [
       "Loan_Status\n",
       "1    422\n",
       "0    192\n",
       "Name: count, dtype: int64"
      ]
     },
     "execution_count": 9,
     "metadata": {},
     "output_type": "execute_result"
    }
   ],
   "source": [
    "class_dist=df_train['Loan_Status'].value_counts()\n",
    "class_dist"
   ]
  },
  {
   "cell_type": "code",
   "execution_count": 10,
   "id": "cebb091b-460d-4e93-9136-2b07a2ac52b7",
   "metadata": {},
   "outputs": [
    {
     "name": "stdout",
     "output_type": "stream",
     "text": [
      "Loan_Status\n",
      "1    69.0\n",
      "0    31.0\n",
      "Name: proportion, dtype: float64 2\n"
     ]
    }
   ],
   "source": [
    "class_percentage=df_train['Loan_Status'].value_counts(normalize=True)*100\n",
    "print(round(class_percentage),2)"
   ]
  },
  {
   "cell_type": "markdown",
   "id": "254d8045-e8e4-4a85-9ce1-e16262e4c229",
   "metadata": {},
   "source": [
    "👉 As there is a noticiable difference between the two classes, the dataset is imbalanced. We need to treat this first."
   ]
  },
  {
   "cell_type": "markdown",
   "id": "2ccd42d9-82fe-46a6-821a-810f025b1f1c",
   "metadata": {},
   "source": [
    "# 4. Resample the Dataset"
   ]
  },
  {
   "cell_type": "code",
   "execution_count": 13,
   "id": "a027d4b5-be51-49cd-89ba-4f606aeca6da",
   "metadata": {},
   "outputs": [
    {
     "name": "stdout",
     "output_type": "stream",
     "text": [
      "Loan_Status\n",
      "1    422\n",
      "0    422\n",
      "Name: count, dtype: int64\n"
     ]
    }
   ],
   "source": [
    "from sklearn.utils import resample\n",
    "df_majority=df_train[df_train['Loan_Status']==1]\n",
    "df_minority=df_train[df_train['Loan_Status']==0]\n",
    "df_minority_upsampled=resample(df_minority,\n",
    "                              replace=True,\n",
    "                              n_samples=len(df_majority),\n",
    "                              random_state=42)\n",
    "df_balanced=pd.concat([df_majority,df_minority_upsampled])\n",
    "print(df_balanced['Loan_Status'].value_counts())"
   ]
  },
  {
   "cell_type": "markdown",
   "id": "54facb6d-7494-4be1-897c-91cbd16b3be7",
   "metadata": {},
   "source": [
    "👉 Now the dataset has become balanced."
   ]
  },
  {
   "cell_type": "markdown",
   "id": "c5fe10ea-7790-4495-a04a-9a15551cc745",
   "metadata": {},
   "source": [
    "# 5. Splitting the Dataset into Training and Validation Sets"
   ]
  },
  {
   "cell_type": "code",
   "execution_count": 16,
   "id": "a38dec00-037b-4c09-add2-a307bdc48740",
   "metadata": {},
   "outputs": [
    {
     "name": "stdout",
     "output_type": "stream",
     "text": [
      "(675, 10) (169, 10) (675,) (169,)\n"
     ]
    }
   ],
   "source": [
    "from sklearn.model_selection import train_test_split\n",
    "X=df_balanced.drop(['Loan_Status'], axis=1)\n",
    "y=df_balanced['Loan_Status']\n",
    "X_train, X_val, y_train, y_val=train_test_split(X, y, test_size=0.2, random_state=42)\n",
    "print(X_train.shape, X_val.shape, y_train.shape, y_val.shape)"
   ]
  },
  {
   "cell_type": "markdown",
   "id": "9e313044-ffe3-4009-9993-3b1717a81dec",
   "metadata": {},
   "source": [
    "# 6. Feature Selection"
   ]
  },
  {
   "cell_type": "code",
   "execution_count": 18,
   "id": "f0830007-0467-4359-b391-3cf51a2afb67",
   "metadata": {},
   "outputs": [
    {
     "name": "stdout",
     "output_type": "stream",
     "text": [
      "8 Index(['Gender', 'Married', 'Dependents', 'Education', 'Credit_History',\n",
      "       'Property_Area', 'LoanAmount', 'Total_Income'],\n",
      "      dtype='object')\n"
     ]
    }
   ],
   "source": [
    "from sklearn.feature_selection import SelectPercentile, chi2\n",
    "selector=SelectPercentile(score_func=chi2, percentile=80)\n",
    "selector.fit(X_train, y_train)\n",
    "X_train_selected=selector.transform(X_train)\n",
    "selected_features=X_train.columns[selector.get_support()]\n",
    "print(len(selected_features), selected_features)"
   ]
  },
  {
   "cell_type": "raw",
   "id": "9b099992-9b0a-4ca8-901b-8af99d3c37f4",
   "metadata": {},
   "source": [
    "Let compare with this our already created significant features list in the previous notebook\n",
    "significant_features=['Married', 'Education', 'Property_Area', 'Credit_History', 'TotalIncome', 'LoanAmount']\n",
    "Let try both one by one. "
   ]
  },
  {
   "cell_type": "code",
   "execution_count": 19,
   "id": "1526b42a-10b3-494b-a11a-71d65461731a",
   "metadata": {},
   "outputs": [
    {
     "data": {
      "text/html": [
       "<div>\n",
       "<style scoped>\n",
       "    .dataframe tbody tr th:only-of-type {\n",
       "        vertical-align: middle;\n",
       "    }\n",
       "\n",
       "    .dataframe tbody tr th {\n",
       "        vertical-align: top;\n",
       "    }\n",
       "\n",
       "    .dataframe thead th {\n",
       "        text-align: right;\n",
       "    }\n",
       "</style>\n",
       "<table border=\"1\" class=\"dataframe\">\n",
       "  <thead>\n",
       "    <tr style=\"text-align: right;\">\n",
       "      <th></th>\n",
       "      <th>Gender</th>\n",
       "      <th>Married</th>\n",
       "      <th>Dependents</th>\n",
       "      <th>Education</th>\n",
       "      <th>Credit_History</th>\n",
       "      <th>Property_Area</th>\n",
       "      <th>LoanAmount</th>\n",
       "      <th>Total_Income</th>\n",
       "    </tr>\n",
       "  </thead>\n",
       "  <tbody>\n",
       "    <tr>\n",
       "      <th>0</th>\n",
       "      <td>1.0</td>\n",
       "      <td>1.0</td>\n",
       "      <td>0.666667</td>\n",
       "      <td>0.0</td>\n",
       "      <td>1.0</td>\n",
       "      <td>1.0</td>\n",
       "      <td>0.747791</td>\n",
       "      <td>0.671845</td>\n",
       "    </tr>\n",
       "    <tr>\n",
       "      <th>1</th>\n",
       "      <td>1.0</td>\n",
       "      <td>1.0</td>\n",
       "      <td>0.333333</td>\n",
       "      <td>1.0</td>\n",
       "      <td>1.0</td>\n",
       "      <td>1.0</td>\n",
       "      <td>0.568461</td>\n",
       "      <td>0.310517</td>\n",
       "    </tr>\n",
       "    <tr>\n",
       "      <th>2</th>\n",
       "      <td>1.0</td>\n",
       "      <td>1.0</td>\n",
       "      <td>0.666667</td>\n",
       "      <td>0.0</td>\n",
       "      <td>0.0</td>\n",
       "      <td>0.5</td>\n",
       "      <td>0.557715</td>\n",
       "      <td>0.158024</td>\n",
       "    </tr>\n",
       "    <tr>\n",
       "      <th>3</th>\n",
       "      <td>0.0</td>\n",
       "      <td>0.0</td>\n",
       "      <td>0.333333</td>\n",
       "      <td>1.0</td>\n",
       "      <td>1.0</td>\n",
       "      <td>0.5</td>\n",
       "      <td>0.433078</td>\n",
       "      <td>0.244806</td>\n",
       "    </tr>\n",
       "    <tr>\n",
       "      <th>4</th>\n",
       "      <td>1.0</td>\n",
       "      <td>1.0</td>\n",
       "      <td>0.000000</td>\n",
       "      <td>0.0</td>\n",
       "      <td>1.0</td>\n",
       "      <td>0.5</td>\n",
       "      <td>0.607121</td>\n",
       "      <td>0.323053</td>\n",
       "    </tr>\n",
       "  </tbody>\n",
       "</table>\n",
       "</div>"
      ],
      "text/plain": [
       "   Gender  Married  Dependents  Education  Credit_History  Property_Area  \\\n",
       "0     1.0      1.0    0.666667        0.0             1.0            1.0   \n",
       "1     1.0      1.0    0.333333        1.0             1.0            1.0   \n",
       "2     1.0      1.0    0.666667        0.0             0.0            0.5   \n",
       "3     0.0      0.0    0.333333        1.0             1.0            0.5   \n",
       "4     1.0      1.0    0.000000        0.0             1.0            0.5   \n",
       "\n",
       "   LoanAmount  Total_Income  \n",
       "0    0.747791      0.671845  \n",
       "1    0.568461      0.310517  \n",
       "2    0.557715      0.158024  \n",
       "3    0.433078      0.244806  \n",
       "4    0.607121      0.323053  "
      ]
     },
     "execution_count": 19,
     "metadata": {},
     "output_type": "execute_result"
    }
   ],
   "source": [
    "X_train_new=pd.DataFrame(X_train_selected, columns=selected_features)\n",
    "X_val_selected=selector.transform(X_val)\n",
    "X_val_new=pd.DataFrame(X_val_selected, columns=selected_features)\n",
    "X_val_new.head()"
   ]
  },
  {
   "cell_type": "code",
   "execution_count": 20,
   "id": "8b59a028-30a2-4900-82f0-a628d310875d",
   "metadata": {},
   "outputs": [
    {
     "data": {
      "text/html": [
       "<div>\n",
       "<style scoped>\n",
       "    .dataframe tbody tr th:only-of-type {\n",
       "        vertical-align: middle;\n",
       "    }\n",
       "\n",
       "    .dataframe tbody tr th {\n",
       "        vertical-align: top;\n",
       "    }\n",
       "\n",
       "    .dataframe thead th {\n",
       "        text-align: right;\n",
       "    }\n",
       "</style>\n",
       "<table border=\"1\" class=\"dataframe\">\n",
       "  <thead>\n",
       "    <tr style=\"text-align: right;\">\n",
       "      <th></th>\n",
       "      <th>Gender</th>\n",
       "      <th>Married</th>\n",
       "      <th>Dependents</th>\n",
       "      <th>Education</th>\n",
       "      <th>Credit_History</th>\n",
       "      <th>Property_Area</th>\n",
       "      <th>LoanAmount</th>\n",
       "      <th>Total_Income</th>\n",
       "    </tr>\n",
       "  </thead>\n",
       "  <tbody>\n",
       "    <tr>\n",
       "      <th>0</th>\n",
       "      <td>0.0</td>\n",
       "      <td>0.0</td>\n",
       "      <td>0.333333</td>\n",
       "      <td>1.0</td>\n",
       "      <td>1.0</td>\n",
       "      <td>0.0</td>\n",
       "      <td>0.495099</td>\n",
       "      <td>0.288215</td>\n",
       "    </tr>\n",
       "    <tr>\n",
       "      <th>1</th>\n",
       "      <td>1.0</td>\n",
       "      <td>1.0</td>\n",
       "      <td>0.000000</td>\n",
       "      <td>1.0</td>\n",
       "      <td>1.0</td>\n",
       "      <td>1.0</td>\n",
       "      <td>0.601711</td>\n",
       "      <td>0.361986</td>\n",
       "    </tr>\n",
       "    <tr>\n",
       "      <th>2</th>\n",
       "      <td>1.0</td>\n",
       "      <td>1.0</td>\n",
       "      <td>0.333333</td>\n",
       "      <td>0.0</td>\n",
       "      <td>0.0</td>\n",
       "      <td>1.0</td>\n",
       "      <td>0.653852</td>\n",
       "      <td>0.570544</td>\n",
       "    </tr>\n",
       "    <tr>\n",
       "      <th>3</th>\n",
       "      <td>1.0</td>\n",
       "      <td>0.0</td>\n",
       "      <td>0.333333</td>\n",
       "      <td>0.0</td>\n",
       "      <td>1.0</td>\n",
       "      <td>1.0</td>\n",
       "      <td>0.572625</td>\n",
       "      <td>0.231624</td>\n",
       "    </tr>\n",
       "    <tr>\n",
       "      <th>4</th>\n",
       "      <td>0.0</td>\n",
       "      <td>0.0</td>\n",
       "      <td>0.333333</td>\n",
       "      <td>0.0</td>\n",
       "      <td>1.0</td>\n",
       "      <td>1.0</td>\n",
       "      <td>0.332003</td>\n",
       "      <td>0.550744</td>\n",
       "    </tr>\n",
       "  </tbody>\n",
       "</table>\n",
       "</div>"
      ],
      "text/plain": [
       "   Gender  Married  Dependents  Education  Credit_History  Property_Area  \\\n",
       "0     0.0      0.0    0.333333        1.0             1.0            0.0   \n",
       "1     1.0      1.0    0.000000        1.0             1.0            1.0   \n",
       "2     1.0      1.0    0.333333        0.0             0.0            1.0   \n",
       "3     1.0      0.0    0.333333        0.0             1.0            1.0   \n",
       "4     0.0      0.0    0.333333        0.0             1.0            1.0   \n",
       "\n",
       "   LoanAmount  Total_Income  \n",
       "0    0.495099      0.288215  \n",
       "1    0.601711      0.361986  \n",
       "2    0.653852      0.570544  \n",
       "3    0.572625      0.231624  \n",
       "4    0.332003      0.550744  "
      ]
     },
     "execution_count": 20,
     "metadata": {},
     "output_type": "execute_result"
    }
   ],
   "source": [
    "X_train_new.head()"
   ]
  },
  {
   "cell_type": "markdown",
   "id": "869de8e1-cfad-4ac7-ac8b-30b88c30dd62",
   "metadata": {},
   "source": [
    "# 7. Model Building"
   ]
  },
  {
   "cell_type": "markdown",
   "id": "2d38b2d9-5939-4201-a34a-bc61c33e770d",
   "metadata": {},
   "source": [
    "## 7.1 Logistic Regression"
   ]
  },
  {
   "cell_type": "code",
   "execution_count": 23,
   "id": "50b19262-8225-4cd4-8141-fe18784ca8f0",
   "metadata": {},
   "outputs": [
    {
     "data": {
      "text/html": [
       "<style>#sk-container-id-1 {\n",
       "  /* Definition of color scheme common for light and dark mode */\n",
       "  --sklearn-color-text: black;\n",
       "  --sklearn-color-line: gray;\n",
       "  /* Definition of color scheme for unfitted estimators */\n",
       "  --sklearn-color-unfitted-level-0: #fff5e6;\n",
       "  --sklearn-color-unfitted-level-1: #f6e4d2;\n",
       "  --sklearn-color-unfitted-level-2: #ffe0b3;\n",
       "  --sklearn-color-unfitted-level-3: chocolate;\n",
       "  /* Definition of color scheme for fitted estimators */\n",
       "  --sklearn-color-fitted-level-0: #f0f8ff;\n",
       "  --sklearn-color-fitted-level-1: #d4ebff;\n",
       "  --sklearn-color-fitted-level-2: #b3dbfd;\n",
       "  --sklearn-color-fitted-level-3: cornflowerblue;\n",
       "\n",
       "  /* Specific color for light theme */\n",
       "  --sklearn-color-text-on-default-background: var(--sg-text-color, var(--theme-code-foreground, var(--jp-content-font-color1, black)));\n",
       "  --sklearn-color-background: var(--sg-background-color, var(--theme-background, var(--jp-layout-color0, white)));\n",
       "  --sklearn-color-border-box: var(--sg-text-color, var(--theme-code-foreground, var(--jp-content-font-color1, black)));\n",
       "  --sklearn-color-icon: #696969;\n",
       "\n",
       "  @media (prefers-color-scheme: dark) {\n",
       "    /* Redefinition of color scheme for dark theme */\n",
       "    --sklearn-color-text-on-default-background: var(--sg-text-color, var(--theme-code-foreground, var(--jp-content-font-color1, white)));\n",
       "    --sklearn-color-background: var(--sg-background-color, var(--theme-background, var(--jp-layout-color0, #111)));\n",
       "    --sklearn-color-border-box: var(--sg-text-color, var(--theme-code-foreground, var(--jp-content-font-color1, white)));\n",
       "    --sklearn-color-icon: #878787;\n",
       "  }\n",
       "}\n",
       "\n",
       "#sk-container-id-1 {\n",
       "  color: var(--sklearn-color-text);\n",
       "}\n",
       "\n",
       "#sk-container-id-1 pre {\n",
       "  padding: 0;\n",
       "}\n",
       "\n",
       "#sk-container-id-1 input.sk-hidden--visually {\n",
       "  border: 0;\n",
       "  clip: rect(1px 1px 1px 1px);\n",
       "  clip: rect(1px, 1px, 1px, 1px);\n",
       "  height: 1px;\n",
       "  margin: -1px;\n",
       "  overflow: hidden;\n",
       "  padding: 0;\n",
       "  position: absolute;\n",
       "  width: 1px;\n",
       "}\n",
       "\n",
       "#sk-container-id-1 div.sk-dashed-wrapped {\n",
       "  border: 1px dashed var(--sklearn-color-line);\n",
       "  margin: 0 0.4em 0.5em 0.4em;\n",
       "  box-sizing: border-box;\n",
       "  padding-bottom: 0.4em;\n",
       "  background-color: var(--sklearn-color-background);\n",
       "}\n",
       "\n",
       "#sk-container-id-1 div.sk-container {\n",
       "  /* jupyter's `normalize.less` sets `[hidden] { display: none; }`\n",
       "     but bootstrap.min.css set `[hidden] { display: none !important; }`\n",
       "     so we also need the `!important` here to be able to override the\n",
       "     default hidden behavior on the sphinx rendered scikit-learn.org.\n",
       "     See: https://github.com/scikit-learn/scikit-learn/issues/21755 */\n",
       "  display: inline-block !important;\n",
       "  position: relative;\n",
       "}\n",
       "\n",
       "#sk-container-id-1 div.sk-text-repr-fallback {\n",
       "  display: none;\n",
       "}\n",
       "\n",
       "div.sk-parallel-item,\n",
       "div.sk-serial,\n",
       "div.sk-item {\n",
       "  /* draw centered vertical line to link estimators */\n",
       "  background-image: linear-gradient(var(--sklearn-color-text-on-default-background), var(--sklearn-color-text-on-default-background));\n",
       "  background-size: 2px 100%;\n",
       "  background-repeat: no-repeat;\n",
       "  background-position: center center;\n",
       "}\n",
       "\n",
       "/* Parallel-specific style estimator block */\n",
       "\n",
       "#sk-container-id-1 div.sk-parallel-item::after {\n",
       "  content: \"\";\n",
       "  width: 100%;\n",
       "  border-bottom: 2px solid var(--sklearn-color-text-on-default-background);\n",
       "  flex-grow: 1;\n",
       "}\n",
       "\n",
       "#sk-container-id-1 div.sk-parallel {\n",
       "  display: flex;\n",
       "  align-items: stretch;\n",
       "  justify-content: center;\n",
       "  background-color: var(--sklearn-color-background);\n",
       "  position: relative;\n",
       "}\n",
       "\n",
       "#sk-container-id-1 div.sk-parallel-item {\n",
       "  display: flex;\n",
       "  flex-direction: column;\n",
       "}\n",
       "\n",
       "#sk-container-id-1 div.sk-parallel-item:first-child::after {\n",
       "  align-self: flex-end;\n",
       "  width: 50%;\n",
       "}\n",
       "\n",
       "#sk-container-id-1 div.sk-parallel-item:last-child::after {\n",
       "  align-self: flex-start;\n",
       "  width: 50%;\n",
       "}\n",
       "\n",
       "#sk-container-id-1 div.sk-parallel-item:only-child::after {\n",
       "  width: 0;\n",
       "}\n",
       "\n",
       "/* Serial-specific style estimator block */\n",
       "\n",
       "#sk-container-id-1 div.sk-serial {\n",
       "  display: flex;\n",
       "  flex-direction: column;\n",
       "  align-items: center;\n",
       "  background-color: var(--sklearn-color-background);\n",
       "  padding-right: 1em;\n",
       "  padding-left: 1em;\n",
       "}\n",
       "\n",
       "\n",
       "/* Toggleable style: style used for estimator/Pipeline/ColumnTransformer box that is\n",
       "clickable and can be expanded/collapsed.\n",
       "- Pipeline and ColumnTransformer use this feature and define the default style\n",
       "- Estimators will overwrite some part of the style using the `sk-estimator` class\n",
       "*/\n",
       "\n",
       "/* Pipeline and ColumnTransformer style (default) */\n",
       "\n",
       "#sk-container-id-1 div.sk-toggleable {\n",
       "  /* Default theme specific background. It is overwritten whether we have a\n",
       "  specific estimator or a Pipeline/ColumnTransformer */\n",
       "  background-color: var(--sklearn-color-background);\n",
       "}\n",
       "\n",
       "/* Toggleable label */\n",
       "#sk-container-id-1 label.sk-toggleable__label {\n",
       "  cursor: pointer;\n",
       "  display: block;\n",
       "  width: 100%;\n",
       "  margin-bottom: 0;\n",
       "  padding: 0.5em;\n",
       "  box-sizing: border-box;\n",
       "  text-align: center;\n",
       "}\n",
       "\n",
       "#sk-container-id-1 label.sk-toggleable__label-arrow:before {\n",
       "  /* Arrow on the left of the label */\n",
       "  content: \"▸\";\n",
       "  float: left;\n",
       "  margin-right: 0.25em;\n",
       "  color: var(--sklearn-color-icon);\n",
       "}\n",
       "\n",
       "#sk-container-id-1 label.sk-toggleable__label-arrow:hover:before {\n",
       "  color: var(--sklearn-color-text);\n",
       "}\n",
       "\n",
       "/* Toggleable content - dropdown */\n",
       "\n",
       "#sk-container-id-1 div.sk-toggleable__content {\n",
       "  max-height: 0;\n",
       "  max-width: 0;\n",
       "  overflow: hidden;\n",
       "  text-align: left;\n",
       "  /* unfitted */\n",
       "  background-color: var(--sklearn-color-unfitted-level-0);\n",
       "}\n",
       "\n",
       "#sk-container-id-1 div.sk-toggleable__content.fitted {\n",
       "  /* fitted */\n",
       "  background-color: var(--sklearn-color-fitted-level-0);\n",
       "}\n",
       "\n",
       "#sk-container-id-1 div.sk-toggleable__content pre {\n",
       "  margin: 0.2em;\n",
       "  border-radius: 0.25em;\n",
       "  color: var(--sklearn-color-text);\n",
       "  /* unfitted */\n",
       "  background-color: var(--sklearn-color-unfitted-level-0);\n",
       "}\n",
       "\n",
       "#sk-container-id-1 div.sk-toggleable__content.fitted pre {\n",
       "  /* unfitted */\n",
       "  background-color: var(--sklearn-color-fitted-level-0);\n",
       "}\n",
       "\n",
       "#sk-container-id-1 input.sk-toggleable__control:checked~div.sk-toggleable__content {\n",
       "  /* Expand drop-down */\n",
       "  max-height: 200px;\n",
       "  max-width: 100%;\n",
       "  overflow: auto;\n",
       "}\n",
       "\n",
       "#sk-container-id-1 input.sk-toggleable__control:checked~label.sk-toggleable__label-arrow:before {\n",
       "  content: \"▾\";\n",
       "}\n",
       "\n",
       "/* Pipeline/ColumnTransformer-specific style */\n",
       "\n",
       "#sk-container-id-1 div.sk-label input.sk-toggleable__control:checked~label.sk-toggleable__label {\n",
       "  color: var(--sklearn-color-text);\n",
       "  background-color: var(--sklearn-color-unfitted-level-2);\n",
       "}\n",
       "\n",
       "#sk-container-id-1 div.sk-label.fitted input.sk-toggleable__control:checked~label.sk-toggleable__label {\n",
       "  background-color: var(--sklearn-color-fitted-level-2);\n",
       "}\n",
       "\n",
       "/* Estimator-specific style */\n",
       "\n",
       "/* Colorize estimator box */\n",
       "#sk-container-id-1 div.sk-estimator input.sk-toggleable__control:checked~label.sk-toggleable__label {\n",
       "  /* unfitted */\n",
       "  background-color: var(--sklearn-color-unfitted-level-2);\n",
       "}\n",
       "\n",
       "#sk-container-id-1 div.sk-estimator.fitted input.sk-toggleable__control:checked~label.sk-toggleable__label {\n",
       "  /* fitted */\n",
       "  background-color: var(--sklearn-color-fitted-level-2);\n",
       "}\n",
       "\n",
       "#sk-container-id-1 div.sk-label label.sk-toggleable__label,\n",
       "#sk-container-id-1 div.sk-label label {\n",
       "  /* The background is the default theme color */\n",
       "  color: var(--sklearn-color-text-on-default-background);\n",
       "}\n",
       "\n",
       "/* On hover, darken the color of the background */\n",
       "#sk-container-id-1 div.sk-label:hover label.sk-toggleable__label {\n",
       "  color: var(--sklearn-color-text);\n",
       "  background-color: var(--sklearn-color-unfitted-level-2);\n",
       "}\n",
       "\n",
       "/* Label box, darken color on hover, fitted */\n",
       "#sk-container-id-1 div.sk-label.fitted:hover label.sk-toggleable__label.fitted {\n",
       "  color: var(--sklearn-color-text);\n",
       "  background-color: var(--sklearn-color-fitted-level-2);\n",
       "}\n",
       "\n",
       "/* Estimator label */\n",
       "\n",
       "#sk-container-id-1 div.sk-label label {\n",
       "  font-family: monospace;\n",
       "  font-weight: bold;\n",
       "  display: inline-block;\n",
       "  line-height: 1.2em;\n",
       "}\n",
       "\n",
       "#sk-container-id-1 div.sk-label-container {\n",
       "  text-align: center;\n",
       "}\n",
       "\n",
       "/* Estimator-specific */\n",
       "#sk-container-id-1 div.sk-estimator {\n",
       "  font-family: monospace;\n",
       "  border: 1px dotted var(--sklearn-color-border-box);\n",
       "  border-radius: 0.25em;\n",
       "  box-sizing: border-box;\n",
       "  margin-bottom: 0.5em;\n",
       "  /* unfitted */\n",
       "  background-color: var(--sklearn-color-unfitted-level-0);\n",
       "}\n",
       "\n",
       "#sk-container-id-1 div.sk-estimator.fitted {\n",
       "  /* fitted */\n",
       "  background-color: var(--sklearn-color-fitted-level-0);\n",
       "}\n",
       "\n",
       "/* on hover */\n",
       "#sk-container-id-1 div.sk-estimator:hover {\n",
       "  /* unfitted */\n",
       "  background-color: var(--sklearn-color-unfitted-level-2);\n",
       "}\n",
       "\n",
       "#sk-container-id-1 div.sk-estimator.fitted:hover {\n",
       "  /* fitted */\n",
       "  background-color: var(--sklearn-color-fitted-level-2);\n",
       "}\n",
       "\n",
       "/* Specification for estimator info (e.g. \"i\" and \"?\") */\n",
       "\n",
       "/* Common style for \"i\" and \"?\" */\n",
       "\n",
       ".sk-estimator-doc-link,\n",
       "a:link.sk-estimator-doc-link,\n",
       "a:visited.sk-estimator-doc-link {\n",
       "  float: right;\n",
       "  font-size: smaller;\n",
       "  line-height: 1em;\n",
       "  font-family: monospace;\n",
       "  background-color: var(--sklearn-color-background);\n",
       "  border-radius: 1em;\n",
       "  height: 1em;\n",
       "  width: 1em;\n",
       "  text-decoration: none !important;\n",
       "  margin-left: 1ex;\n",
       "  /* unfitted */\n",
       "  border: var(--sklearn-color-unfitted-level-1) 1pt solid;\n",
       "  color: var(--sklearn-color-unfitted-level-1);\n",
       "}\n",
       "\n",
       ".sk-estimator-doc-link.fitted,\n",
       "a:link.sk-estimator-doc-link.fitted,\n",
       "a:visited.sk-estimator-doc-link.fitted {\n",
       "  /* fitted */\n",
       "  border: var(--sklearn-color-fitted-level-1) 1pt solid;\n",
       "  color: var(--sklearn-color-fitted-level-1);\n",
       "}\n",
       "\n",
       "/* On hover */\n",
       "div.sk-estimator:hover .sk-estimator-doc-link:hover,\n",
       ".sk-estimator-doc-link:hover,\n",
       "div.sk-label-container:hover .sk-estimator-doc-link:hover,\n",
       ".sk-estimator-doc-link:hover {\n",
       "  /* unfitted */\n",
       "  background-color: var(--sklearn-color-unfitted-level-3);\n",
       "  color: var(--sklearn-color-background);\n",
       "  text-decoration: none;\n",
       "}\n",
       "\n",
       "div.sk-estimator.fitted:hover .sk-estimator-doc-link.fitted:hover,\n",
       ".sk-estimator-doc-link.fitted:hover,\n",
       "div.sk-label-container:hover .sk-estimator-doc-link.fitted:hover,\n",
       ".sk-estimator-doc-link.fitted:hover {\n",
       "  /* fitted */\n",
       "  background-color: var(--sklearn-color-fitted-level-3);\n",
       "  color: var(--sklearn-color-background);\n",
       "  text-decoration: none;\n",
       "}\n",
       "\n",
       "/* Span, style for the box shown on hovering the info icon */\n",
       ".sk-estimator-doc-link span {\n",
       "  display: none;\n",
       "  z-index: 9999;\n",
       "  position: relative;\n",
       "  font-weight: normal;\n",
       "  right: .2ex;\n",
       "  padding: .5ex;\n",
       "  margin: .5ex;\n",
       "  width: min-content;\n",
       "  min-width: 20ex;\n",
       "  max-width: 50ex;\n",
       "  color: var(--sklearn-color-text);\n",
       "  box-shadow: 2pt 2pt 4pt #999;\n",
       "  /* unfitted */\n",
       "  background: var(--sklearn-color-unfitted-level-0);\n",
       "  border: .5pt solid var(--sklearn-color-unfitted-level-3);\n",
       "}\n",
       "\n",
       ".sk-estimator-doc-link.fitted span {\n",
       "  /* fitted */\n",
       "  background: var(--sklearn-color-fitted-level-0);\n",
       "  border: var(--sklearn-color-fitted-level-3);\n",
       "}\n",
       "\n",
       ".sk-estimator-doc-link:hover span {\n",
       "  display: block;\n",
       "}\n",
       "\n",
       "/* \"?\"-specific style due to the `<a>` HTML tag */\n",
       "\n",
       "#sk-container-id-1 a.estimator_doc_link {\n",
       "  float: right;\n",
       "  font-size: 1rem;\n",
       "  line-height: 1em;\n",
       "  font-family: monospace;\n",
       "  background-color: var(--sklearn-color-background);\n",
       "  border-radius: 1rem;\n",
       "  height: 1rem;\n",
       "  width: 1rem;\n",
       "  text-decoration: none;\n",
       "  /* unfitted */\n",
       "  color: var(--sklearn-color-unfitted-level-1);\n",
       "  border: var(--sklearn-color-unfitted-level-1) 1pt solid;\n",
       "}\n",
       "\n",
       "#sk-container-id-1 a.estimator_doc_link.fitted {\n",
       "  /* fitted */\n",
       "  border: var(--sklearn-color-fitted-level-1) 1pt solid;\n",
       "  color: var(--sklearn-color-fitted-level-1);\n",
       "}\n",
       "\n",
       "/* On hover */\n",
       "#sk-container-id-1 a.estimator_doc_link:hover {\n",
       "  /* unfitted */\n",
       "  background-color: var(--sklearn-color-unfitted-level-3);\n",
       "  color: var(--sklearn-color-background);\n",
       "  text-decoration: none;\n",
       "}\n",
       "\n",
       "#sk-container-id-1 a.estimator_doc_link.fitted:hover {\n",
       "  /* fitted */\n",
       "  background-color: var(--sklearn-color-fitted-level-3);\n",
       "}\n",
       "</style><div id=\"sk-container-id-1\" class=\"sk-top-container\"><div class=\"sk-text-repr-fallback\"><pre>LogisticRegression(random_state=42)</pre><b>In a Jupyter environment, please rerun this cell to show the HTML representation or trust the notebook. <br />On GitHub, the HTML representation is unable to render, please try loading this page with nbviewer.org.</b></div><div class=\"sk-container\" hidden><div class=\"sk-item\"><div class=\"sk-estimator fitted sk-toggleable\"><input class=\"sk-toggleable__control sk-hidden--visually\" id=\"sk-estimator-id-1\" type=\"checkbox\" checked><label for=\"sk-estimator-id-1\" class=\"sk-toggleable__label fitted sk-toggleable__label-arrow fitted\">&nbsp;&nbsp;LogisticRegression<a class=\"sk-estimator-doc-link fitted\" rel=\"noreferrer\" target=\"_blank\" href=\"https://scikit-learn.org/1.4/modules/generated/sklearn.linear_model.LogisticRegression.html\">?<span>Documentation for LogisticRegression</span></a><span class=\"sk-estimator-doc-link fitted\">i<span>Fitted</span></span></label><div class=\"sk-toggleable__content fitted\"><pre>LogisticRegression(random_state=42)</pre></div> </div></div></div></div>"
      ],
      "text/plain": [
       "LogisticRegression(random_state=42)"
      ]
     },
     "execution_count": 23,
     "metadata": {},
     "output_type": "execute_result"
    }
   ],
   "source": [
    "from sklearn.linear_model import LogisticRegression\n",
    "clf=LogisticRegression(random_state=42)\n",
    "clf.fit(X_train_new, y_train)"
   ]
  },
  {
   "cell_type": "code",
   "execution_count": 24,
   "id": "6f122225-7e52-429b-8e95-4aaadf845176",
   "metadata": {},
   "outputs": [
    {
     "name": "stdout",
     "output_type": "stream",
     "text": [
      "[1 1 0 0 1 1 0 1 1 1]\n"
     ]
    }
   ],
   "source": [
    "y_pred=clf.predict(X_val_new)\n",
    "print(y_pred[:10])"
   ]
  },
  {
   "cell_type": "code",
   "execution_count": 25,
   "id": "f84eedbc-9bb8-44e7-89dc-ef203effc319",
   "metadata": {},
   "outputs": [
    {
     "name": "stdout",
     "output_type": "stream",
     "text": [
      "0.7455621301775148\n"
     ]
    }
   ],
   "source": [
    "print(clf.score(X_val_new, y_val))"
   ]
  },
  {
   "cell_type": "code",
   "execution_count": 26,
   "id": "64da20df-3fc5-4303-a315-677285a1a25f",
   "metadata": {},
   "outputs": [
    {
     "name": "stdout",
     "output_type": "stream",
     "text": [
      "{'C': 10.0, 'max_iter': 100, 'penalty': 'l2', 'solver': 'saga'}\n",
      "Model1:  LogisticRegression(C=10.0, random_state=42, solver='saga')\n"
     ]
    }
   ],
   "source": [
    "from sklearn.model_selection import GridSearchCV\n",
    "param_grid={\n",
    "    'C':[0.01, 0.1, 1.0, 10.0],\n",
    "    'solver':['saga', 'liblinear'],\n",
    "    'penalty':['l1', 'l2'],\n",
    "    'max_iter': [100, 200, 300, 500,1000]\n",
    "    }\n",
    "grid_search=GridSearchCV(clf, param_grid, cv=5, scoring='accuracy')\n",
    "grid_search.fit(X_train_new, y_train)\n",
    "best_params=grid_search.best_params_\n",
    "model1=grid_search.best_estimator_\n",
    "print(best_params)\n",
    "print('Model1: ', model1)"
   ]
  },
  {
   "cell_type": "code",
   "execution_count": 27,
   "id": "5ee4b570-8f75-4257-8909-5d3d6f9b4775",
   "metadata": {},
   "outputs": [
    {
     "name": "stdout",
     "output_type": "stream",
     "text": [
      "0.7514792899408284\n"
     ]
    }
   ],
   "source": [
    "print(model1.score(X_val_new, y_val))"
   ]
  },
  {
   "cell_type": "markdown",
   "id": "5bcb7364-0026-47f1-b573-80598a9e62a8",
   "metadata": {},
   "source": [
    "## 7.2 RandomForest Classifier"
   ]
  },
  {
   "cell_type": "code",
   "execution_count": 29,
   "id": "b1374d7c-94fc-4387-ad85-78d16f1e2f3f",
   "metadata": {},
   "outputs": [
    {
     "data": {
      "text/html": [
       "<style>#sk-container-id-2 {\n",
       "  /* Definition of color scheme common for light and dark mode */\n",
       "  --sklearn-color-text: black;\n",
       "  --sklearn-color-line: gray;\n",
       "  /* Definition of color scheme for unfitted estimators */\n",
       "  --sklearn-color-unfitted-level-0: #fff5e6;\n",
       "  --sklearn-color-unfitted-level-1: #f6e4d2;\n",
       "  --sklearn-color-unfitted-level-2: #ffe0b3;\n",
       "  --sklearn-color-unfitted-level-3: chocolate;\n",
       "  /* Definition of color scheme for fitted estimators */\n",
       "  --sklearn-color-fitted-level-0: #f0f8ff;\n",
       "  --sklearn-color-fitted-level-1: #d4ebff;\n",
       "  --sklearn-color-fitted-level-2: #b3dbfd;\n",
       "  --sklearn-color-fitted-level-3: cornflowerblue;\n",
       "\n",
       "  /* Specific color for light theme */\n",
       "  --sklearn-color-text-on-default-background: var(--sg-text-color, var(--theme-code-foreground, var(--jp-content-font-color1, black)));\n",
       "  --sklearn-color-background: var(--sg-background-color, var(--theme-background, var(--jp-layout-color0, white)));\n",
       "  --sklearn-color-border-box: var(--sg-text-color, var(--theme-code-foreground, var(--jp-content-font-color1, black)));\n",
       "  --sklearn-color-icon: #696969;\n",
       "\n",
       "  @media (prefers-color-scheme: dark) {\n",
       "    /* Redefinition of color scheme for dark theme */\n",
       "    --sklearn-color-text-on-default-background: var(--sg-text-color, var(--theme-code-foreground, var(--jp-content-font-color1, white)));\n",
       "    --sklearn-color-background: var(--sg-background-color, var(--theme-background, var(--jp-layout-color0, #111)));\n",
       "    --sklearn-color-border-box: var(--sg-text-color, var(--theme-code-foreground, var(--jp-content-font-color1, white)));\n",
       "    --sklearn-color-icon: #878787;\n",
       "  }\n",
       "}\n",
       "\n",
       "#sk-container-id-2 {\n",
       "  color: var(--sklearn-color-text);\n",
       "}\n",
       "\n",
       "#sk-container-id-2 pre {\n",
       "  padding: 0;\n",
       "}\n",
       "\n",
       "#sk-container-id-2 input.sk-hidden--visually {\n",
       "  border: 0;\n",
       "  clip: rect(1px 1px 1px 1px);\n",
       "  clip: rect(1px, 1px, 1px, 1px);\n",
       "  height: 1px;\n",
       "  margin: -1px;\n",
       "  overflow: hidden;\n",
       "  padding: 0;\n",
       "  position: absolute;\n",
       "  width: 1px;\n",
       "}\n",
       "\n",
       "#sk-container-id-2 div.sk-dashed-wrapped {\n",
       "  border: 1px dashed var(--sklearn-color-line);\n",
       "  margin: 0 0.4em 0.5em 0.4em;\n",
       "  box-sizing: border-box;\n",
       "  padding-bottom: 0.4em;\n",
       "  background-color: var(--sklearn-color-background);\n",
       "}\n",
       "\n",
       "#sk-container-id-2 div.sk-container {\n",
       "  /* jupyter's `normalize.less` sets `[hidden] { display: none; }`\n",
       "     but bootstrap.min.css set `[hidden] { display: none !important; }`\n",
       "     so we also need the `!important` here to be able to override the\n",
       "     default hidden behavior on the sphinx rendered scikit-learn.org.\n",
       "     See: https://github.com/scikit-learn/scikit-learn/issues/21755 */\n",
       "  display: inline-block !important;\n",
       "  position: relative;\n",
       "}\n",
       "\n",
       "#sk-container-id-2 div.sk-text-repr-fallback {\n",
       "  display: none;\n",
       "}\n",
       "\n",
       "div.sk-parallel-item,\n",
       "div.sk-serial,\n",
       "div.sk-item {\n",
       "  /* draw centered vertical line to link estimators */\n",
       "  background-image: linear-gradient(var(--sklearn-color-text-on-default-background), var(--sklearn-color-text-on-default-background));\n",
       "  background-size: 2px 100%;\n",
       "  background-repeat: no-repeat;\n",
       "  background-position: center center;\n",
       "}\n",
       "\n",
       "/* Parallel-specific style estimator block */\n",
       "\n",
       "#sk-container-id-2 div.sk-parallel-item::after {\n",
       "  content: \"\";\n",
       "  width: 100%;\n",
       "  border-bottom: 2px solid var(--sklearn-color-text-on-default-background);\n",
       "  flex-grow: 1;\n",
       "}\n",
       "\n",
       "#sk-container-id-2 div.sk-parallel {\n",
       "  display: flex;\n",
       "  align-items: stretch;\n",
       "  justify-content: center;\n",
       "  background-color: var(--sklearn-color-background);\n",
       "  position: relative;\n",
       "}\n",
       "\n",
       "#sk-container-id-2 div.sk-parallel-item {\n",
       "  display: flex;\n",
       "  flex-direction: column;\n",
       "}\n",
       "\n",
       "#sk-container-id-2 div.sk-parallel-item:first-child::after {\n",
       "  align-self: flex-end;\n",
       "  width: 50%;\n",
       "}\n",
       "\n",
       "#sk-container-id-2 div.sk-parallel-item:last-child::after {\n",
       "  align-self: flex-start;\n",
       "  width: 50%;\n",
       "}\n",
       "\n",
       "#sk-container-id-2 div.sk-parallel-item:only-child::after {\n",
       "  width: 0;\n",
       "}\n",
       "\n",
       "/* Serial-specific style estimator block */\n",
       "\n",
       "#sk-container-id-2 div.sk-serial {\n",
       "  display: flex;\n",
       "  flex-direction: column;\n",
       "  align-items: center;\n",
       "  background-color: var(--sklearn-color-background);\n",
       "  padding-right: 1em;\n",
       "  padding-left: 1em;\n",
       "}\n",
       "\n",
       "\n",
       "/* Toggleable style: style used for estimator/Pipeline/ColumnTransformer box that is\n",
       "clickable and can be expanded/collapsed.\n",
       "- Pipeline and ColumnTransformer use this feature and define the default style\n",
       "- Estimators will overwrite some part of the style using the `sk-estimator` class\n",
       "*/\n",
       "\n",
       "/* Pipeline and ColumnTransformer style (default) */\n",
       "\n",
       "#sk-container-id-2 div.sk-toggleable {\n",
       "  /* Default theme specific background. It is overwritten whether we have a\n",
       "  specific estimator or a Pipeline/ColumnTransformer */\n",
       "  background-color: var(--sklearn-color-background);\n",
       "}\n",
       "\n",
       "/* Toggleable label */\n",
       "#sk-container-id-2 label.sk-toggleable__label {\n",
       "  cursor: pointer;\n",
       "  display: block;\n",
       "  width: 100%;\n",
       "  margin-bottom: 0;\n",
       "  padding: 0.5em;\n",
       "  box-sizing: border-box;\n",
       "  text-align: center;\n",
       "}\n",
       "\n",
       "#sk-container-id-2 label.sk-toggleable__label-arrow:before {\n",
       "  /* Arrow on the left of the label */\n",
       "  content: \"▸\";\n",
       "  float: left;\n",
       "  margin-right: 0.25em;\n",
       "  color: var(--sklearn-color-icon);\n",
       "}\n",
       "\n",
       "#sk-container-id-2 label.sk-toggleable__label-arrow:hover:before {\n",
       "  color: var(--sklearn-color-text);\n",
       "}\n",
       "\n",
       "/* Toggleable content - dropdown */\n",
       "\n",
       "#sk-container-id-2 div.sk-toggleable__content {\n",
       "  max-height: 0;\n",
       "  max-width: 0;\n",
       "  overflow: hidden;\n",
       "  text-align: left;\n",
       "  /* unfitted */\n",
       "  background-color: var(--sklearn-color-unfitted-level-0);\n",
       "}\n",
       "\n",
       "#sk-container-id-2 div.sk-toggleable__content.fitted {\n",
       "  /* fitted */\n",
       "  background-color: var(--sklearn-color-fitted-level-0);\n",
       "}\n",
       "\n",
       "#sk-container-id-2 div.sk-toggleable__content pre {\n",
       "  margin: 0.2em;\n",
       "  border-radius: 0.25em;\n",
       "  color: var(--sklearn-color-text);\n",
       "  /* unfitted */\n",
       "  background-color: var(--sklearn-color-unfitted-level-0);\n",
       "}\n",
       "\n",
       "#sk-container-id-2 div.sk-toggleable__content.fitted pre {\n",
       "  /* unfitted */\n",
       "  background-color: var(--sklearn-color-fitted-level-0);\n",
       "}\n",
       "\n",
       "#sk-container-id-2 input.sk-toggleable__control:checked~div.sk-toggleable__content {\n",
       "  /* Expand drop-down */\n",
       "  max-height: 200px;\n",
       "  max-width: 100%;\n",
       "  overflow: auto;\n",
       "}\n",
       "\n",
       "#sk-container-id-2 input.sk-toggleable__control:checked~label.sk-toggleable__label-arrow:before {\n",
       "  content: \"▾\";\n",
       "}\n",
       "\n",
       "/* Pipeline/ColumnTransformer-specific style */\n",
       "\n",
       "#sk-container-id-2 div.sk-label input.sk-toggleable__control:checked~label.sk-toggleable__label {\n",
       "  color: var(--sklearn-color-text);\n",
       "  background-color: var(--sklearn-color-unfitted-level-2);\n",
       "}\n",
       "\n",
       "#sk-container-id-2 div.sk-label.fitted input.sk-toggleable__control:checked~label.sk-toggleable__label {\n",
       "  background-color: var(--sklearn-color-fitted-level-2);\n",
       "}\n",
       "\n",
       "/* Estimator-specific style */\n",
       "\n",
       "/* Colorize estimator box */\n",
       "#sk-container-id-2 div.sk-estimator input.sk-toggleable__control:checked~label.sk-toggleable__label {\n",
       "  /* unfitted */\n",
       "  background-color: var(--sklearn-color-unfitted-level-2);\n",
       "}\n",
       "\n",
       "#sk-container-id-2 div.sk-estimator.fitted input.sk-toggleable__control:checked~label.sk-toggleable__label {\n",
       "  /* fitted */\n",
       "  background-color: var(--sklearn-color-fitted-level-2);\n",
       "}\n",
       "\n",
       "#sk-container-id-2 div.sk-label label.sk-toggleable__label,\n",
       "#sk-container-id-2 div.sk-label label {\n",
       "  /* The background is the default theme color */\n",
       "  color: var(--sklearn-color-text-on-default-background);\n",
       "}\n",
       "\n",
       "/* On hover, darken the color of the background */\n",
       "#sk-container-id-2 div.sk-label:hover label.sk-toggleable__label {\n",
       "  color: var(--sklearn-color-text);\n",
       "  background-color: var(--sklearn-color-unfitted-level-2);\n",
       "}\n",
       "\n",
       "/* Label box, darken color on hover, fitted */\n",
       "#sk-container-id-2 div.sk-label.fitted:hover label.sk-toggleable__label.fitted {\n",
       "  color: var(--sklearn-color-text);\n",
       "  background-color: var(--sklearn-color-fitted-level-2);\n",
       "}\n",
       "\n",
       "/* Estimator label */\n",
       "\n",
       "#sk-container-id-2 div.sk-label label {\n",
       "  font-family: monospace;\n",
       "  font-weight: bold;\n",
       "  display: inline-block;\n",
       "  line-height: 1.2em;\n",
       "}\n",
       "\n",
       "#sk-container-id-2 div.sk-label-container {\n",
       "  text-align: center;\n",
       "}\n",
       "\n",
       "/* Estimator-specific */\n",
       "#sk-container-id-2 div.sk-estimator {\n",
       "  font-family: monospace;\n",
       "  border: 1px dotted var(--sklearn-color-border-box);\n",
       "  border-radius: 0.25em;\n",
       "  box-sizing: border-box;\n",
       "  margin-bottom: 0.5em;\n",
       "  /* unfitted */\n",
       "  background-color: var(--sklearn-color-unfitted-level-0);\n",
       "}\n",
       "\n",
       "#sk-container-id-2 div.sk-estimator.fitted {\n",
       "  /* fitted */\n",
       "  background-color: var(--sklearn-color-fitted-level-0);\n",
       "}\n",
       "\n",
       "/* on hover */\n",
       "#sk-container-id-2 div.sk-estimator:hover {\n",
       "  /* unfitted */\n",
       "  background-color: var(--sklearn-color-unfitted-level-2);\n",
       "}\n",
       "\n",
       "#sk-container-id-2 div.sk-estimator.fitted:hover {\n",
       "  /* fitted */\n",
       "  background-color: var(--sklearn-color-fitted-level-2);\n",
       "}\n",
       "\n",
       "/* Specification for estimator info (e.g. \"i\" and \"?\") */\n",
       "\n",
       "/* Common style for \"i\" and \"?\" */\n",
       "\n",
       ".sk-estimator-doc-link,\n",
       "a:link.sk-estimator-doc-link,\n",
       "a:visited.sk-estimator-doc-link {\n",
       "  float: right;\n",
       "  font-size: smaller;\n",
       "  line-height: 1em;\n",
       "  font-family: monospace;\n",
       "  background-color: var(--sklearn-color-background);\n",
       "  border-radius: 1em;\n",
       "  height: 1em;\n",
       "  width: 1em;\n",
       "  text-decoration: none !important;\n",
       "  margin-left: 1ex;\n",
       "  /* unfitted */\n",
       "  border: var(--sklearn-color-unfitted-level-1) 1pt solid;\n",
       "  color: var(--sklearn-color-unfitted-level-1);\n",
       "}\n",
       "\n",
       ".sk-estimator-doc-link.fitted,\n",
       "a:link.sk-estimator-doc-link.fitted,\n",
       "a:visited.sk-estimator-doc-link.fitted {\n",
       "  /* fitted */\n",
       "  border: var(--sklearn-color-fitted-level-1) 1pt solid;\n",
       "  color: var(--sklearn-color-fitted-level-1);\n",
       "}\n",
       "\n",
       "/* On hover */\n",
       "div.sk-estimator:hover .sk-estimator-doc-link:hover,\n",
       ".sk-estimator-doc-link:hover,\n",
       "div.sk-label-container:hover .sk-estimator-doc-link:hover,\n",
       ".sk-estimator-doc-link:hover {\n",
       "  /* unfitted */\n",
       "  background-color: var(--sklearn-color-unfitted-level-3);\n",
       "  color: var(--sklearn-color-background);\n",
       "  text-decoration: none;\n",
       "}\n",
       "\n",
       "div.sk-estimator.fitted:hover .sk-estimator-doc-link.fitted:hover,\n",
       ".sk-estimator-doc-link.fitted:hover,\n",
       "div.sk-label-container:hover .sk-estimator-doc-link.fitted:hover,\n",
       ".sk-estimator-doc-link.fitted:hover {\n",
       "  /* fitted */\n",
       "  background-color: var(--sklearn-color-fitted-level-3);\n",
       "  color: var(--sklearn-color-background);\n",
       "  text-decoration: none;\n",
       "}\n",
       "\n",
       "/* Span, style for the box shown on hovering the info icon */\n",
       ".sk-estimator-doc-link span {\n",
       "  display: none;\n",
       "  z-index: 9999;\n",
       "  position: relative;\n",
       "  font-weight: normal;\n",
       "  right: .2ex;\n",
       "  padding: .5ex;\n",
       "  margin: .5ex;\n",
       "  width: min-content;\n",
       "  min-width: 20ex;\n",
       "  max-width: 50ex;\n",
       "  color: var(--sklearn-color-text);\n",
       "  box-shadow: 2pt 2pt 4pt #999;\n",
       "  /* unfitted */\n",
       "  background: var(--sklearn-color-unfitted-level-0);\n",
       "  border: .5pt solid var(--sklearn-color-unfitted-level-3);\n",
       "}\n",
       "\n",
       ".sk-estimator-doc-link.fitted span {\n",
       "  /* fitted */\n",
       "  background: var(--sklearn-color-fitted-level-0);\n",
       "  border: var(--sklearn-color-fitted-level-3);\n",
       "}\n",
       "\n",
       ".sk-estimator-doc-link:hover span {\n",
       "  display: block;\n",
       "}\n",
       "\n",
       "/* \"?\"-specific style due to the `<a>` HTML tag */\n",
       "\n",
       "#sk-container-id-2 a.estimator_doc_link {\n",
       "  float: right;\n",
       "  font-size: 1rem;\n",
       "  line-height: 1em;\n",
       "  font-family: monospace;\n",
       "  background-color: var(--sklearn-color-background);\n",
       "  border-radius: 1rem;\n",
       "  height: 1rem;\n",
       "  width: 1rem;\n",
       "  text-decoration: none;\n",
       "  /* unfitted */\n",
       "  color: var(--sklearn-color-unfitted-level-1);\n",
       "  border: var(--sklearn-color-unfitted-level-1) 1pt solid;\n",
       "}\n",
       "\n",
       "#sk-container-id-2 a.estimator_doc_link.fitted {\n",
       "  /* fitted */\n",
       "  border: var(--sklearn-color-fitted-level-1) 1pt solid;\n",
       "  color: var(--sklearn-color-fitted-level-1);\n",
       "}\n",
       "\n",
       "/* On hover */\n",
       "#sk-container-id-2 a.estimator_doc_link:hover {\n",
       "  /* unfitted */\n",
       "  background-color: var(--sklearn-color-unfitted-level-3);\n",
       "  color: var(--sklearn-color-background);\n",
       "  text-decoration: none;\n",
       "}\n",
       "\n",
       "#sk-container-id-2 a.estimator_doc_link.fitted:hover {\n",
       "  /* fitted */\n",
       "  background-color: var(--sklearn-color-fitted-level-3);\n",
       "}\n",
       "</style><div id=\"sk-container-id-2\" class=\"sk-top-container\"><div class=\"sk-text-repr-fallback\"><pre>RandomForestClassifier(random_state=42)</pre><b>In a Jupyter environment, please rerun this cell to show the HTML representation or trust the notebook. <br />On GitHub, the HTML representation is unable to render, please try loading this page with nbviewer.org.</b></div><div class=\"sk-container\" hidden><div class=\"sk-item\"><div class=\"sk-estimator fitted sk-toggleable\"><input class=\"sk-toggleable__control sk-hidden--visually\" id=\"sk-estimator-id-2\" type=\"checkbox\" checked><label for=\"sk-estimator-id-2\" class=\"sk-toggleable__label fitted sk-toggleable__label-arrow fitted\">&nbsp;&nbsp;RandomForestClassifier<a class=\"sk-estimator-doc-link fitted\" rel=\"noreferrer\" target=\"_blank\" href=\"https://scikit-learn.org/1.4/modules/generated/sklearn.ensemble.RandomForestClassifier.html\">?<span>Documentation for RandomForestClassifier</span></a><span class=\"sk-estimator-doc-link fitted\">i<span>Fitted</span></span></label><div class=\"sk-toggleable__content fitted\"><pre>RandomForestClassifier(random_state=42)</pre></div> </div></div></div></div>"
      ],
      "text/plain": [
       "RandomForestClassifier(random_state=42)"
      ]
     },
     "execution_count": 29,
     "metadata": {},
     "output_type": "execute_result"
    }
   ],
   "source": [
    "from sklearn.ensemble import RandomForestClassifier\n",
    "clf=RandomForestClassifier(random_state=42)\n",
    "clf.fit(X_train_new, y_train)"
   ]
  },
  {
   "cell_type": "code",
   "execution_count": 30,
   "id": "595d0a4a-ec9e-4c5f-9430-c24b29c6fc31",
   "metadata": {},
   "outputs": [
    {
     "name": "stdout",
     "output_type": "stream",
     "text": [
      "0.9349112426035503\n"
     ]
    }
   ],
   "source": [
    "print(clf.score(X_val_new, y_val))"
   ]
  },
  {
   "cell_type": "code",
   "execution_count": 31,
   "id": "266e07fc-76e7-4403-81fa-6433c0dae2cb",
   "metadata": {},
   "outputs": [
    {
     "name": "stdout",
     "output_type": "stream",
     "text": [
      "{'n_estimators': 500, 'min_samples_split': 2, 'max_depth': 30}\n",
      "Model2:  RandomForestClassifier(max_depth=30, n_estimators=500, random_state=42)\n"
     ]
    }
   ],
   "source": [
    "from sklearn.model_selection import RandomizedSearchCV\n",
    "param_dist={\n",
    "    'n_estimators' : [100, 200, 300, 500],\n",
    "    'max_depth': [None, 10, 20, 30],\n",
    "    'min_samples_split': [2,5, 10]    \n",
    "}\n",
    "rand_search=RandomizedSearchCV(estimator=clf, param_distributions=param_dist, cv=5, scoring='accuracy', n_jobs=-1)\n",
    "rand_search.fit(X_train_new, y_train)\n",
    "best_params=rand_search.best_params_\n",
    "model2=rand_search.best_estimator_\n",
    "print(best_params)\n",
    "print('Model2: ', model2)"
   ]
  },
  {
   "cell_type": "code",
   "execution_count": 32,
   "id": "d53de1cc-05ad-464d-81e9-999d715e0410",
   "metadata": {},
   "outputs": [
    {
     "name": "stdout",
     "output_type": "stream",
     "text": [
      "0.9349112426035503\n"
     ]
    }
   ],
   "source": [
    "print(model2.score(X_val_new, y_val))"
   ]
  },
  {
   "cell_type": "markdown",
   "id": "9dd33ed5-0be8-46ff-b9c0-44dc2a359e8a",
   "metadata": {},
   "source": [
    "## 7.3 KNeighbors Classifier(KNN)"
   ]
  },
  {
   "cell_type": "code",
   "execution_count": 34,
   "id": "85b3b80d-42ba-4a7b-9bc8-a6aff0bf220e",
   "metadata": {},
   "outputs": [
    {
     "name": "stdout",
     "output_type": "stream",
     "text": [
      "{'metric': 'euclidean', 'n_neighbors': 9, 'weights': 'distance'}\n",
      "Model3:  KNeighborsClassifier(metric='euclidean', n_neighbors=9, weights='distance')\n"
     ]
    }
   ],
   "source": [
    "from sklearn.neighbors import KNeighborsClassifier\n",
    "clf=KNeighborsClassifier()\n",
    "param_grid={\n",
    "    'n_neighbors': [3, 5, 7, 9, 11],\n",
    "    'weights': ['uniform', 'distance'],\n",
    "    'metric': ['euclidean', 'manhattan']\n",
    "}\n",
    "grid_search=GridSearchCV(clf, param_grid, cv=5, scoring='accuracy')\n",
    "grid_search.fit(X_train_new, y_train)\n",
    "best_params=grid_search.best_params_\n",
    "model3=grid_search.best_estimator_\n",
    "print(best_params)\n",
    "print('Model3: ', model3)"
   ]
  },
  {
   "cell_type": "code",
   "execution_count": 35,
   "id": "96e34b90-4859-4908-8c58-36e7659196af",
   "metadata": {},
   "outputs": [
    {
     "name": "stdout",
     "output_type": "stream",
     "text": [
      "0.863905325443787\n"
     ]
    }
   ],
   "source": [
    "print(model3.score(X_val_new, y_val))"
   ]
  },
  {
   "cell_type": "markdown",
   "id": "b12f328f-97d1-4d1b-aa40-43765c7887a7",
   "metadata": {},
   "source": [
    "## 7.4 Decision Tree Classifier"
   ]
  },
  {
   "cell_type": "code",
   "execution_count": 37,
   "id": "b889052c-9963-4b7e-8625-f7fec3344ef6",
   "metadata": {},
   "outputs": [
    {
     "name": "stdout",
     "output_type": "stream",
     "text": [
      "{'criterion': 'entropy', 'max_depth': 20, 'max_features': 0.5, 'min_samples_split': 2}\n",
      "Model4:  DecisionTreeClassifier(criterion='entropy', max_depth=20, max_features=0.5,\n",
      "                       random_state=42)\n"
     ]
    }
   ],
   "source": [
    "from sklearn.tree import DecisionTreeClassifier\n",
    "clf=DecisionTreeClassifier(random_state=42)\n",
    "param_grid={\n",
    "    'criterion': ['gini', 'entropy'],\n",
    "    'max_depth': [None, 5, 10, 20, 30],\n",
    "    'min_samples_split': [2, 5, 10, 20],\n",
    "    'max_features': [0.5, 0.75]\n",
    "}\n",
    "grid_search=GridSearchCV(clf, param_grid, cv=5, scoring='accuracy')\n",
    "grid_search.fit(X_train_new, y_train)\n",
    "best_params=grid_search.best_params_\n",
    "model4=grid_search.best_estimator_\n",
    "print(best_params)\n",
    "print('Model4: ', model4)"
   ]
  },
  {
   "cell_type": "code",
   "execution_count": 38,
   "id": "a26207e2-6146-4aad-a6ac-f6f72958c3a3",
   "metadata": {},
   "outputs": [
    {
     "name": "stdout",
     "output_type": "stream",
     "text": [
      "0.8284023668639053\n"
     ]
    }
   ],
   "source": [
    "print(model4.score(X_val_new, y_val))"
   ]
  },
  {
   "cell_type": "markdown",
   "id": "d3e0335e-98aa-4dc4-ac04-24bf335fc23c",
   "metadata": {},
   "source": [
    "## 7.5 Support Vector Classifier(SVC)"
   ]
  },
  {
   "cell_type": "code",
   "execution_count": 40,
   "id": "c54f258f-7b1a-4bab-b775-5380f30c71ea",
   "metadata": {},
   "outputs": [
    {
     "name": "stdout",
     "output_type": "stream",
     "text": [
      "{'C': 100, 'degree': 2, 'gamma': 10, 'kernel': 'rbf', 'probability': True}\n",
      "Model5:  SVC(C=100, degree=2, gamma=10, probability=True)\n"
     ]
    }
   ],
   "source": [
    "from sklearn.svm import SVC\n",
    "clf=SVC()\n",
    "param_grid={\n",
    "    'C': [0.01, 0.1, 1.0, 10, 100],\n",
    "    'kernel': ['linear', 'rbf'],\n",
    "    'gamma': [0.001, 0.01, 0.1, 1, 10],\n",
    "    'degree': [2, 3, 4],\n",
    "    'probability': [True, False] \n",
    "}\n",
    "grid_search=GridSearchCV(clf, param_grid, cv=5, scoring='accuracy')\n",
    "grid_search.fit(X_train_new, y_train)\n",
    "best_params=grid_search.best_params_\n",
    "model5=grid_search.best_estimator_\n",
    "print(best_params)\n",
    "print('Model5: ', model5)"
   ]
  },
  {
   "cell_type": "code",
   "execution_count": 41,
   "id": "ea7bc1b7-94fe-42d8-801e-cd785010f65a",
   "metadata": {},
   "outputs": [
    {
     "name": "stdout",
     "output_type": "stream",
     "text": [
      "0.8520710059171598\n"
     ]
    }
   ],
   "source": [
    "print(model5.score(X_val_new, y_val))"
   ]
  },
  {
   "cell_type": "markdown",
   "id": "1fd59ed4-f538-49bb-a514-6563d5b90ed9",
   "metadata": {},
   "source": [
    "# 8. Model Comparison"
   ]
  },
  {
   "cell_type": "code",
   "execution_count": 43,
   "id": "aed5e067-8131-4117-b853-cb6e38de87a7",
   "metadata": {},
   "outputs": [
    {
     "data": {
      "text/plain": [
       "[LogisticRegression(C=10.0, random_state=42, solver='saga'),\n",
       " RandomForestClassifier(max_depth=30, n_estimators=500, random_state=42),\n",
       " KNeighborsClassifier(metric='euclidean', n_neighbors=9, weights='distance'),\n",
       " DecisionTreeClassifier(criterion='entropy', max_depth=20, max_features=0.5,\n",
       "                        random_state=42),\n",
       " SVC(C=100, degree=2, gamma=10, probability=True)]"
      ]
     },
     "execution_count": 43,
     "metadata": {},
     "output_type": "execute_result"
    }
   ],
   "source": [
    "Classifiers=[model1, model2, model3, model4, model5]\n",
    "Classifiers"
   ]
  },
  {
   "cell_type": "markdown",
   "id": "6e09d8c4-577a-497d-8d97-097cdee1a614",
   "metadata": {},
   "source": [
    "## 8.1 Check Train Accuracies"
   ]
  },
  {
   "cell_type": "code",
   "execution_count": 81,
   "id": "af1c86ef-644a-4cf1-ae97-881a8448e45c",
   "metadata": {},
   "outputs": [
    {
     "data": {
      "text/plain": [
       "[0.7377777777777778, 1.0, 1.0, 1.0, 0.9348148148148148]"
      ]
     },
     "execution_count": 81,
     "metadata": {},
     "output_type": "execute_result"
    }
   ],
   "source": [
    "train_accuracies=[]\n",
    "for clf in Classifiers:\n",
    "    clf.fit(X_train_new, y_train)\n",
    "    train_accuracy=clf.score(X_train_new, y_train)\n",
    "    train_accuracies.append(train_accuracy)\n",
    "train_accuracies"
   ]
  },
  {
   "cell_type": "code",
   "execution_count": 83,
   "id": "5148e6c5-f0e2-42d6-9512-d0657176c3c7",
   "metadata": {},
   "outputs": [
    {
     "data": {
      "text/html": [
       "<div>\n",
       "<style scoped>\n",
       "    .dataframe tbody tr th:only-of-type {\n",
       "        vertical-align: middle;\n",
       "    }\n",
       "\n",
       "    .dataframe tbody tr th {\n",
       "        vertical-align: top;\n",
       "    }\n",
       "\n",
       "    .dataframe thead th {\n",
       "        text-align: right;\n",
       "    }\n",
       "</style>\n",
       "<table border=\"1\" class=\"dataframe\">\n",
       "  <thead>\n",
       "    <tr style=\"text-align: right;\">\n",
       "      <th></th>\n",
       "      <th>Model</th>\n",
       "      <th>Train_accuracy</th>\n",
       "    </tr>\n",
       "  </thead>\n",
       "  <tbody>\n",
       "    <tr>\n",
       "      <th>1</th>\n",
       "      <td>RandomForestClassifier</td>\n",
       "      <td>1.000000</td>\n",
       "    </tr>\n",
       "    <tr>\n",
       "      <th>2</th>\n",
       "      <td>KNeighborsClassifier</td>\n",
       "      <td>1.000000</td>\n",
       "    </tr>\n",
       "    <tr>\n",
       "      <th>3</th>\n",
       "      <td>DecisionTreeClassifier</td>\n",
       "      <td>1.000000</td>\n",
       "    </tr>\n",
       "    <tr>\n",
       "      <th>4</th>\n",
       "      <td>SVC</td>\n",
       "      <td>0.934815</td>\n",
       "    </tr>\n",
       "    <tr>\n",
       "      <th>0</th>\n",
       "      <td>LogisticRegression</td>\n",
       "      <td>0.737778</td>\n",
       "    </tr>\n",
       "  </tbody>\n",
       "</table>\n",
       "</div>"
      ],
      "text/plain": [
       "                    Model  Train_accuracy\n",
       "1  RandomForestClassifier        1.000000\n",
       "2    KNeighborsClassifier        1.000000\n",
       "3  DecisionTreeClassifier        1.000000\n",
       "4                     SVC        0.934815\n",
       "0      LogisticRegression        0.737778"
      ]
     },
     "execution_count": 83,
     "metadata": {},
     "output_type": "execute_result"
    }
   ],
   "source": [
    "compare = pd.DataFrame({\n",
    "    'Model': [clf.__class__.__name__ for clf in Classifiers],\n",
    "    'Train_accuracy' : train_accuracies\n",
    "})\n",
    "compare=compare.sort_values(by='Train_accuracy', ascending=False)\n",
    "compare"
   ]
  },
  {
   "cell_type": "markdown",
   "id": "a07c2b4f-fa19-447b-99cb-354773c6403a",
   "metadata": {},
   "source": [
    "#### 8.2 Check validation set Accuracies"
   ]
  },
  {
   "cell_type": "code",
   "execution_count": 86,
   "id": "1e1e47ee-13e8-4dac-8ea6-46d1c589d1e8",
   "metadata": {},
   "outputs": [
    {
     "data": {
      "text/html": [
       "<div>\n",
       "<style scoped>\n",
       "    .dataframe tbody tr th:only-of-type {\n",
       "        vertical-align: middle;\n",
       "    }\n",
       "\n",
       "    .dataframe tbody tr th {\n",
       "        vertical-align: top;\n",
       "    }\n",
       "\n",
       "    .dataframe thead th {\n",
       "        text-align: right;\n",
       "    }\n",
       "</style>\n",
       "<table border=\"1\" class=\"dataframe\">\n",
       "  <thead>\n",
       "    <tr style=\"text-align: right;\">\n",
       "      <th></th>\n",
       "      <th>Model</th>\n",
       "      <th>Test_accuracy</th>\n",
       "    </tr>\n",
       "  </thead>\n",
       "  <tbody>\n",
       "    <tr>\n",
       "      <th>1</th>\n",
       "      <td>RandomForestClassifier</td>\n",
       "      <td>0.934911</td>\n",
       "    </tr>\n",
       "    <tr>\n",
       "      <th>2</th>\n",
       "      <td>KNeighborsClassifier</td>\n",
       "      <td>0.863905</td>\n",
       "    </tr>\n",
       "    <tr>\n",
       "      <th>4</th>\n",
       "      <td>SVC</td>\n",
       "      <td>0.852071</td>\n",
       "    </tr>\n",
       "    <tr>\n",
       "      <th>3</th>\n",
       "      <td>DecisionTreeClassifier</td>\n",
       "      <td>0.828402</td>\n",
       "    </tr>\n",
       "    <tr>\n",
       "      <th>0</th>\n",
       "      <td>LogisticRegression</td>\n",
       "      <td>0.751479</td>\n",
       "    </tr>\n",
       "  </tbody>\n",
       "</table>\n",
       "</div>"
      ],
      "text/plain": [
       "                    Model  Test_accuracy\n",
       "1  RandomForestClassifier       0.934911\n",
       "2    KNeighborsClassifier       0.863905\n",
       "4                     SVC       0.852071\n",
       "3  DecisionTreeClassifier       0.828402\n",
       "0      LogisticRegression       0.751479"
      ]
     },
     "execution_count": 86,
     "metadata": {},
     "output_type": "execute_result"
    }
   ],
   "source": [
    "test_accuracies=[]\n",
    "for clf in Classifiers:\n",
    "    clf.predict(X_val_new)\n",
    "    accuracy=clf.score(X_val_new, y_val)\n",
    "    test_accuracies.append(accuracy)\n",
    "compare = pd.DataFrame({\n",
    "    'Model': [clf.__class__.__name__ for clf in Classifiers],\n",
    "    'Test_accuracy' : test_accuracies\n",
    "})\n",
    "compare=compare.sort_values(by='Test_accuracy', ascending=False)\n",
    "compare    "
   ]
  },
  {
   "cell_type": "markdown",
   "id": "ca8c1aed-d279-42ed-a503-3dfa1e3c942c",
   "metadata": {},
   "source": [
    "\tRandomForestClassifier, KNeighborsClassifier, DecisionTreeClassifier seem to be overfitting. We need to fine tune them."
   ]
  },
  {
   "cell_type": "markdown",
   "id": "2127f804-3337-4904-90a2-879c00faaf27",
   "metadata": {},
   "source": [
    "## 8.3 Model Performance Analysis "
   ]
  },
  {
   "cell_type": "code",
   "execution_count": null,
   "id": "35103d68-52bc-4851-a26a-daff9d063e3a",
   "metadata": {},
   "outputs": [],
   "source": [
    "from sklearn.metrics import f1_score, accuracy_score, recall_score, precision_score\n",
    "for clf in Classifiers:\n",
    "    clf.fit(X_train_new, y_train)\n",
    "    y_pred=clf.predict(X_train_new)\n",
    "    y_val_pred=clf.predict(X_val_new)"
   ]
  },
  {
   "cell_type": "code",
   "execution_count": null,
   "id": "3884a32b-67c1-4377-af64-2648e0c4fd6b",
   "metadata": {},
   "outputs": [],
   "source": []
  },
  {
   "cell_type": "code",
   "execution_count": null,
   "id": "66ad0cc5-1aef-4a3e-b57e-c5f6cdc81d68",
   "metadata": {},
   "outputs": [],
   "source": []
  },
  {
   "cell_type": "code",
   "execution_count": null,
   "id": "59f11f69-6fa6-49b7-b716-da1e63b63d79",
   "metadata": {},
   "outputs": [],
   "source": []
  },
  {
   "cell_type": "code",
   "execution_count": null,
   "id": "a6dae727-9151-419d-b94b-a6ef50e589c6",
   "metadata": {},
   "outputs": [],
   "source": []
  },
  {
   "cell_type": "code",
   "execution_count": null,
   "id": "2ddb640c-970c-419c-9525-8c7417c956d3",
   "metadata": {},
   "outputs": [],
   "source": []
  },
  {
   "cell_type": "code",
   "execution_count": null,
   "id": "1c6a6389-c8c9-4f87-a987-6bbb17b4d2a5",
   "metadata": {},
   "outputs": [],
   "source": []
  },
  {
   "cell_type": "code",
   "execution_count": null,
   "id": "35b596f6-5a32-4778-af32-340ae550266f",
   "metadata": {},
   "outputs": [],
   "source": [
    "fgyybhi"
   ]
  },
  {
   "cell_type": "markdown",
   "id": "09dcfa07-d56a-45ab-a48b-676970e2ff84",
   "metadata": {},
   "source": [
    "#### 8.2 Check validation set Accuracies"
   ]
  },
  {
   "cell_type": "code",
   "execution_count": null,
   "id": "2160c8dd-c288-439e-abac-069d45419dbf",
   "metadata": {},
   "outputs": [],
   "source": [
    "test_accuracies=[]\n",
    "for clf in Classifiers:\n",
    "    clf.predict(X_val_new)\n",
    "    accuracy=clf.score(X_val_new, y_val)\n",
    "    test_accuracies.append(accuracy)\n",
    "compare=pd.DataFrame({\n",
    "    'Model': Classifiers,\n",
    "    'ValidationSet_Accuracy': test_accuracies\n",
    "})\n",
    "compare=compare.sort_values(by='ValidationSet_Accuracy', ascending=False)\n",
    "compare"
   ]
  },
  {
   "cell_type": "markdown",
   "id": "28e781e5-e6a7-4cd2-bd63-ae52b5e101a1",
   "metadata": {},
   "source": [
    "👉 Decision Tree Classifier and KNeighbors algorithm seem to be overfitting. We need to fine_tune them."
   ]
  },
  {
   "cell_type": "markdown",
   "id": "1511e01d-3ad3-437b-abb9-bc5e3d611029",
   "metadata": {},
   "source": [
    "## 8.3 Model Performance Analysis "
   ]
  },
  {
   "cell_type": "code",
   "execution_count": null,
   "id": "093731ee-a9bc-4e72-b606-bd7bcf233f58",
   "metadata": {},
   "outputs": [],
   "source": [
    "from sklearn.metrics import f1_score, accuracy_score, recall_score, precision_score\n",
    "for clf in Classifiers:\n",
    "    clf.fit(X_train_new, y_train)\n",
    "    y_pred=clf.predict(X_train_new)\n",
    "    y_val_pred=clf.predict(X_val_new)\n",
    "    print(f\"Model: {clf.__class__.__name__}\")\n",
    "\n",
    "    train_accuracy=accuracy_score(y_train, y_pred)*100\n",
    "    train_precision=precision_score(y_train, y_pred)*100\n",
    "    train_recall=recall_score(y_train, y_pred)*100\n",
    "    train_f1=f1_score(y_train, y_pred)*100\n",
    "\n",
    "    test_accuracy=accuracy_score(y_val, y_val_pred)*100\n",
    "    test_precision=precision_score(y_val, y_val_pred)*100\n",
    "    test_recall=recall_score(y_val, y_val_pred)*100\n",
    "    test_f1=f1_score(y_val, y_val_pred)*100\n",
    "\n",
    "    print(f\"Train Accuracy: {train_accuracy:.2f}, F1_Score: {train_f1:.2f}, Precision: {train_precision:.2f}, Recall: {train_recall:.2f}\")\n",
    "    print(f\"Validation Set Accuracy: {test_accuracy:.2f}, F1_Score: {test_f1:.2f}, Precision: {test_precision:.2f}, Recall: {test_recall:.2f}\")\n",
    "    print('_______________________')\n",
    "    print()    "
   ]
  },
  {
   "cell_type": "code",
   "execution_count": null,
   "id": "cb150f5a-f125-4b4c-8373-116fce0ee08a",
   "metadata": {},
   "outputs": [],
   "source": [
    "from sklearn.metrics import classification_report\n",
    "for clf in Classifiers:\n",
    "    clf.fit(X_train_new, y_train)\n",
    "    y_val_pred=clf.predict(X_val_new)\n",
    "    print(f\"Model: Classification Report of {clf.__class__.__name__}\")\n",
    "    print(classification_report(y_val, y_val_pred))\n",
    "    print()"
   ]
  },
  {
   "cell_type": "code",
   "execution_count": null,
   "id": "9a376c61-8f2e-43bd-a674-69cb4bc75556",
   "metadata": {},
   "outputs": [],
   "source": [
    "from sklearn.metrics import precision_recall_curve, roc_curve, auc\n",
    "import matplotlib.pyplot as plt\n",
    "for clf in Classifiers:\n",
    "    clf.fit(X_train_new, y_train)\n",
    "    y_pred=clf.predict(X_train_new)\n",
    "    y_val_pred=clf.predict(X_val_new)\n",
    "    print(f\"Model: {clf.__class__.__name__}\")\n",
    "    precision_train, recall_train, _ = precision_recall_curve(y_train, y_pred)\n",
    "    precision_test, recall_test, _ = precision_recall_curve(y_val, y_val_pred)\n",
    "\n",
    "    fpr_train, tpr_train, _ =roc_curve(y_train, y_pred)\n",
    "    fpr_test, tpr_test, _ =roc_curve(y_val, y_val_pred)\n",
    "    roc_auc_train=auc(fpr_train, tpr_train)\n",
    "    roc_auc_test=auc(fpr_test, tpr_test)\n",
    "\n",
    "    plt.figure(figsize=(8,3))\n",
    "    plt.subplot(1,2,1)\n",
    "\n",
    "    plt.step(recall_train, precision_train, color='b', alpha=0.8, where='post', label='Train PR (AUC =%0.2f)' %roc_auc_train)\n",
    "    plt.step(recall_test, precision_test, color='g', alpha=0.8, where='post', label='Validation Set PR (AUC =%0.2f)' %roc_auc_test)\n",
    "    plt.xlabel('Recall')\n",
    "    plt.ylabel('Precision')\n",
    "    plt.title('Precision-Recall Curve')\n",
    "    plt.legend(loc='best')\n",
    "    plt.grid()\n",
    "    plt.subplot(1,2,2)\n",
    "    plt.plot(fpr_train, tpr_train, color='b', alpha=0.8, label='Train PR (AUC =%0.2f)' %roc_auc_train)\n",
    "    plt.plot(fpr_test, tpr_test, color='g', alpha=0.8, label='Validation Set PR (AUC =%0.2f)' %roc_auc_test)\n",
    "    plt.xlabel('False Positive Rate')\n",
    "    plt.ylabel('True Positive Rate')\n",
    "    plt.title('ROC Curve')\n",
    "    plt.legend(loc='best')\n",
    "    plt.grid()\n",
    "    plt.tight_layout()\n",
    "    plt.show()\n",
    "    print()\n",
    "    print()\n",
    "    \n",
    "    \n",
    "    "
   ]
  },
  {
   "cell_type": "markdown",
   "id": "9251345e-b500-403c-8578-fa948e199dea",
   "metadata": {},
   "source": [
    "🔝 Random Forest Classifier provide a good balance between precision and recall, and this model show consistent performance across multiple metrics. It provides the best overall performance with highest accuracy, making it the most reliable classifier."
   ]
  },
  {
   "cell_type": "markdown",
   "id": "3c4aa1ac-18a5-4485-aaef-b0abb6f4bc49",
   "metadata": {},
   "source": [
    "# 9. Deployment"
   ]
  },
  {
   "cell_type": "code",
   "execution_count": null,
   "id": "cf881577-9ce9-439c-ab69-88bc2b5b32ab",
   "metadata": {},
   "outputs": [],
   "source": [
    "test_data=pd.DataFrame(selector.transform(df_test), columns=X_train.columns[selector.get_support()])\n",
    "test_data.head()"
   ]
  },
  {
   "cell_type": "code",
   "execution_count": null,
   "id": "5374b4c9-4eb5-45de-9b62-bf03cdbc6693",
   "metadata": {},
   "outputs": [],
   "source": [
    "y_test_pred=model1.predict(test_data)\n",
    "print(y_test_pred[:10])"
   ]
  },
  {
   "cell_type": "code",
   "execution_count": null,
   "id": "fdf6bff4-9e71-4323-a719-7c18d24476ec",
   "metadata": {},
   "outputs": [],
   "source": [
    "sample_file=pd.read_csv('sample_submission_49d68Cx.csv')\n",
    "sample_file.head()"
   ]
  },
  {
   "cell_type": "code",
   "execution_count": null,
   "id": "4d5947e5-4165-49b8-a4b6-8b68e68290b5",
   "metadata": {},
   "outputs": [],
   "source": [
    "sample_file.shape"
   ]
  },
  {
   "cell_type": "code",
   "execution_count": null,
   "id": "4edab9d6-5c24-4f7f-86ec-42a1819c36bf",
   "metadata": {},
   "outputs": [],
   "source": [
    "org_test_data=pd.read_csv('test_lAUu6dG.csv')\n",
    "submission_file=pd.DataFrame()\n",
    "submission_file['Loan_ID']=org_test_data['Loan_ID']\n",
    "submission_file['Loan_Status']=y_test_pred\n",
    "submission_file['Loan_Status']=submission_file['Loan_Status'].map({1: 'Y', 0: 'N'})\n",
    "submission_file.head()"
   ]
  },
  {
   "cell_type": "code",
   "execution_count": null,
   "id": "74445b96-df07-4e11-ab80-67f3cc1ccc89",
   "metadata": {},
   "outputs": [],
   "source": [
    "submission_file.shape"
   ]
  },
  {
   "cell_type": "markdown",
   "id": "7ff766b8-b535-4c0f-b51e-b23e47c4f0d7",
   "metadata": {},
   "source": [
    "# 10. Saving the submission file"
   ]
  },
  {
   "cell_type": "code",
   "execution_count": null,
   "id": "5ce84ad7-d1e3-4822-b951-f213613409d1",
   "metadata": {},
   "outputs": [],
   "source": [
    "submission_file.to_csv('Loan_Status_Submission.csv', index=False)\n",
    "print('Submission file is saved successfully')"
   ]
  },
  {
   "cell_type": "code",
   "execution_count": null,
   "id": "9691bae0-9dce-4f1c-8410-93cb80d95809",
   "metadata": {},
   "outputs": [],
   "source": []
  }
 ],
 "metadata": {
  "kernelspec": {
   "display_name": "Python 3 (ipykernel)",
   "language": "python",
   "name": "python3"
  },
  "language_info": {
   "codemirror_mode": {
    "name": "ipython",
    "version": 3
   },
   "file_extension": ".py",
   "mimetype": "text/x-python",
   "name": "python",
   "nbconvert_exporter": "python",
   "pygments_lexer": "ipython3",
   "version": "3.12.4"
  }
 },
 "nbformat": 4,
 "nbformat_minor": 5
}
