{
  "cells": [
    {
      "cell_type": "markdown",
      "id": "c63d469d-2c95-4132-ab93-3a51c23baeca",
      "metadata": {
        "id": "c63d469d-2c95-4132-ab93-3a51c23baeca"
      },
      "source": [
        "# 1. Importing necessary Libraries"
      ]
    },
    {
      "cell_type": "code",
      "execution_count": 1,
      "id": "71721363-de7b-4cd5-b895-aca218dfde2b",
      "metadata": {
        "id": "71721363-de7b-4cd5-b895-aca218dfde2b"
      },
      "outputs": [],
      "source": [
        "import pandas as pd\n",
        "import numpy as np\n",
        "import seaborn as sns\n",
        "import matplotlib.pyplot as plt"
      ]
    },
    {
      "cell_type": "markdown",
      "id": "358fec74-ff07-4f5d-bc16-fa9c1fb8e363",
      "metadata": {
        "id": "358fec74-ff07-4f5d-bc16-fa9c1fb8e363"
      },
      "source": [
        "# 2. Reading the datasets"
      ]
    },
    {
      "cell_type": "code",
      "execution_count": 2,
      "id": "f7e88ed6-fbf7-4ee6-b682-2ea3fc6603b9",
      "metadata": {
        "id": "f7e88ed6-fbf7-4ee6-b682-2ea3fc6603b9"
      },
      "outputs": [],
      "source": [
        "train=pd.read_csv(\"/content/Loan_Status_train.csv\")\n",
        "test=pd.read_csv(\"/content/Loan_Status_test.csv\")"
      ]
    },
    {
      "cell_type": "markdown",
      "id": "44ee10ae-89f7-4e1e-99c1-6e7231952cd4",
      "metadata": {
        "id": "44ee10ae-89f7-4e1e-99c1-6e7231952cd4"
      },
      "source": [
        "# 3. EDA"
      ]
    },
    {
      "cell_type": "code",
      "execution_count": 3,
      "id": "e814c59e-bc11-4500-ba72-406e8531ac98",
      "metadata": {
        "colab": {
          "base_uri": "https://localhost:8080/",
          "height": 206
        },
        "id": "e814c59e-bc11-4500-ba72-406e8531ac98",
        "outputId": "6e681544-26a8-40a9-f25d-1c0adb64fa66"
      },
      "outputs": [
        {
          "output_type": "execute_result",
          "data": {
            "text/plain": [
              "      Loan_ID  Gender Married Dependents Education Self_Employed  \\\n",
              "609  LP002978  Female      No          0  Graduate            No   \n",
              "610  LP002979    Male     Yes         3+  Graduate            No   \n",
              "611  LP002983    Male     Yes          1  Graduate            No   \n",
              "612  LP002984    Male     Yes          2  Graduate            No   \n",
              "613  LP002990  Female      No          0  Graduate           Yes   \n",
              "\n",
              "     ApplicantIncome  CoapplicantIncome  LoanAmount  Loan_Amount_Term  \\\n",
              "609             2900                0.0        71.0             360.0   \n",
              "610             4106                0.0        40.0             180.0   \n",
              "611             8072              240.0       253.0             360.0   \n",
              "612             7583                0.0       187.0             360.0   \n",
              "613             4583                0.0       133.0             360.0   \n",
              "\n",
              "     Credit_History Property_Area Loan_Status  \n",
              "609             1.0         Rural           Y  \n",
              "610             1.0         Rural           Y  \n",
              "611             1.0         Urban           Y  \n",
              "612             1.0         Urban           Y  \n",
              "613             0.0     Semiurban           N  "
            ],
            "text/html": [
              "\n",
              "  <div id=\"df-64a61648-90b6-428c-9b0e-44aaae81bc2b\" class=\"colab-df-container\">\n",
              "    <div>\n",
              "<style scoped>\n",
              "    .dataframe tbody tr th:only-of-type {\n",
              "        vertical-align: middle;\n",
              "    }\n",
              "\n",
              "    .dataframe tbody tr th {\n",
              "        vertical-align: top;\n",
              "    }\n",
              "\n",
              "    .dataframe thead th {\n",
              "        text-align: right;\n",
              "    }\n",
              "</style>\n",
              "<table border=\"1\" class=\"dataframe\">\n",
              "  <thead>\n",
              "    <tr style=\"text-align: right;\">\n",
              "      <th></th>\n",
              "      <th>Loan_ID</th>\n",
              "      <th>Gender</th>\n",
              "      <th>Married</th>\n",
              "      <th>Dependents</th>\n",
              "      <th>Education</th>\n",
              "      <th>Self_Employed</th>\n",
              "      <th>ApplicantIncome</th>\n",
              "      <th>CoapplicantIncome</th>\n",
              "      <th>LoanAmount</th>\n",
              "      <th>Loan_Amount_Term</th>\n",
              "      <th>Credit_History</th>\n",
              "      <th>Property_Area</th>\n",
              "      <th>Loan_Status</th>\n",
              "    </tr>\n",
              "  </thead>\n",
              "  <tbody>\n",
              "    <tr>\n",
              "      <th>609</th>\n",
              "      <td>LP002978</td>\n",
              "      <td>Female</td>\n",
              "      <td>No</td>\n",
              "      <td>0</td>\n",
              "      <td>Graduate</td>\n",
              "      <td>No</td>\n",
              "      <td>2900</td>\n",
              "      <td>0.0</td>\n",
              "      <td>71.0</td>\n",
              "      <td>360.0</td>\n",
              "      <td>1.0</td>\n",
              "      <td>Rural</td>\n",
              "      <td>Y</td>\n",
              "    </tr>\n",
              "    <tr>\n",
              "      <th>610</th>\n",
              "      <td>LP002979</td>\n",
              "      <td>Male</td>\n",
              "      <td>Yes</td>\n",
              "      <td>3+</td>\n",
              "      <td>Graduate</td>\n",
              "      <td>No</td>\n",
              "      <td>4106</td>\n",
              "      <td>0.0</td>\n",
              "      <td>40.0</td>\n",
              "      <td>180.0</td>\n",
              "      <td>1.0</td>\n",
              "      <td>Rural</td>\n",
              "      <td>Y</td>\n",
              "    </tr>\n",
              "    <tr>\n",
              "      <th>611</th>\n",
              "      <td>LP002983</td>\n",
              "      <td>Male</td>\n",
              "      <td>Yes</td>\n",
              "      <td>1</td>\n",
              "      <td>Graduate</td>\n",
              "      <td>No</td>\n",
              "      <td>8072</td>\n",
              "      <td>240.0</td>\n",
              "      <td>253.0</td>\n",
              "      <td>360.0</td>\n",
              "      <td>1.0</td>\n",
              "      <td>Urban</td>\n",
              "      <td>Y</td>\n",
              "    </tr>\n",
              "    <tr>\n",
              "      <th>612</th>\n",
              "      <td>LP002984</td>\n",
              "      <td>Male</td>\n",
              "      <td>Yes</td>\n",
              "      <td>2</td>\n",
              "      <td>Graduate</td>\n",
              "      <td>No</td>\n",
              "      <td>7583</td>\n",
              "      <td>0.0</td>\n",
              "      <td>187.0</td>\n",
              "      <td>360.0</td>\n",
              "      <td>1.0</td>\n",
              "      <td>Urban</td>\n",
              "      <td>Y</td>\n",
              "    </tr>\n",
              "    <tr>\n",
              "      <th>613</th>\n",
              "      <td>LP002990</td>\n",
              "      <td>Female</td>\n",
              "      <td>No</td>\n",
              "      <td>0</td>\n",
              "      <td>Graduate</td>\n",
              "      <td>Yes</td>\n",
              "      <td>4583</td>\n",
              "      <td>0.0</td>\n",
              "      <td>133.0</td>\n",
              "      <td>360.0</td>\n",
              "      <td>0.0</td>\n",
              "      <td>Semiurban</td>\n",
              "      <td>N</td>\n",
              "    </tr>\n",
              "  </tbody>\n",
              "</table>\n",
              "</div>\n",
              "    <div class=\"colab-df-buttons\">\n",
              "\n",
              "  <div class=\"colab-df-container\">\n",
              "    <button class=\"colab-df-convert\" onclick=\"convertToInteractive('df-64a61648-90b6-428c-9b0e-44aaae81bc2b')\"\n",
              "            title=\"Convert this dataframe to an interactive table.\"\n",
              "            style=\"display:none;\">\n",
              "\n",
              "  <svg xmlns=\"http://www.w3.org/2000/svg\" height=\"24px\" viewBox=\"0 -960 960 960\">\n",
              "    <path d=\"M120-120v-720h720v720H120Zm60-500h600v-160H180v160Zm220 220h160v-160H400v160Zm0 220h160v-160H400v160ZM180-400h160v-160H180v160Zm440 0h160v-160H620v160ZM180-180h160v-160H180v160Zm440 0h160v-160H620v160Z\"/>\n",
              "  </svg>\n",
              "    </button>\n",
              "\n",
              "  <style>\n",
              "    .colab-df-container {\n",
              "      display:flex;\n",
              "      gap: 12px;\n",
              "    }\n",
              "\n",
              "    .colab-df-convert {\n",
              "      background-color: #E8F0FE;\n",
              "      border: none;\n",
              "      border-radius: 50%;\n",
              "      cursor: pointer;\n",
              "      display: none;\n",
              "      fill: #1967D2;\n",
              "      height: 32px;\n",
              "      padding: 0 0 0 0;\n",
              "      width: 32px;\n",
              "    }\n",
              "\n",
              "    .colab-df-convert:hover {\n",
              "      background-color: #E2EBFA;\n",
              "      box-shadow: 0px 1px 2px rgba(60, 64, 67, 0.3), 0px 1px 3px 1px rgba(60, 64, 67, 0.15);\n",
              "      fill: #174EA6;\n",
              "    }\n",
              "\n",
              "    .colab-df-buttons div {\n",
              "      margin-bottom: 4px;\n",
              "    }\n",
              "\n",
              "    [theme=dark] .colab-df-convert {\n",
              "      background-color: #3B4455;\n",
              "      fill: #D2E3FC;\n",
              "    }\n",
              "\n",
              "    [theme=dark] .colab-df-convert:hover {\n",
              "      background-color: #434B5C;\n",
              "      box-shadow: 0px 1px 3px 1px rgba(0, 0, 0, 0.15);\n",
              "      filter: drop-shadow(0px 1px 2px rgba(0, 0, 0, 0.3));\n",
              "      fill: #FFFFFF;\n",
              "    }\n",
              "  </style>\n",
              "\n",
              "    <script>\n",
              "      const buttonEl =\n",
              "        document.querySelector('#df-64a61648-90b6-428c-9b0e-44aaae81bc2b button.colab-df-convert');\n",
              "      buttonEl.style.display =\n",
              "        google.colab.kernel.accessAllowed ? 'block' : 'none';\n",
              "\n",
              "      async function convertToInteractive(key) {\n",
              "        const element = document.querySelector('#df-64a61648-90b6-428c-9b0e-44aaae81bc2b');\n",
              "        const dataTable =\n",
              "          await google.colab.kernel.invokeFunction('convertToInteractive',\n",
              "                                                    [key], {});\n",
              "        if (!dataTable) return;\n",
              "\n",
              "        const docLinkHtml = 'Like what you see? Visit the ' +\n",
              "          '<a target=\"_blank\" href=https://colab.research.google.com/notebooks/data_table.ipynb>data table notebook</a>'\n",
              "          + ' to learn more about interactive tables.';\n",
              "        element.innerHTML = '';\n",
              "        dataTable['output_type'] = 'display_data';\n",
              "        await google.colab.output.renderOutput(dataTable, element);\n",
              "        const docLink = document.createElement('div');\n",
              "        docLink.innerHTML = docLinkHtml;\n",
              "        element.appendChild(docLink);\n",
              "      }\n",
              "    </script>\n",
              "  </div>\n",
              "\n",
              "\n",
              "<div id=\"df-106380a4-b874-4d0b-b5d8-59e3df39379d\">\n",
              "  <button class=\"colab-df-quickchart\" onclick=\"quickchart('df-106380a4-b874-4d0b-b5d8-59e3df39379d')\"\n",
              "            title=\"Suggest charts\"\n",
              "            style=\"display:none;\">\n",
              "\n",
              "<svg xmlns=\"http://www.w3.org/2000/svg\" height=\"24px\"viewBox=\"0 0 24 24\"\n",
              "     width=\"24px\">\n",
              "    <g>\n",
              "        <path d=\"M19 3H5c-1.1 0-2 .9-2 2v14c0 1.1.9 2 2 2h14c1.1 0 2-.9 2-2V5c0-1.1-.9-2-2-2zM9 17H7v-7h2v7zm4 0h-2V7h2v10zm4 0h-2v-4h2v4z\"/>\n",
              "    </g>\n",
              "</svg>\n",
              "  </button>\n",
              "\n",
              "<style>\n",
              "  .colab-df-quickchart {\n",
              "      --bg-color: #E8F0FE;\n",
              "      --fill-color: #1967D2;\n",
              "      --hover-bg-color: #E2EBFA;\n",
              "      --hover-fill-color: #174EA6;\n",
              "      --disabled-fill-color: #AAA;\n",
              "      --disabled-bg-color: #DDD;\n",
              "  }\n",
              "\n",
              "  [theme=dark] .colab-df-quickchart {\n",
              "      --bg-color: #3B4455;\n",
              "      --fill-color: #D2E3FC;\n",
              "      --hover-bg-color: #434B5C;\n",
              "      --hover-fill-color: #FFFFFF;\n",
              "      --disabled-bg-color: #3B4455;\n",
              "      --disabled-fill-color: #666;\n",
              "  }\n",
              "\n",
              "  .colab-df-quickchart {\n",
              "    background-color: var(--bg-color);\n",
              "    border: none;\n",
              "    border-radius: 50%;\n",
              "    cursor: pointer;\n",
              "    display: none;\n",
              "    fill: var(--fill-color);\n",
              "    height: 32px;\n",
              "    padding: 0;\n",
              "    width: 32px;\n",
              "  }\n",
              "\n",
              "  .colab-df-quickchart:hover {\n",
              "    background-color: var(--hover-bg-color);\n",
              "    box-shadow: 0 1px 2px rgba(60, 64, 67, 0.3), 0 1px 3px 1px rgba(60, 64, 67, 0.15);\n",
              "    fill: var(--button-hover-fill-color);\n",
              "  }\n",
              "\n",
              "  .colab-df-quickchart-complete:disabled,\n",
              "  .colab-df-quickchart-complete:disabled:hover {\n",
              "    background-color: var(--disabled-bg-color);\n",
              "    fill: var(--disabled-fill-color);\n",
              "    box-shadow: none;\n",
              "  }\n",
              "\n",
              "  .colab-df-spinner {\n",
              "    border: 2px solid var(--fill-color);\n",
              "    border-color: transparent;\n",
              "    border-bottom-color: var(--fill-color);\n",
              "    animation:\n",
              "      spin 1s steps(1) infinite;\n",
              "  }\n",
              "\n",
              "  @keyframes spin {\n",
              "    0% {\n",
              "      border-color: transparent;\n",
              "      border-bottom-color: var(--fill-color);\n",
              "      border-left-color: var(--fill-color);\n",
              "    }\n",
              "    20% {\n",
              "      border-color: transparent;\n",
              "      border-left-color: var(--fill-color);\n",
              "      border-top-color: var(--fill-color);\n",
              "    }\n",
              "    30% {\n",
              "      border-color: transparent;\n",
              "      border-left-color: var(--fill-color);\n",
              "      border-top-color: var(--fill-color);\n",
              "      border-right-color: var(--fill-color);\n",
              "    }\n",
              "    40% {\n",
              "      border-color: transparent;\n",
              "      border-right-color: var(--fill-color);\n",
              "      border-top-color: var(--fill-color);\n",
              "    }\n",
              "    60% {\n",
              "      border-color: transparent;\n",
              "      border-right-color: var(--fill-color);\n",
              "    }\n",
              "    80% {\n",
              "      border-color: transparent;\n",
              "      border-right-color: var(--fill-color);\n",
              "      border-bottom-color: var(--fill-color);\n",
              "    }\n",
              "    90% {\n",
              "      border-color: transparent;\n",
              "      border-bottom-color: var(--fill-color);\n",
              "    }\n",
              "  }\n",
              "</style>\n",
              "\n",
              "  <script>\n",
              "    async function quickchart(key) {\n",
              "      const quickchartButtonEl =\n",
              "        document.querySelector('#' + key + ' button');\n",
              "      quickchartButtonEl.disabled = true;  // To prevent multiple clicks.\n",
              "      quickchartButtonEl.classList.add('colab-df-spinner');\n",
              "      try {\n",
              "        const charts = await google.colab.kernel.invokeFunction(\n",
              "            'suggestCharts', [key], {});\n",
              "      } catch (error) {\n",
              "        console.error('Error during call to suggestCharts:', error);\n",
              "      }\n",
              "      quickchartButtonEl.classList.remove('colab-df-spinner');\n",
              "      quickchartButtonEl.classList.add('colab-df-quickchart-complete');\n",
              "    }\n",
              "    (() => {\n",
              "      let quickchartButtonEl =\n",
              "        document.querySelector('#df-106380a4-b874-4d0b-b5d8-59e3df39379d button');\n",
              "      quickchartButtonEl.style.display =\n",
              "        google.colab.kernel.accessAllowed ? 'block' : 'none';\n",
              "    })();\n",
              "  </script>\n",
              "</div>\n",
              "\n",
              "    </div>\n",
              "  </div>\n"
            ],
            "application/vnd.google.colaboratory.intrinsic+json": {
              "type": "dataframe",
              "summary": "{\n  \"name\": \"train\",\n  \"rows\": 5,\n  \"fields\": [\n    {\n      \"column\": \"Loan_ID\",\n      \"properties\": {\n        \"dtype\": \"string\",\n        \"num_unique_values\": 5,\n        \"samples\": [\n          \"LP002979\",\n          \"LP002990\",\n          \"LP002983\"\n        ],\n        \"semantic_type\": \"\",\n        \"description\": \"\"\n      }\n    },\n    {\n      \"column\": \"Gender\",\n      \"properties\": {\n        \"dtype\": \"category\",\n        \"num_unique_values\": 2,\n        \"samples\": [\n          \"Male\",\n          \"Female\"\n        ],\n        \"semantic_type\": \"\",\n        \"description\": \"\"\n      }\n    },\n    {\n      \"column\": \"Married\",\n      \"properties\": {\n        \"dtype\": \"category\",\n        \"num_unique_values\": 2,\n        \"samples\": [\n          \"Yes\",\n          \"No\"\n        ],\n        \"semantic_type\": \"\",\n        \"description\": \"\"\n      }\n    },\n    {\n      \"column\": \"Dependents\",\n      \"properties\": {\n        \"dtype\": \"string\",\n        \"num_unique_values\": 4,\n        \"samples\": [\n          \"3+\",\n          \"2\"\n        ],\n        \"semantic_type\": \"\",\n        \"description\": \"\"\n      }\n    },\n    {\n      \"column\": \"Education\",\n      \"properties\": {\n        \"dtype\": \"category\",\n        \"num_unique_values\": 1,\n        \"samples\": [\n          \"Graduate\"\n        ],\n        \"semantic_type\": \"\",\n        \"description\": \"\"\n      }\n    },\n    {\n      \"column\": \"Self_Employed\",\n      \"properties\": {\n        \"dtype\": \"category\",\n        \"num_unique_values\": 2,\n        \"samples\": [\n          \"Yes\"\n        ],\n        \"semantic_type\": \"\",\n        \"description\": \"\"\n      }\n    },\n    {\n      \"column\": \"ApplicantIncome\",\n      \"properties\": {\n        \"dtype\": \"number\",\n        \"std\": 2263,\n        \"min\": 2900,\n        \"max\": 8072,\n        \"num_unique_values\": 5,\n        \"samples\": [\n          4106\n        ],\n        \"semantic_type\": \"\",\n        \"description\": \"\"\n      }\n    },\n    {\n      \"column\": \"CoapplicantIncome\",\n      \"properties\": {\n        \"dtype\": \"number\",\n        \"std\": 107.33126291998991,\n        \"min\": 0.0,\n        \"max\": 240.0,\n        \"num_unique_values\": 2,\n        \"samples\": [\n          240.0\n        ],\n        \"semantic_type\": \"\",\n        \"description\": \"\"\n      }\n    },\n    {\n      \"column\": \"LoanAmount\",\n      \"properties\": {\n        \"dtype\": \"number\",\n        \"std\": 86.22180698639991,\n        \"min\": 40.0,\n        \"max\": 253.0,\n        \"num_unique_values\": 5,\n        \"samples\": [\n          40.0\n        ],\n        \"semantic_type\": \"\",\n        \"description\": \"\"\n      }\n    },\n    {\n      \"column\": \"Loan_Amount_Term\",\n      \"properties\": {\n        \"dtype\": \"number\",\n        \"std\": 80.49844718999243,\n        \"min\": 180.0,\n        \"max\": 360.0,\n        \"num_unique_values\": 2,\n        \"samples\": [\n          180.0\n        ],\n        \"semantic_type\": \"\",\n        \"description\": \"\"\n      }\n    },\n    {\n      \"column\": \"Credit_History\",\n      \"properties\": {\n        \"dtype\": \"number\",\n        \"std\": 0.4472135954999579,\n        \"min\": 0.0,\n        \"max\": 1.0,\n        \"num_unique_values\": 2,\n        \"samples\": [\n          0.0\n        ],\n        \"semantic_type\": \"\",\n        \"description\": \"\"\n      }\n    },\n    {\n      \"column\": \"Property_Area\",\n      \"properties\": {\n        \"dtype\": \"string\",\n        \"num_unique_values\": 3,\n        \"samples\": [\n          \"Rural\"\n        ],\n        \"semantic_type\": \"\",\n        \"description\": \"\"\n      }\n    },\n    {\n      \"column\": \"Loan_Status\",\n      \"properties\": {\n        \"dtype\": \"category\",\n        \"num_unique_values\": 2,\n        \"samples\": [\n          \"N\"\n        ],\n        \"semantic_type\": \"\",\n        \"description\": \"\"\n      }\n    }\n  ]\n}"
            }
          },
          "metadata": {},
          "execution_count": 3
        }
      ],
      "source": [
        "train.tail()"
      ]
    },
    {
      "cell_type": "raw",
      "id": "fdb626b0-c409-42e1-9670-b196fb0b84a7",
      "metadata": {
        "id": "fdb626b0-c409-42e1-9670-b196fb0b84a7"
      },
      "source": [
        "👉 In the train dataset all columns are readable."
      ]
    },
    {
      "cell_type": "code",
      "execution_count": 4,
      "id": "9abd0e18-77a4-447e-8c5b-79e8585fc0b3",
      "metadata": {
        "colab": {
          "base_uri": "https://localhost:8080/"
        },
        "id": "9abd0e18-77a4-447e-8c5b-79e8585fc0b3",
        "outputId": "dc693a4b-a255-4d25-bbcf-245c47831ce8"
      },
      "outputs": [
        {
          "output_type": "stream",
          "name": "stdout",
          "text": [
            "<class 'pandas.core.frame.DataFrame'>\n",
            "RangeIndex: 614 entries, 0 to 613\n",
            "Data columns (total 13 columns):\n",
            " #   Column             Non-Null Count  Dtype  \n",
            "---  ------             --------------  -----  \n",
            " 0   Loan_ID            614 non-null    object \n",
            " 1   Gender             601 non-null    object \n",
            " 2   Married            611 non-null    object \n",
            " 3   Dependents         599 non-null    object \n",
            " 4   Education          614 non-null    object \n",
            " 5   Self_Employed      582 non-null    object \n",
            " 6   ApplicantIncome    614 non-null    int64  \n",
            " 7   CoapplicantIncome  614 non-null    float64\n",
            " 8   LoanAmount         592 non-null    float64\n",
            " 9   Loan_Amount_Term   600 non-null    float64\n",
            " 10  Credit_History     564 non-null    float64\n",
            " 11  Property_Area      614 non-null    object \n",
            " 12  Loan_Status        614 non-null    object \n",
            "dtypes: float64(4), int64(1), object(8)\n",
            "memory usage: 62.5+ KB\n"
          ]
        }
      ],
      "source": [
        "train.info()"
      ]
    },
    {
      "cell_type": "markdown",
      "id": "ed74f186-aad2-448c-b9ac-d437d33dceac",
      "metadata": {
        "id": "ed74f186-aad2-448c-b9ac-d437d33dceac"
      },
      "source": [
        "👉 There are 13 variables in this data set,\n",
        "* 8 categorical variables,\n",
        "* 4 continuous variables,\n",
        "* 1 discrete numerical variable"
      ]
    },
    {
      "cell_type": "code",
      "execution_count": 5,
      "id": "4ce90ac9-55e6-4403-93f7-b2098919b46e",
      "metadata": {
        "colab": {
          "base_uri": "https://localhost:8080/"
        },
        "id": "4ce90ac9-55e6-4403-93f7-b2098919b46e",
        "outputId": "2c34e271-4764-40c8-f984-05ef75bfe1b7"
      },
      "outputs": [
        {
          "output_type": "stream",
          "name": "stdout",
          "text": [
            "['ApplicantIncome', 'CoapplicantIncome', 'LoanAmount', 'Loan_Amount_Term', 'Credit_History']\n",
            "['Loan_ID', 'Gender', 'Married', 'Dependents', 'Education', 'Self_Employed', 'Property_Area', 'Loan_Status']\n"
          ]
        }
      ],
      "source": [
        "num_cols=train.select_dtypes(include='number').columns.tolist()\n",
        "cat_cols=train.select_dtypes(include='object').columns.tolist()\n",
        "print(num_cols)\n",
        "print(cat_cols)"
      ]
    },
    {
      "cell_type": "code",
      "execution_count": 6,
      "id": "ec64307a-b163-4c6f-aea3-55a1d21bdff6",
      "metadata": {
        "colab": {
          "base_uri": "https://localhost:8080/"
        },
        "id": "ec64307a-b163-4c6f-aea3-55a1d21bdff6",
        "outputId": "c6a3dc52-0130-4964-a259-71903c873083"
      },
      "outputs": [
        {
          "output_type": "stream",
          "name": "stdout",
          "text": [
            "ApplicantIncome 505\n",
            "CoapplicantIncome 287\n",
            "LoanAmount 203\n",
            "Loan_Amount_Term 10\n",
            "Credit_History 2\n"
          ]
        }
      ],
      "source": [
        "for col in num_cols:\n",
        "    print(col, train[col].nunique())"
      ]
    },
    {
      "cell_type": "code",
      "execution_count": 7,
      "id": "f59ac34e-734b-42ca-ba30-78ebfd029d6f",
      "metadata": {
        "colab": {
          "base_uri": "https://localhost:8080/"
        },
        "id": "f59ac34e-734b-42ca-ba30-78ebfd029d6f",
        "outputId": "72292556-f215-405f-ea3a-f3b9cbac8c35"
      },
      "outputs": [
        {
          "output_type": "stream",
          "name": "stdout",
          "text": [
            "['ApplicantIncome', 'CoapplicantIncome', 'LoanAmount']\n",
            "['Credit_History', 'Loan_Amount_Term']\n"
          ]
        }
      ],
      "source": [
        "num_cols.remove('Credit_History')\n",
        "num_cols.remove('Loan_Amount_Term')\n",
        "dis_num_cols=[]\n",
        "dis_num_cols.extend(['Credit_History','Loan_Amount_Term'])\n",
        "print(num_cols)\n",
        "print(dis_num_cols)"
      ]
    },
    {
      "cell_type": "markdown",
      "id": "0cedf7f2-0bca-47ef-8075-4203bbcc0ad3",
      "metadata": {
        "id": "0cedf7f2-0bca-47ef-8075-4203bbcc0ad3"
      },
      "source": [
        "## 3.1 Exploring categorical columns"
      ]
    },
    {
      "cell_type": "code",
      "execution_count": 8,
      "id": "d21b792e-2eec-43a5-92b8-aa816323ac69",
      "metadata": {
        "colab": {
          "base_uri": "https://localhost:8080/"
        },
        "id": "d21b792e-2eec-43a5-92b8-aa816323ac69",
        "outputId": "ed509c7d-aaac-4bee-8f6d-b7f93ffa76d9"
      },
      "outputs": [
        {
          "output_type": "execute_result",
          "data": {
            "text/plain": [
              "['Loan_ID',\n",
              " 'Gender',\n",
              " 'Married',\n",
              " 'Dependents',\n",
              " 'Education',\n",
              " 'Self_Employed',\n",
              " 'Property_Area',\n",
              " 'Loan_Status']"
            ]
          },
          "metadata": {},
          "execution_count": 8
        }
      ],
      "source": [
        "cat_cols"
      ]
    },
    {
      "cell_type": "markdown",
      "id": "a8390513-4d1b-45d8-ba25-7f27f0df22a5",
      "metadata": {
        "id": "a8390513-4d1b-45d8-ba25-7f27f0df22a5"
      },
      "source": [
        "#### 3.1.1 Loan_ID"
      ]
    },
    {
      "cell_type": "code",
      "execution_count": 9,
      "id": "31f64251-2e20-473c-b141-3ac6abf15ccc",
      "metadata": {
        "colab": {
          "base_uri": "https://localhost:8080/"
        },
        "id": "31f64251-2e20-473c-b141-3ac6abf15ccc",
        "outputId": "094a2cf2-611d-4b7e-9d5c-743fb20ccf84"
      },
      "outputs": [
        {
          "output_type": "execute_result",
          "data": {
            "text/plain": [
              "614"
            ]
          },
          "metadata": {},
          "execution_count": 9
        }
      ],
      "source": [
        "train['Loan_ID'].nunique()"
      ]
    },
    {
      "cell_type": "markdown",
      "id": "d238add1-07fa-4e13-b482-315aa7a26cfd",
      "metadata": {
        "id": "d238add1-07fa-4e13-b482-315aa7a26cfd"
      },
      "source": [
        "👉 It can be seen that there are 614 unique IDs in the dataset. We can say that there is no duplicate rows."
      ]
    },
    {
      "cell_type": "markdown",
      "id": "cbd10f50-3a1e-4352-9292-05ba26fe4cf0",
      "metadata": {
        "id": "cbd10f50-3a1e-4352-9292-05ba26fe4cf0"
      },
      "source": [
        "#### 3.1.2 Gender"
      ]
    },
    {
      "cell_type": "code",
      "execution_count": 10,
      "id": "e9dbde77-c39e-4412-bc44-df8866072481",
      "metadata": {
        "colab": {
          "base_uri": "https://localhost:8080/",
          "height": 210
        },
        "id": "e9dbde77-c39e-4412-bc44-df8866072481",
        "outputId": "140116dc-8815-4f46-b312-cfc63cd1cf52"
      },
      "outputs": [
        {
          "output_type": "execute_result",
          "data": {
            "text/plain": [
              "Gender\n",
              "Male      489\n",
              "Female    112\n",
              "NaN        13\n",
              "Name: count, dtype: int64"
            ],
            "text/html": [
              "<div>\n",
              "<style scoped>\n",
              "    .dataframe tbody tr th:only-of-type {\n",
              "        vertical-align: middle;\n",
              "    }\n",
              "\n",
              "    .dataframe tbody tr th {\n",
              "        vertical-align: top;\n",
              "    }\n",
              "\n",
              "    .dataframe thead th {\n",
              "        text-align: right;\n",
              "    }\n",
              "</style>\n",
              "<table border=\"1\" class=\"dataframe\">\n",
              "  <thead>\n",
              "    <tr style=\"text-align: right;\">\n",
              "      <th></th>\n",
              "      <th>count</th>\n",
              "    </tr>\n",
              "    <tr>\n",
              "      <th>Gender</th>\n",
              "      <th></th>\n",
              "    </tr>\n",
              "  </thead>\n",
              "  <tbody>\n",
              "    <tr>\n",
              "      <th>Male</th>\n",
              "      <td>489</td>\n",
              "    </tr>\n",
              "    <tr>\n",
              "      <th>Female</th>\n",
              "      <td>112</td>\n",
              "    </tr>\n",
              "    <tr>\n",
              "      <th>NaN</th>\n",
              "      <td>13</td>\n",
              "    </tr>\n",
              "  </tbody>\n",
              "</table>\n",
              "</div><br><label><b>dtype:</b> int64</label>"
            ]
          },
          "metadata": {},
          "execution_count": 10
        }
      ],
      "source": [
        "train.Gender.value_counts(dropna=False)"
      ]
    },
    {
      "cell_type": "code",
      "execution_count": 11,
      "id": "b6fdc0af-5d7c-4e4b-8010-dc3353c342e9",
      "metadata": {
        "colab": {
          "base_uri": "https://localhost:8080/",
          "height": 367
        },
        "id": "b6fdc0af-5d7c-4e4b-8010-dc3353c342e9",
        "outputId": "8c641854-9501-4f0f-be0d-87e24d00ae42"
      },
      "outputs": [
        {
          "output_type": "display_data",
          "data": {
            "text/plain": [
              "<Figure size 400x400 with 1 Axes>"
            ],
            "image/png": "[encoded data removed]"
          },
          "metadata": {}
        }
      ],
      "source": [
        "countmale=len(train[train.Gender=='Male'])\n",
        "countfemale=len(train[train.Gender=='Female'])\n",
        "countnull=len(train[train.Gender.isnull()])\n",
        "total=len(train.Gender)\n",
        "percent_male= (countmale / total) * 100\n",
        "percent_female= (countfemale / total) * 100\n",
        "percent_null= (countnull / total) * 100\n",
        "labels=['Male', 'Female', 'Missing']\n",
        "sizes=[percent_male, percent_female, percent_null]\n",
        "plt.figure(figsize=(4,4))\n",
        "plt.title('Gender distribution of Applicants')\n",
        "plt.pie(sizes, labels=labels, autopct='%.0f%%')\n",
        "plt.show()"
      ]
    },
    {
      "cell_type": "markdown",
      "id": "93f8a5e1-7e9c-4a46-8bf5-757cf391b232",
      "metadata": {
        "id": "93f8a5e1-7e9c-4a46-8bf5-757cf391b232"
      },
      "source": [
        "👉 From the above results, it can be observed that the number of male applicants is higher compared to female applicants."
      ]
    },
    {
      "cell_type": "markdown",
      "id": "1728cd30-14c1-45f9-9b7b-c5a34f52b2fb",
      "metadata": {
        "id": "1728cd30-14c1-45f9-9b7b-c5a34f52b2fb"
      },
      "source": [
        "#### 3.1.3 Married"
      ]
    },
    {
      "cell_type": "code",
      "execution_count": 12,
      "id": "051fa606-f895-47a9-96b7-0dc6ed4dc781",
      "metadata": {
        "colab": {
          "base_uri": "https://localhost:8080/",
          "height": 210
        },
        "id": "051fa606-f895-47a9-96b7-0dc6ed4dc781",
        "outputId": "da46e767-8539-4f23-a699-7fc4694cb1ef"
      },
      "outputs": [
        {
          "output_type": "execute_result",
          "data": {
            "text/plain": [
              "Married\n",
              "Yes    398\n",
              "No     213\n",
              "NaN      3\n",
              "Name: count, dtype: int64"
            ],
            "text/html": [
              "<div>\n",
              "<style scoped>\n",
              "    .dataframe tbody tr th:only-of-type {\n",
              "        vertical-align: middle;\n",
              "    }\n",
              "\n",
              "    .dataframe tbody tr th {\n",
              "        vertical-align: top;\n",
              "    }\n",
              "\n",
              "    .dataframe thead th {\n",
              "        text-align: right;\n",
              "    }\n",
              "</style>\n",
              "<table border=\"1\" class=\"dataframe\">\n",
              "  <thead>\n",
              "    <tr style=\"text-align: right;\">\n",
              "      <th></th>\n",
              "      <th>count</th>\n",
              "    </tr>\n",
              "    <tr>\n",
              "      <th>Married</th>\n",
              "      <th></th>\n",
              "    </tr>\n",
              "  </thead>\n",
              "  <tbody>\n",
              "    <tr>\n",
              "      <th>Yes</th>\n",
              "      <td>398</td>\n",
              "    </tr>\n",
              "    <tr>\n",
              "      <th>No</th>\n",
              "      <td>213</td>\n",
              "    </tr>\n",
              "    <tr>\n",
              "      <th>NaN</th>\n",
              "      <td>3</td>\n",
              "    </tr>\n",
              "  </tbody>\n",
              "</table>\n",
              "</div><br><label><b>dtype:</b> int64</label>"
            ]
          },
          "metadata": {},
          "execution_count": 12
        }
      ],
      "source": [
        "train.Married.value_counts(dropna=False)"
      ]
    },
    {
      "cell_type": "code",
      "execution_count": 13,
      "id": "341829fa-f8e8-41ba-bf9a-f6a4ab545acf",
      "metadata": {
        "colab": {
          "base_uri": "https://localhost:8080/",
          "height": 368
        },
        "id": "341829fa-f8e8-41ba-bf9a-f6a4ab545acf",
        "outputId": "05e47df3-6724-4a05-c79e-019a6ff91705"
      },
      "outputs": [
        {
          "output_type": "display_data",
          "data": {
            "text/plain": [
              "<Figure size 500x400 with 1 Axes>"
            ],
            "image/png": "[encoded data removed]"
          },
          "metadata": {}
        }
      ],
      "source": [
        "countMarried=len(train[train.Married=='Yes'])\n",
        "countUnmarried=len(train[train.Married=='No'])\n",
        "countnull=len(train[train.Married.isnull()])\n",
        "total=len(train.Married)\n",
        "percent_Married= (countMarried / total) * 100\n",
        "percent_Unmarried= (countUnmarried / total) * 100\n",
        "percent_null= (countnull / total) * 100\n",
        "labels=['Married', 'UnMarried', 'Missing']\n",
        "sizes=[percent_Married, percent_Unmarried, percent_null]\n",
        "plt.figure(figsize=(5,4))\n",
        "bars=plt.bar(labels, sizes, color=['darkturquoise', 'royalblue', 'olive'])\n",
        "for bar in bars:\n",
        "    yval=bar.get_height()\n",
        "    plt.text(bar.get_x()+bar.get_width()/2, yval, f'{yval:.2f}%',  ha='center', va='bottom')\n",
        "\n",
        "plt.show()"
      ]
    },
    {
      "cell_type": "markdown",
      "id": "3169365f-5d60-436b-871b-e0d5e85a2c80",
      "metadata": {
        "id": "3169365f-5d60-436b-871b-e0d5e85a2c80"
      },
      "source": [
        "👉 The number of applicants that has been married is higher compared to applicants that hasn't married."
      ]
    },
    {
      "cell_type": "markdown",
      "id": "3c37517b-8d58-4ade-aaf5-74677613c7f1",
      "metadata": {
        "id": "3c37517b-8d58-4ade-aaf5-74677613c7f1"
      },
      "source": [
        "#### 3.1.4 Dependents"
      ]
    },
    {
      "cell_type": "code",
      "execution_count": 14,
      "id": "c73abade-950e-40d6-9bc0-a9991d74b8d8",
      "metadata": {
        "colab": {
          "base_uri": "https://localhost:8080/",
          "height": 272
        },
        "id": "c73abade-950e-40d6-9bc0-a9991d74b8d8",
        "outputId": "0e4ba3e5-1574-4fa1-e998-05970a6c7b48"
      },
      "outputs": [
        {
          "output_type": "execute_result",
          "data": {
            "text/plain": [
              "Dependents\n",
              "0      345\n",
              "1      102\n",
              "2      101\n",
              "3+      51\n",
              "NaN     15\n",
              "Name: count, dtype: int64"
            ],
            "text/html": [
              "<div>\n",
              "<style scoped>\n",
              "    .dataframe tbody tr th:only-of-type {\n",
              "        vertical-align: middle;\n",
              "    }\n",
              "\n",
              "    .dataframe tbody tr th {\n",
              "        vertical-align: top;\n",
              "    }\n",
              "\n",
              "    .dataframe thead th {\n",
              "        text-align: right;\n",
              "    }\n",
              "</style>\n",
              "<table border=\"1\" class=\"dataframe\">\n",
              "  <thead>\n",
              "    <tr style=\"text-align: right;\">\n",
              "      <th></th>\n",
              "      <th>count</th>\n",
              "    </tr>\n",
              "    <tr>\n",
              "      <th>Dependents</th>\n",
              "      <th></th>\n",
              "    </tr>\n",
              "  </thead>\n",
              "  <tbody>\n",
              "    <tr>\n",
              "      <th>0</th>\n",
              "      <td>345</td>\n",
              "    </tr>\n",
              "    <tr>\n",
              "      <th>1</th>\n",
              "      <td>102</td>\n",
              "    </tr>\n",
              "    <tr>\n",
              "      <th>2</th>\n",
              "      <td>101</td>\n",
              "    </tr>\n",
              "    <tr>\n",
              "      <th>3+</th>\n",
              "      <td>51</td>\n",
              "    </tr>\n",
              "    <tr>\n",
              "      <th>NaN</th>\n",
              "      <td>15</td>\n",
              "    </tr>\n",
              "  </tbody>\n",
              "</table>\n",
              "</div><br><label><b>dtype:</b> int64</label>"
            ]
          },
          "metadata": {},
          "execution_count": 14
        }
      ],
      "source": [
        "train.Dependents.value_counts(dropna=False)"
      ]
    },
    {
      "cell_type": "markdown",
      "id": "eebd167b-ca15-4ff0-a9d7-5ab61383f58d",
      "metadata": {
        "id": "eebd167b-ca15-4ff0-a9d7-5ab61383f58d"
      },
      "source": [
        "#### 3.1.5 Education"
      ]
    },
    {
      "cell_type": "code",
      "execution_count": 15,
      "id": "f3fed842-cb30-439f-bc66-09e20600a3aa",
      "metadata": {
        "colab": {
          "base_uri": "https://localhost:8080/",
          "height": 178
        },
        "id": "f3fed842-cb30-439f-bc66-09e20600a3aa",
        "outputId": "5d85d16d-f1b1-42da-a9eb-e07f1b3c5203"
      },
      "outputs": [
        {
          "output_type": "execute_result",
          "data": {
            "text/plain": [
              "Education\n",
              "Graduate        480\n",
              "Not Graduate    134\n",
              "Name: count, dtype: int64"
            ],
            "text/html": [
              "<div>\n",
              "<style scoped>\n",
              "    .dataframe tbody tr th:only-of-type {\n",
              "        vertical-align: middle;\n",
              "    }\n",
              "\n",
              "    .dataframe tbody tr th {\n",
              "        vertical-align: top;\n",
              "    }\n",
              "\n",
              "    .dataframe thead th {\n",
              "        text-align: right;\n",
              "    }\n",
              "</style>\n",
              "<table border=\"1\" class=\"dataframe\">\n",
              "  <thead>\n",
              "    <tr style=\"text-align: right;\">\n",
              "      <th></th>\n",
              "      <th>count</th>\n",
              "    </tr>\n",
              "    <tr>\n",
              "      <th>Education</th>\n",
              "      <th></th>\n",
              "    </tr>\n",
              "  </thead>\n",
              "  <tbody>\n",
              "    <tr>\n",
              "      <th>Graduate</th>\n",
              "      <td>480</td>\n",
              "    </tr>\n",
              "    <tr>\n",
              "      <th>Not Graduate</th>\n",
              "      <td>134</td>\n",
              "    </tr>\n",
              "  </tbody>\n",
              "</table>\n",
              "</div><br><label><b>dtype:</b> int64</label>"
            ]
          },
          "metadata": {},
          "execution_count": 15
        }
      ],
      "source": [
        "train.Education.value_counts(dropna=False)"
      ]
    },
    {
      "cell_type": "markdown",
      "id": "afc1cc1b-0c62-45c3-8da9-2d13b8408b10",
      "metadata": {
        "id": "afc1cc1b-0c62-45c3-8da9-2d13b8408b10"
      },
      "source": [
        "👉 The number of applicants that has been graduated is higher compared to applicants that hasn't graduated."
      ]
    },
    {
      "cell_type": "markdown",
      "id": "9ab4826f-082b-4d3f-81fd-fa4e37860ae6",
      "metadata": {
        "id": "9ab4826f-082b-4d3f-81fd-fa4e37860ae6"
      },
      "source": [
        "#### 3.1.6 Self_Employed"
      ]
    },
    {
      "cell_type": "code",
      "execution_count": 16,
      "id": "db6335e0-1480-4621-b09f-ae76a5fa7deb",
      "metadata": {
        "colab": {
          "base_uri": "https://localhost:8080/",
          "height": 210
        },
        "id": "db6335e0-1480-4621-b09f-ae76a5fa7deb",
        "outputId": "d464e113-76ac-4d1d-ba16-5d952dc71844"
      },
      "outputs": [
        {
          "output_type": "execute_result",
          "data": {
            "text/plain": [
              "Self_Employed\n",
              "No     500\n",
              "Yes     82\n",
              "NaN     32\n",
              "Name: count, dtype: int64"
            ],
            "text/html": [
              "<div>\n",
              "<style scoped>\n",
              "    .dataframe tbody tr th:only-of-type {\n",
              "        vertical-align: middle;\n",
              "    }\n",
              "\n",
              "    .dataframe tbody tr th {\n",
              "        vertical-align: top;\n",
              "    }\n",
              "\n",
              "    .dataframe thead th {\n",
              "        text-align: right;\n",
              "    }\n",
              "</style>\n",
              "<table border=\"1\" class=\"dataframe\">\n",
              "  <thead>\n",
              "    <tr style=\"text-align: right;\">\n",
              "      <th></th>\n",
              "      <th>count</th>\n",
              "    </tr>\n",
              "    <tr>\n",
              "      <th>Self_Employed</th>\n",
              "      <th></th>\n",
              "    </tr>\n",
              "  </thead>\n",
              "  <tbody>\n",
              "    <tr>\n",
              "      <th>No</th>\n",
              "      <td>500</td>\n",
              "    </tr>\n",
              "    <tr>\n",
              "      <th>Yes</th>\n",
              "      <td>82</td>\n",
              "    </tr>\n",
              "    <tr>\n",
              "      <th>NaN</th>\n",
              "      <td>32</td>\n",
              "    </tr>\n",
              "  </tbody>\n",
              "</table>\n",
              "</div><br><label><b>dtype:</b> int64</label>"
            ]
          },
          "metadata": {},
          "execution_count": 16
        }
      ],
      "source": [
        "train.Self_Employed.value_counts(dropna=False)"
      ]
    },
    {
      "cell_type": "markdown",
      "id": "b22c38e5-f1f2-4387-bd22-b931e2b398d0",
      "metadata": {
        "id": "b22c38e5-f1f2-4387-bd22-b931e2b398d0"
      },
      "source": [
        "👉 The number of applicants that are not self employed is higher compared to applicants that are self employed."
      ]
    },
    {
      "cell_type": "markdown",
      "id": "7555e3c1-1b1e-40b0-abf7-6a4a528ed8c7",
      "metadata": {
        "id": "7555e3c1-1b1e-40b0-abf7-6a4a528ed8c7"
      },
      "source": [
        "#### 3.1.7 Property_Area"
      ]
    },
    {
      "cell_type": "code",
      "execution_count": 17,
      "id": "316565a9-24d1-47c9-a38a-b22b9bdfe75b",
      "metadata": {
        "colab": {
          "base_uri": "https://localhost:8080/",
          "height": 210
        },
        "id": "316565a9-24d1-47c9-a38a-b22b9bdfe75b",
        "outputId": "4021a50f-49d5-41d0-a7f8-f5133b7c78c4"
      },
      "outputs": [
        {
          "output_type": "execute_result",
          "data": {
            "text/plain": [
              "Property_Area\n",
              "Semiurban    233\n",
              "Urban        202\n",
              "Rural        179\n",
              "Name: count, dtype: int64"
            ],
            "text/html": [
              "<div>\n",
              "<style scoped>\n",
              "    .dataframe tbody tr th:only-of-type {\n",
              "        vertical-align: middle;\n",
              "    }\n",
              "\n",
              "    .dataframe tbody tr th {\n",
              "        vertical-align: top;\n",
              "    }\n",
              "\n",
              "    .dataframe thead th {\n",
              "        text-align: right;\n",
              "    }\n",
              "</style>\n",
              "<table border=\"1\" class=\"dataframe\">\n",
              "  <thead>\n",
              "    <tr style=\"text-align: right;\">\n",
              "      <th></th>\n",
              "      <th>count</th>\n",
              "    </tr>\n",
              "    <tr>\n",
              "      <th>Property_Area</th>\n",
              "      <th></th>\n",
              "    </tr>\n",
              "  </thead>\n",
              "  <tbody>\n",
              "    <tr>\n",
              "      <th>Semiurban</th>\n",
              "      <td>233</td>\n",
              "    </tr>\n",
              "    <tr>\n",
              "      <th>Urban</th>\n",
              "      <td>202</td>\n",
              "    </tr>\n",
              "    <tr>\n",
              "      <th>Rural</th>\n",
              "      <td>179</td>\n",
              "    </tr>\n",
              "  </tbody>\n",
              "</table>\n",
              "</div><br><label><b>dtype:</b> int64</label>"
            ]
          },
          "metadata": {},
          "execution_count": 17
        }
      ],
      "source": [
        "train.Property_Area.value_counts(dropna=False)"
      ]
    },
    {
      "cell_type": "markdown",
      "id": "c68eca3e-1a47-4334-80ca-6b2d8fc74d74",
      "metadata": {
        "id": "c68eca3e-1a47-4334-80ca-6b2d8fc74d74"
      },
      "source": [
        "👉This column has a balanced distribution between Urban, Rural and SemiUrban property area. It also can be seen there is no missing value."
      ]
    },
    {
      "cell_type": "markdown",
      "id": "161240dd-f266-4c6c-8218-9a4cff3a32e0",
      "metadata": {
        "id": "161240dd-f266-4c6c-8218-9a4cff3a32e0"
      },
      "source": [
        "#### 3.1.8 Loan_Status(Target_variable)"
      ]
    },
    {
      "cell_type": "code",
      "execution_count": 18,
      "id": "ad9a2a1e-342a-4ee3-9d56-f45f3f369c16",
      "metadata": {
        "colab": {
          "base_uri": "https://localhost:8080/"
        },
        "id": "ad9a2a1e-342a-4ee3-9d56-f45f3f369c16",
        "outputId": "7d0277c2-ec41-474c-9446-afbc255cac68"
      },
      "outputs": [
        {
          "output_type": "execute_result",
          "data": {
            "text/plain": [
              "array(['Y', 'N'], dtype=object)"
            ]
          },
          "metadata": {},
          "execution_count": 18
        }
      ],
      "source": [
        "train['Loan_Status'].unique()"
      ]
    },
    {
      "cell_type": "code",
      "execution_count": 19,
      "id": "29bd9cd0-998c-4952-9134-ed409f93214c",
      "metadata": {
        "colab": {
          "base_uri": "https://localhost:8080/",
          "height": 445
        },
        "id": "29bd9cd0-998c-4952-9134-ed409f93214c",
        "outputId": "3326943c-8ca2-4bd5-e188-52eb89630391"
      },
      "outputs": [
        {
          "output_type": "display_data",
          "data": {
            "text/plain": [
              "<Figure size 300x500 with 1 Axes>"
            ],
            "image/png": "[encoded data removed]"
          },
          "metadata": {}
        }
      ],
      "source": [
        "count_yes=len(train[train.Loan_Status=='Y'])\n",
        "count_no=len(train[train.Loan_Status=='N'])\n",
        "n=len(train.Loan_Status)\n",
        "per_yes=(count_yes / n ) *100\n",
        "per_no=(count_no / n ) *100\n",
        "labels=['Yes', 'No']\n",
        "percentages=[per_yes, per_no]\n",
        "plt.figure(figsize=(3,5))\n",
        "bars=plt.bar(labels, percentages, color=['green' ,'royalblue'])\n",
        "for bar in bars:\n",
        "    yval=bar.get_height()\n",
        "    plt.text(bar.get_x()+bar.get_width()/2, yval, f'{yval:.2f}%', ha='center', va='bottom')\n",
        "plt.show()"
      ]
    },
    {
      "cell_type": "markdown",
      "id": "c6a38c8c-9c5f-486b-ae55-737492919923",
      "metadata": {
        "id": "c6a38c8c-9c5f-486b-ae55-737492919923"
      },
      "source": [
        "👉 The number of approved loans is higher compared to rejected loans"
      ]
    },
    {
      "cell_type": "code",
      "execution_count": 20,
      "id": "5714d40a-4e1d-4c76-bfcf-a659dfc26a09",
      "metadata": {
        "colab": {
          "base_uri": "https://localhost:8080/"
        },
        "id": "5714d40a-4e1d-4c76-bfcf-a659dfc26a09",
        "outputId": "755656f9-8ce9-4193-9113-0ab8aeacc916"
      },
      "outputs": [
        {
          "output_type": "stream",
          "name": "stdout",
          "text": [
            "Gender : ['Male' 'Female' nan]\n",
            "Married : ['No' 'Yes' nan]\n",
            "Dependents : ['0' '1' '2' '3+' nan]\n",
            "Education : ['Graduate' 'Not Graduate']\n",
            "Self_Employed : ['No' 'Yes' nan]\n",
            "Property_Area : ['Urban' 'Rural' 'Semiurban']\n"
          ]
        }
      ],
      "source": [
        "cat_cols.remove('Loan_Status')\n",
        "cat_cols.remove('Loan_ID')\n",
        "for col in cat_cols:\n",
        "    print(col, ':', train[col].unique())"
      ]
    },
    {
      "cell_type": "markdown",
      "id": "21a1bbc7-57b3-4d33-8eb4-d237b4749e49",
      "metadata": {
        "id": "21a1bbc7-57b3-4d33-8eb4-d237b4749e49"
      },
      "source": [
        "##### Histplot for cat_cols"
      ]
    },
    {
      "cell_type": "code",
      "execution_count": 21,
      "id": "7260e87e-1c1d-4fae-ab34-05111df00f92",
      "metadata": {
        "colab": {
          "base_uri": "https://localhost:8080/",
          "height": 379
        },
        "id": "7260e87e-1c1d-4fae-ab34-05111df00f92",
        "outputId": "67ff233b-1329-46f8-f4ab-3b4581c4b14f"
      },
      "outputs": [
        {
          "output_type": "display_data",
          "data": {
            "text/plain": [
              "<Figure size 1600x400 with 6 Axes>"
            ],
            "image/png": "[encoded data removed]"
          },
          "metadata": {}
        }
      ],
      "source": [
        "fig, axes=plt.subplots(1, len(cat_cols), figsize=(16,4))\n",
        "for i, col in enumerate(cat_cols):\n",
        "    sns.histplot(train[col], ax=axes[i])\n",
        "plt.tight_layout()\n",
        "plt.show()"
      ]
    },
    {
      "cell_type": "markdown",
      "id": "9d1e5eb0-5aa7-49bf-92c6-9ecdd1c83c08",
      "metadata": {
        "id": "9d1e5eb0-5aa7-49bf-92c6-9ecdd1c83c08"
      },
      "source": [
        "👉 The data shows that more applicants are male, married, have zero dependents, are graduates, not self-employed, live in semiurban and have approved loans compared to their counterparts\n",
        "👉 All object type columns here are categorical and nomial"
      ]
    },
    {
      "cell_type": "markdown",
      "id": "b950b81a-c94d-47c2-9bad-810bdbe03912",
      "metadata": {
        "id": "b950b81a-c94d-47c2-9bad-810bdbe03912"
      },
      "source": [
        "##### Distribution of Target variable across categorical columns"
      ]
    },
    {
      "cell_type": "code",
      "execution_count": 22,
      "id": "1b93a629-19d5-432a-994d-7ac07fa57fc1",
      "metadata": {
        "colab": {
          "base_uri": "https://localhost:8080/",
          "height": 750
        },
        "id": "1b93a629-19d5-432a-994d-7ac07fa57fc1",
        "outputId": "f336a639-d857-4e19-a7ce-6fd8518dce6d"
      },
      "outputs": [
        {
          "output_type": "display_data",
          "data": {
            "text/plain": [
              "<Figure size 1600x800 with 6 Axes>"
            ],
            "image/png": "[encoded data removed]"
          },
          "metadata": {}
        }
      ],
      "source": [
        "plt.figure(figsize=(16,8))\n",
        "for i, col in enumerate(cat_cols):\n",
        "    ax=plt.subplot(2, len(cat_cols)//2, i+1)\n",
        "    sns.countplot(data=train, x=col, hue='Loan_Status', palette='Set2')\n",
        "    plt.title(f'Distribution of Loan_Status by {col}')\n",
        "    plt.ylabel('Count')\n",
        "    plt.tight_layout()\n",
        "\n",
        "plt.show()"
      ]
    },
    {
      "cell_type": "markdown",
      "id": "c445ee90-91be-4a2d-b9bb-0361ecb23342",
      "metadata": {
        "id": "c445ee90-91be-4a2d-b9bb-0361ecb23342"
      },
      "source": [
        "#### Check relationship between categorical variable and target variable using Chi-Square test of independence"
      ]
    },
    {
      "cell_type": "code",
      "execution_count": 23,
      "id": "756664be-9479-4463-9c98-c76018ff220a",
      "metadata": {
        "colab": {
          "base_uri": "https://localhost:8080/"
        },
        "id": "756664be-9479-4463-9c98-c76018ff220a",
        "outputId": "6c94cf93-8862-418e-aa8d-0e6573052508"
      },
      "outputs": [
        {
          "output_type": "stream",
          "name": "stdout",
          "text": [
            "\n",
            "Chi-Square Test Results for Gender: \n",
            "Chi-Square Statistic: 0.1396\n",
            "P-Value: 0.7087\n",
            "\n",
            "Chi-Square Test Results for Married: \n",
            "Chi-Square Statistic: 4.4750\n",
            "P-Value: 0.0344\n",
            "\n",
            "Chi-Square Test Results for Dependents: \n",
            "Chi-Square Statistic: 3.1583\n",
            "P-Value: 0.3679\n",
            "\n",
            "Chi-Square Test Results for Education: \n",
            "Chi-Square Statistic: 4.0915\n",
            "P-Value: 0.0431\n",
            "\n",
            "Chi-Square Test Results for Self_Employed: \n",
            "Chi-Square Statistic: 0.0000\n",
            "P-Value: 1.0000\n",
            "\n",
            "Chi-Square Test Results for Property_Area: \n",
            "Chi-Square Statistic: 12.2976\n",
            "P-Value: 0.0021\n"
          ]
        }
      ],
      "source": [
        "from scipy.stats import chi2_contingency\n",
        "for col in cat_cols:\n",
        "    contigency_table=pd.crosstab(train[col], train['Loan_Status'])\n",
        "    chi2, p, dof, expected=chi2_contingency(contigency_table)\n",
        "    print(f\"\\nChi-Square Test Results for {col}: \")\n",
        "    print(f'Chi-Square Statistic: {chi2:.4f}')\n",
        "    print(f'P-Value: {p:.4f}')"
      ]
    },
    {
      "cell_type": "markdown",
      "id": "ec394cd6-63cf-4b3d-9d4b-2c346c344e98",
      "metadata": {
        "id": "ec394cd6-63cf-4b3d-9d4b-2c346c344e98"
      },
      "source": [
        "👉 The Chi-Square Test results show that Married, Education, and Property_Area are significantly associated with Loan_Status, meaning these factors impact loan approval. Whereas Gender, Dependents and Self_Employed do not significantly affect loan status."
      ]
    },
    {
      "cell_type": "code",
      "execution_count": 24,
      "id": "b8f07ce7-ced6-4dc1-9585-98889ce670c8",
      "metadata": {
        "id": "b8f07ce7-ced6-4dc1-9585-98889ce670c8"
      },
      "outputs": [],
      "source": [
        "significant_features=['Married', 'Education', 'Property_Area']"
      ]
    },
    {
      "cell_type": "markdown",
      "id": "8dcd6c49-add0-4518-a7fe-44b5d4fdcca8",
      "metadata": {
        "id": "8dcd6c49-add0-4518-a7fe-44b5d4fdcca8"
      },
      "source": [
        "## 3.2 Exploring discrete numerical columns"
      ]
    },
    {
      "cell_type": "code",
      "execution_count": 25,
      "id": "d6312653-4486-4687-a972-50ffc54eb32d",
      "metadata": {
        "colab": {
          "base_uri": "https://localhost:8080/"
        },
        "id": "d6312653-4486-4687-a972-50ffc54eb32d",
        "outputId": "1e523f86-7f3d-42e9-8332-7769f340c1d3"
      },
      "outputs": [
        {
          "output_type": "execute_result",
          "data": {
            "text/plain": [
              "['Credit_History', 'Loan_Amount_Term']"
            ]
          },
          "metadata": {},
          "execution_count": 25
        }
      ],
      "source": [
        "dis_num_cols"
      ]
    },
    {
      "cell_type": "markdown",
      "id": "bc9c3958-7a89-498d-8c33-f788eb2c1e82",
      "metadata": {
        "id": "bc9c3958-7a89-498d-8c33-f788eb2c1e82"
      },
      "source": [
        "#### 3.2.1 Credit_History"
      ]
    },
    {
      "cell_type": "code",
      "execution_count": 26,
      "id": "0494452c-f2e5-49f7-ab62-395f500576c9",
      "metadata": {
        "colab": {
          "base_uri": "https://localhost:8080/",
          "height": 294
        },
        "id": "0494452c-f2e5-49f7-ab62-395f500576c9",
        "outputId": "35b50ba9-3e81-490d-c482-9a8fc9913a62"
      },
      "outputs": [
        {
          "output_type": "display_data",
          "data": {
            "text/plain": [
              "<Figure size 500x300 with 1 Axes>"
            ],
            "image/png": "[encoded data removed]"
          },
          "metadata": {}
        }
      ],
      "source": [
        "good_credit_his=len(train[train.Credit_History==1])\n",
        "no_credit_his=len(train[train.Credit_History==0])\n",
        "countnull=len(train[train.Credit_History.isnull()])\n",
        "total=len(train['Credit_History'])\n",
        "percent_credit_his=(good_credit_his/total)*100\n",
        "percent_no_his=(no_credit_his/total)*100\n",
        "percent_null=(countnull/total)*100\n",
        "labels=['Good_Credit', 'No_Credit', 'Missing']\n",
        "percentages=[percent_credit_his, percent_no_his, percent_null]\n",
        "plt.figure(figsize=(5,3))\n",
        "bars=plt.bar(labels, percentages, color=['darkgoldenrod', 'rosybrown', 'blueviolet'])\n",
        "for bar in bars:\n",
        "    yval=bar.get_height()\n",
        "    plt.text(bar.get_x()+bar.get_width()/2, yval, f'{yval:.2f}%', ha='center', va='bottom')\n",
        "plt.show()"
      ]
    },
    {
      "cell_type": "markdown",
      "id": "fc58b8ea-e5fe-46ec-8461-b24c925df117",
      "metadata": {
        "id": "fc58b8ea-e5fe-46ec-8461-b24c925df117"
      },
      "source": [
        "👉 The number of applicants that have good credit history is higher compared to applicants that have bad credit history."
      ]
    },
    {
      "cell_type": "markdown",
      "id": "a06ac884-1c98-418c-9e60-f37428b1b437",
      "metadata": {
        "id": "a06ac884-1c98-418c-9e60-f37428b1b437"
      },
      "source": [
        "#### 3.2.2 Loan_Amount_Term"
      ]
    },
    {
      "cell_type": "code",
      "execution_count": 27,
      "id": "1e9e7ef2-dec1-40bd-a494-9709f95af45a",
      "metadata": {
        "colab": {
          "base_uri": "https://localhost:8080/"
        },
        "id": "1e9e7ef2-dec1-40bd-a494-9709f95af45a",
        "outputId": "9ab52b21-b6b6-4635-9bda-1a582fe8fa59"
      },
      "outputs": [
        {
          "output_type": "stream",
          "name": "stdout",
          "text": [
            "[360. 120. 240.  nan 180.  60. 300. 480.  36.  84.  12.]\n"
          ]
        }
      ],
      "source": [
        "print(train['Loan_Amount_Term'].unique())"
      ]
    },
    {
      "cell_type": "code",
      "execution_count": 28,
      "id": "06624a57-da48-4722-8a9e-38e728583ef5",
      "metadata": {
        "colab": {
          "base_uri": "https://localhost:8080/"
        },
        "id": "06624a57-da48-4722-8a9e-38e728583ef5",
        "outputId": "20164783-1bac-4325-d158-da23ccfa14f0"
      },
      "outputs": [
        {
          "output_type": "stream",
          "name": "stdout",
          "text": [
            "[30. 10. 20. nan 15.  5. 25. 40.  3.  7.  1.]\n"
          ]
        }
      ],
      "source": [
        "print((train['Loan_Amount_Term']//12).unique())"
      ]
    },
    {
      "cell_type": "markdown",
      "id": "8d064118-8ed5-4870-84b9-331b6c8b6c98",
      "metadata": {
        "id": "8d064118-8ed5-4870-84b9-331b6c8b6c98"
      },
      "source": [
        "👉 The above array for Loan_Amount_Term indicates that it is discrete."
      ]
    },
    {
      "cell_type": "code",
      "execution_count": 29,
      "id": "e2252297-6bee-4ffa-b9ef-fa35a69f71b3",
      "metadata": {
        "colab": {
          "base_uri": "https://localhost:8080/",
          "height": 388
        },
        "id": "e2252297-6bee-4ffa-b9ef-fa35a69f71b3",
        "outputId": "fe344c8f-4429-4f26-82c4-5096ad86bd89"
      },
      "outputs": [
        {
          "output_type": "display_data",
          "data": {
            "text/plain": [
              "<Figure size 1200x400 with 1 Axes>"
            ],
            "image/png": "[encoded data removed]"
          },
          "metadata": {}
        }
      ],
      "source": [
        "plt.figure(figsize=(12,4))\n",
        "sns.histplot(train['Loan_Amount_Term']//12)\n",
        "plt.show()"
      ]
    },
    {
      "cell_type": "markdown",
      "id": "7b83e5b1-691b-4c3f-af5a-fc8b60ef3cd8",
      "metadata": {
        "id": "7b83e5b1-691b-4c3f-af5a-fc8b60ef3cd8"
      },
      "source": [
        "👉 The majority of the Loan terms are 30 years with 15 years being the second most common"
      ]
    },
    {
      "cell_type": "markdown",
      "id": "80368f85-6d78-4e39-856d-ea1194670f68",
      "metadata": {
        "id": "80368f85-6d78-4e39-856d-ea1194670f68"
      },
      "source": [
        "##### Distribution of Target variable across discrete_numerical columns"
      ]
    },
    {
      "cell_type": "code",
      "execution_count": 30,
      "id": "426410d4-edb1-4348-9be7-aef7fc594056",
      "metadata": {
        "colab": {
          "base_uri": "https://localhost:8080/",
          "height": 379
        },
        "id": "426410d4-edb1-4348-9be7-aef7fc594056",
        "outputId": "02f92ab1-9ac7-41ca-8cbc-92c777e9d261"
      },
      "outputs": [
        {
          "output_type": "display_data",
          "data": {
            "text/plain": [
              "<Figure size 1600x400 with 2 Axes>"
            ],
            "image/png": "[encoded data removed]"
          },
          "metadata": {}
        }
      ],
      "source": [
        "fig, axes=plt.subplots(1, len(dis_num_cols), figsize=(16,4), sharey=True)\n",
        "for i, col in enumerate(dis_num_cols):\n",
        "    sns.countplot(data=train, x=col, hue='Loan_Status', ax=axes[i])\n",
        "    axes[i].set_title(f'Distribution of Loan_Status by {col}')\n",
        "plt.tight_layout()\n",
        "plt.show()"
      ]
    },
    {
      "cell_type": "markdown",
      "id": "ab9efae2-6144-49f2-a63b-fdc24563fef4",
      "metadata": {
        "id": "ab9efae2-6144-49f2-a63b-fdc24563fef4"
      },
      "source": [
        "👉 Good credit History customer has more approved loans"
      ]
    },
    {
      "cell_type": "markdown",
      "id": "ee6d000a-1d9f-47d5-8fda-e50a46e83d52",
      "metadata": {
        "id": "ee6d000a-1d9f-47d5-8fda-e50a46e83d52"
      },
      "source": [
        "#### Check relationship between discrete numerical variable and target variable using Chi-Square test of independence"
      ]
    },
    {
      "cell_type": "code",
      "execution_count": 31,
      "id": "04d2fcc6-2f7b-4637-90a9-da619f25bfef",
      "metadata": {
        "colab": {
          "base_uri": "https://localhost:8080/"
        },
        "id": "04d2fcc6-2f7b-4637-90a9-da619f25bfef",
        "outputId": "626dd0e0-76ff-4c2d-f116-c311e601a624"
      },
      "outputs": [
        {
          "output_type": "stream",
          "name": "stdout",
          "text": [
            "\n",
            "Chi-Square Test Results for Credit_History: \n",
            "Chi-Square Statistic: 174.6373\n",
            "P-Value: 0.0000\n",
            "\n",
            "Chi-Square Test Results for Loan_Amount_Term: \n",
            "Chi-Square Statistic: 14.0132\n",
            "P-Value: 0.1219\n"
          ]
        }
      ],
      "source": [
        "for col in dis_num_cols:\n",
        "    contigency_table=pd.crosstab(train[col], train['Loan_Status'])\n",
        "    chi2, p, dof, expected=chi2_contingency(contigency_table)\n",
        "    print(f\"\\nChi-Square Test Results for {col}: \")\n",
        "    print(f'Chi-Square Statistic: {chi2:.4f}')\n",
        "    print(f'P-Value: {p:.4f}')"
      ]
    },
    {
      "cell_type": "code",
      "execution_count": 32,
      "id": "47d91521-5a94-460c-bcd0-247cbd1d5b04",
      "metadata": {
        "id": "47d91521-5a94-460c-bcd0-247cbd1d5b04"
      },
      "outputs": [],
      "source": [
        "significant_features.append('Credit_History')"
      ]
    },
    {
      "cell_type": "markdown",
      "id": "cf92a6b8-fe26-44ba-9228-4d28a1764ed1",
      "metadata": {
        "id": "cf92a6b8-fe26-44ba-9228-4d28a1764ed1"
      },
      "source": [
        "## 3.3 Continuous Numerical Columns Data Exploration"
      ]
    },
    {
      "cell_type": "code",
      "execution_count": 33,
      "id": "02270ee3-db73-4e3c-9638-d006178c6119",
      "metadata": {
        "colab": {
          "base_uri": "https://localhost:8080/"
        },
        "id": "02270ee3-db73-4e3c-9638-d006178c6119",
        "outputId": "2abea95e-83e2-4452-9799-5a68c9e22827"
      },
      "outputs": [
        {
          "output_type": "execute_result",
          "data": {
            "text/plain": [
              "['ApplicantIncome', 'CoapplicantIncome', 'LoanAmount']"
            ]
          },
          "metadata": {},
          "execution_count": 33
        }
      ],
      "source": [
        "num_cols"
      ]
    },
    {
      "cell_type": "code",
      "execution_count": 34,
      "id": "b4bbd15d-94c5-4d04-b412-4da68835828d",
      "metadata": {
        "colab": {
          "base_uri": "https://localhost:8080/",
          "height": 143
        },
        "id": "b4bbd15d-94c5-4d04-b412-4da68835828d",
        "outputId": "baf26d95-654b-4d0b-9fa3-99ce90b141c2"
      },
      "outputs": [
        {
          "output_type": "execute_result",
          "data": {
            "text/plain": [
              "                   count         mean          std    min     25%     50%  \\\n",
              "ApplicantIncome    614.0  5403.459283  6109.041673  150.0  2877.5  3812.5   \n",
              "CoapplicantIncome  614.0  1621.245798  2926.248369    0.0     0.0  1188.5   \n",
              "LoanAmount         592.0   146.412162    85.587325    9.0   100.0   128.0   \n",
              "\n",
              "                       75%      max  \n",
              "ApplicantIncome    5795.00  81000.0  \n",
              "CoapplicantIncome  2297.25  41667.0  \n",
              "LoanAmount          168.00    700.0  "
            ],
            "text/html": [
              "\n",
              "  <div id=\"df-7e96b453-2ef9-4c63-9d73-74804ced23f5\" class=\"colab-df-container\">\n",
              "    <div>\n",
              "<style scoped>\n",
              "    .dataframe tbody tr th:only-of-type {\n",
              "        vertical-align: middle;\n",
              "    }\n",
              "\n",
              "    .dataframe tbody tr th {\n",
              "        vertical-align: top;\n",
              "    }\n",
              "\n",
              "    .dataframe thead th {\n",
              "        text-align: right;\n",
              "    }\n",
              "</style>\n",
              "<table border=\"1\" class=\"dataframe\">\n",
              "  <thead>\n",
              "    <tr style=\"text-align: right;\">\n",
              "      <th></th>\n",
              "      <th>count</th>\n",
              "      <th>mean</th>\n",
              "      <th>std</th>\n",
              "      <th>min</th>\n",
              "      <th>25%</th>\n",
              "      <th>50%</th>\n",
              "      <th>75%</th>\n",
              "      <th>max</th>\n",
              "    </tr>\n",
              "  </thead>\n",
              "  <tbody>\n",
              "    <tr>\n",
              "      <th>ApplicantIncome</th>\n",
              "      <td>614.0</td>\n",
              "      <td>5403.459283</td>\n",
              "      <td>6109.041673</td>\n",
              "      <td>150.0</td>\n",
              "      <td>2877.5</td>\n",
              "      <td>3812.5</td>\n",
              "      <td>5795.00</td>\n",
              "      <td>81000.0</td>\n",
              "    </tr>\n",
              "    <tr>\n",
              "      <th>CoapplicantIncome</th>\n",
              "      <td>614.0</td>\n",
              "      <td>1621.245798</td>\n",
              "      <td>2926.248369</td>\n",
              "      <td>0.0</td>\n",
              "      <td>0.0</td>\n",
              "      <td>1188.5</td>\n",
              "      <td>2297.25</td>\n",
              "      <td>41667.0</td>\n",
              "    </tr>\n",
              "    <tr>\n",
              "      <th>LoanAmount</th>\n",
              "      <td>592.0</td>\n",
              "      <td>146.412162</td>\n",
              "      <td>85.587325</td>\n",
              "      <td>9.0</td>\n",
              "      <td>100.0</td>\n",
              "      <td>128.0</td>\n",
              "      <td>168.00</td>\n",
              "      <td>700.0</td>\n",
              "    </tr>\n",
              "  </tbody>\n",
              "</table>\n",
              "</div>\n",
              "    <div class=\"colab-df-buttons\">\n",
              "\n",
              "  <div class=\"colab-df-container\">\n",
              "    <button class=\"colab-df-convert\" onclick=\"convertToInteractive('df-7e96b453-2ef9-4c63-9d73-74804ced23f5')\"\n",
              "            title=\"Convert this dataframe to an interactive table.\"\n",
              "            style=\"display:none;\">\n",
              "\n",
              "  <svg xmlns=\"http://www.w3.org/2000/svg\" height=\"24px\" viewBox=\"0 -960 960 960\">\n",
              "    <path d=\"M120-120v-720h720v720H120Zm60-500h600v-160H180v160Zm220 220h160v-160H400v160Zm0 220h160v-160H400v160ZM180-400h160v-160H180v160Zm440 0h160v-160H620v160ZM180-180h160v-160H180v160Zm440 0h160v-160H620v160Z\"/>\n",
              "  </svg>\n",
              "    </button>\n",
              "\n",
              "  <style>\n",
              "    .colab-df-container {\n",
              "      display:flex;\n",
              "      gap: 12px;\n",
              "    }\n",
              "\n",
              "    .colab-df-convert {\n",
              "      background-color: #E8F0FE;\n",
              "      border: none;\n",
              "      border-radius: 50%;\n",
              "      cursor: pointer;\n",
              "      display: none;\n",
              "      fill: #1967D2;\n",
              "      height: 32px;\n",
              "      padding: 0 0 0 0;\n",
              "      width: 32px;\n",
              "    }\n",
              "\n",
              "    .colab-df-convert:hover {\n",
              "      background-color: #E2EBFA;\n",
              "      box-shadow: 0px 1px 2px rgba(60, 64, 67, 0.3), 0px 1px 3px 1px rgba(60, 64, 67, 0.15);\n",
              "      fill: #174EA6;\n",
              "    }\n",
              "\n",
              "    .colab-df-buttons div {\n",
              "      margin-bottom: 4px;\n",
              "    }\n",
              "\n",
              "    [theme=dark] .colab-df-convert {\n",
              "      background-color: #3B4455;\n",
              "      fill: #D2E3FC;\n",
              "    }\n",
              "\n",
              "    [theme=dark] .colab-df-convert:hover {\n",
              "      background-color: #434B5C;\n",
              "      box-shadow: 0px 1px 3px 1px rgba(0, 0, 0, 0.15);\n",
              "      filter: drop-shadow(0px 1px 2px rgba(0, 0, 0, 0.3));\n",
              "      fill: #FFFFFF;\n",
              "    }\n",
              "  </style>\n",
              "\n",
              "    <script>\n",
              "      const buttonEl =\n",
              "        document.querySelector('#df-7e96b453-2ef9-4c63-9d73-74804ced23f5 button.colab-df-convert');\n",
              "      buttonEl.style.display =\n",
              "        google.colab.kernel.accessAllowed ? 'block' : 'none';\n",
              "\n",
              "      async function convertToInteractive(key) {\n",
              "        const element = document.querySelector('#df-7e96b453-2ef9-4c63-9d73-74804ced23f5');\n",
              "        const dataTable =\n",
              "          await google.colab.kernel.invokeFunction('convertToInteractive',\n",
              "                                                    [key], {});\n",
              "        if (!dataTable) return;\n",
              "\n",
              "        const docLinkHtml = 'Like what you see? Visit the ' +\n",
              "          '<a target=\"_blank\" href=https://colab.research.google.com/notebooks/data_table.ipynb>data table notebook</a>'\n",
              "          + ' to learn more about interactive tables.';\n",
              "        element.innerHTML = '';\n",
              "        dataTable['output_type'] = 'display_data';\n",
              "        await google.colab.output.renderOutput(dataTable, element);\n",
              "        const docLink = document.createElement('div');\n",
              "        docLink.innerHTML = docLinkHtml;\n",
              "        element.appendChild(docLink);\n",
              "      }\n",
              "    </script>\n",
              "  </div>\n",
              "\n",
              "\n",
              "<div id=\"df-98ebc9d1-e656-4f18-bb7b-fcf4b3737974\">\n",
              "  <button class=\"colab-df-quickchart\" onclick=\"quickchart('df-98ebc9d1-e656-4f18-bb7b-fcf4b3737974')\"\n",
              "            title=\"Suggest charts\"\n",
              "            style=\"display:none;\">\n",
              "\n",
              "<svg xmlns=\"http://www.w3.org/2000/svg\" height=\"24px\"viewBox=\"0 0 24 24\"\n",
              "     width=\"24px\">\n",
              "    <g>\n",
              "        <path d=\"M19 3H5c-1.1 0-2 .9-2 2v14c0 1.1.9 2 2 2h14c1.1 0 2-.9 2-2V5c0-1.1-.9-2-2-2zM9 17H7v-7h2v7zm4 0h-2V7h2v10zm4 0h-2v-4h2v4z\"/>\n",
              "    </g>\n",
              "</svg>\n",
              "  </button>\n",
              "\n",
              "<style>\n",
              "  .colab-df-quickchart {\n",
              "      --bg-color: #E8F0FE;\n",
              "      --fill-color: #1967D2;\n",
              "      --hover-bg-color: #E2EBFA;\n",
              "      --hover-fill-color: #174EA6;\n",
              "      --disabled-fill-color: #AAA;\n",
              "      --disabled-bg-color: #DDD;\n",
              "  }\n",
              "\n",
              "  [theme=dark] .colab-df-quickchart {\n",
              "      --bg-color: #3B4455;\n",
              "      --fill-color: #D2E3FC;\n",
              "      --hover-bg-color: #434B5C;\n",
              "      --hover-fill-color: #FFFFFF;\n",
              "      --disabled-bg-color: #3B4455;\n",
              "      --disabled-fill-color: #666;\n",
              "  }\n",
              "\n",
              "  .colab-df-quickchart {\n",
              "    background-color: var(--bg-color);\n",
              "    border: none;\n",
              "    border-radius: 50%;\n",
              "    cursor: pointer;\n",
              "    display: none;\n",
              "    fill: var(--fill-color);\n",
              "    height: 32px;\n",
              "    padding: 0;\n",
              "    width: 32px;\n",
              "  }\n",
              "\n",
              "  .colab-df-quickchart:hover {\n",
              "    background-color: var(--hover-bg-color);\n",
              "    box-shadow: 0 1px 2px rgba(60, 64, 67, 0.3), 0 1px 3px 1px rgba(60, 64, 67, 0.15);\n",
              "    fill: var(--button-hover-fill-color);\n",
              "  }\n",
              "\n",
              "  .colab-df-quickchart-complete:disabled,\n",
              "  .colab-df-quickchart-complete:disabled:hover {\n",
              "    background-color: var(--disabled-bg-color);\n",
              "    fill: var(--disabled-fill-color);\n",
              "    box-shadow: none;\n",
              "  }\n",
              "\n",
              "  .colab-df-spinner {\n",
              "    border: 2px solid var(--fill-color);\n",
              "    border-color: transparent;\n",
              "    border-bottom-color: var(--fill-color);\n",
              "    animation:\n",
              "      spin 1s steps(1) infinite;\n",
              "  }\n",
              "\n",
              "  @keyframes spin {\n",
              "    0% {\n",
              "      border-color: transparent;\n",
              "      border-bottom-color: var(--fill-color);\n",
              "      border-left-color: var(--fill-color);\n",
              "    }\n",
              "    20% {\n",
              "      border-color: transparent;\n",
              "      border-left-color: var(--fill-color);\n",
              "      border-top-color: var(--fill-color);\n",
              "    }\n",
              "    30% {\n",
              "      border-color: transparent;\n",
              "      border-left-color: var(--fill-color);\n",
              "      border-top-color: var(--fill-color);\n",
              "      border-right-color: var(--fill-color);\n",
              "    }\n",
              "    40% {\n",
              "      border-color: transparent;\n",
              "      border-right-color: var(--fill-color);\n",
              "      border-top-color: var(--fill-color);\n",
              "    }\n",
              "    60% {\n",
              "      border-color: transparent;\n",
              "      border-right-color: var(--fill-color);\n",
              "    }\n",
              "    80% {\n",
              "      border-color: transparent;\n",
              "      border-right-color: var(--fill-color);\n",
              "      border-bottom-color: var(--fill-color);\n",
              "    }\n",
              "    90% {\n",
              "      border-color: transparent;\n",
              "      border-bottom-color: var(--fill-color);\n",
              "    }\n",
              "  }\n",
              "</style>\n",
              "\n",
              "  <script>\n",
              "    async function quickchart(key) {\n",
              "      const quickchartButtonEl =\n",
              "        document.querySelector('#' + key + ' button');\n",
              "      quickchartButtonEl.disabled = true;  // To prevent multiple clicks.\n",
              "      quickchartButtonEl.classList.add('colab-df-spinner');\n",
              "      try {\n",
              "        const charts = await google.colab.kernel.invokeFunction(\n",
              "            'suggestCharts', [key], {});\n",
              "      } catch (error) {\n",
              "        console.error('Error during call to suggestCharts:', error);\n",
              "      }\n",
              "      quickchartButtonEl.classList.remove('colab-df-spinner');\n",
              "      quickchartButtonEl.classList.add('colab-df-quickchart-complete');\n",
              "    }\n",
              "    (() => {\n",
              "      let quickchartButtonEl =\n",
              "        document.querySelector('#df-98ebc9d1-e656-4f18-bb7b-fcf4b3737974 button');\n",
              "      quickchartButtonEl.style.display =\n",
              "        google.colab.kernel.accessAllowed ? 'block' : 'none';\n",
              "    })();\n",
              "  </script>\n",
              "</div>\n",
              "\n",
              "    </div>\n",
              "  </div>\n"
            ],
            "application/vnd.google.colaboratory.intrinsic+json": {
              "type": "dataframe",
              "summary": "{\n  \"name\": \"train[num_cols]\",\n  \"rows\": 3,\n  \"fields\": [\n    {\n      \"column\": \"count\",\n      \"properties\": {\n        \"dtype\": \"number\",\n        \"std\": 12.701705922171767,\n        \"min\": 592.0,\n        \"max\": 614.0,\n        \"num_unique_values\": 2,\n        \"samples\": [\n          592.0,\n          614.0\n        ],\n        \"semantic_type\": \"\",\n        \"description\": \"\"\n      }\n    },\n    {\n      \"column\": \"mean\",\n      \"properties\": {\n        \"dtype\": \"number\",\n        \"std\": 2711.6052299055405,\n        \"min\": 146.41216216216216,\n        \"max\": 5403.459283387622,\n        \"num_unique_values\": 3,\n        \"samples\": [\n          5403.459283387622,\n          1621.2457980271008\n        ],\n        \"semantic_type\": \"\",\n        \"description\": \"\"\n      }\n    },\n    {\n      \"column\": \"std\",\n      \"properties\": {\n        \"dtype\": \"number\",\n        \"std\": 3013.346165204704,\n        \"min\": 85.58732523570545,\n        \"max\": 6109.041673387178,\n        \"num_unique_values\": 3,\n        \"samples\": [\n          6109.041673387178,\n          2926.2483692241885\n        ],\n        \"semantic_type\": \"\",\n        \"description\": \"\"\n      }\n    },\n    {\n      \"column\": \"min\",\n      \"properties\": {\n        \"dtype\": \"number\",\n        \"std\": 84.12490713219242,\n        \"min\": 0.0,\n        \"max\": 150.0,\n        \"num_unique_values\": 3,\n        \"samples\": [\n          150.0,\n          0.0\n        ],\n        \"semantic_type\": \"\",\n        \"description\": \"\"\n      }\n    },\n    {\n      \"column\": \"25%\",\n      \"properties\": {\n        \"dtype\": \"number\",\n        \"std\": 1633.2234231727145,\n        \"min\": 0.0,\n        \"max\": 2877.5,\n        \"num_unique_values\": 3,\n        \"samples\": [\n          2877.5,\n          0.0\n        ],\n        \"semantic_type\": \"\",\n        \"description\": \"\"\n      }\n    },\n    {\n      \"column\": \"50%\",\n      \"properties\": {\n        \"dtype\": \"number\",\n        \"std\": 1896.733002647798,\n        \"min\": 128.0,\n        \"max\": 3812.5,\n        \"num_unique_values\": 3,\n        \"samples\": [\n          3812.5,\n          1188.5\n        ],\n        \"semantic_type\": \"\",\n        \"description\": \"\"\n      }\n    },\n    {\n      \"column\": \"75%\",\n      \"properties\": {\n        \"dtype\": \"number\",\n        \"std\": 2841.0998347177688,\n        \"min\": 168.0,\n        \"max\": 5795.0,\n        \"num_unique_values\": 3,\n        \"samples\": [\n          5795.0,\n          2297.25\n        ],\n        \"semantic_type\": \"\",\n        \"description\": \"\"\n      }\n    },\n    {\n      \"column\": \"max\",\n      \"properties\": {\n        \"dtype\": \"number\",\n        \"std\": 40152.77071801314,\n        \"min\": 700.0,\n        \"max\": 81000.0,\n        \"num_unique_values\": 3,\n        \"samples\": [\n          81000.0,\n          41667.0\n        ],\n        \"semantic_type\": \"\",\n        \"description\": \"\"\n      }\n    }\n  ]\n}"
            }
          },
          "metadata": {},
          "execution_count": 34
        }
      ],
      "source": [
        "train[num_cols].describe().T"
      ]
    },
    {
      "cell_type": "markdown",
      "id": "381846b3-f744-4a69-ad92-0abf2e102703",
      "metadata": {
        "id": "381846b3-f744-4a69-ad92-0abf2e102703"
      },
      "source": [
        "#### 3.3.1 ApplicantIncome"
      ]
    },
    {
      "cell_type": "code",
      "execution_count": 35,
      "id": "292b43fc-0825-4b41-9895-ac08ffc4f1ee",
      "metadata": {
        "colab": {
          "base_uri": "https://localhost:8080/",
          "height": 391
        },
        "id": "292b43fc-0825-4b41-9895-ac08ffc4f1ee",
        "outputId": "9dbe9419-f1cb-4d0f-f36d-ace1c4459385"
      },
      "outputs": [
        {
          "output_type": "display_data",
          "data": {
            "text/plain": [
              "<Figure size 600x400 with 1 Axes>"
            ],
            "image/png": "[encoded data removed]"
          },
          "metadata": {}
        }
      ],
      "source": [
        "plt.figure(figsize=(6,4))\n",
        "sns.histplot(x='ApplicantIncome', data=train, kde=True)\n",
        "plt.show()"
      ]
    },
    {
      "cell_type": "markdown",
      "id": "88763179-9dee-4ca4-a79e-5dae4e3e2303",
      "metadata": {
        "id": "88763179-9dee-4ca4-a79e-5dae4e3e2303"
      },
      "source": [
        "👉 The above histogram for ApplicantIncome is positively skewed. It implies that the distribution of ApplicantIncome values is skewed towards higher values."
      ]
    },
    {
      "cell_type": "markdown",
      "id": "33209c4e-5b36-4cfa-995b-d82664e347a8",
      "metadata": {
        "id": "33209c4e-5b36-4cfa-995b-d82664e347a8"
      },
      "source": [
        "#### 3.3.2 CoapplicantIncome"
      ]
    },
    {
      "cell_type": "code",
      "execution_count": 36,
      "id": "51229514-7fb3-4a22-9f3c-77fe37450b63",
      "metadata": {
        "colab": {
          "base_uri": "https://localhost:8080/",
          "height": 388
        },
        "id": "51229514-7fb3-4a22-9f3c-77fe37450b63",
        "outputId": "dca65c59-4053-4043-bd60-3bd201a5df88"
      },
      "outputs": [
        {
          "output_type": "display_data",
          "data": {
            "text/plain": [
              "<Figure size 600x400 with 1 Axes>"
            ],
            "image/png": "[encoded data removed]"
          },
          "metadata": {}
        }
      ],
      "source": [
        "plt.figure(figsize=(6,4))\n",
        "sns.histplot(x='CoapplicantIncome', data=train, kde=True)\n",
        "plt.show()"
      ]
    },
    {
      "cell_type": "markdown",
      "id": "fb06889b-5267-4da8-a3b4-1985e3ed5308",
      "metadata": {
        "id": "fb06889b-5267-4da8-a3b4-1985e3ed5308"
      },
      "source": [
        "👉 The above histogram for coapplicantIncome is positively skewed. It implies that the distribution of ApplicantIncome values is skewed towards higher values."
      ]
    },
    {
      "cell_type": "markdown",
      "id": "60bc400d-6534-4aa5-8ea0-a985b1352ca2",
      "metadata": {
        "id": "60bc400d-6534-4aa5-8ea0-a985b1352ca2"
      },
      "source": [
        "#### 3.3.3 Loan_Amount"
      ]
    },
    {
      "cell_type": "code",
      "execution_count": 37,
      "id": "b9a7c6bc-d42e-4518-b257-5daf9b5600eb",
      "metadata": {
        "colab": {
          "base_uri": "https://localhost:8080/",
          "height": 391
        },
        "id": "b9a7c6bc-d42e-4518-b257-5daf9b5600eb",
        "outputId": "5a48ea17-ca38-4a22-9bbb-7278f6508667"
      },
      "outputs": [
        {
          "output_type": "display_data",
          "data": {
            "text/plain": [
              "<Figure size 600x400 with 1 Axes>"
            ],
            "image/png": "[encoded data removed]"
          },
          "metadata": {}
        }
      ],
      "source": [
        "plt.figure(figsize=(6,4))\n",
        "sns.histplot(x='LoanAmount', data=train, kde=True)\n",
        "plt.show()"
      ]
    },
    {
      "cell_type": "markdown",
      "id": "11865823-c566-46a7-b86f-5e41ca26dcf0",
      "metadata": {
        "id": "11865823-c566-46a7-b86f-5e41ca26dcf0"
      },
      "source": [
        "👉 The above histogram for LoanAmount is positively skewed. It implies that the distribution of ApplicantIncome values is skewed towards higher values."
      ]
    },
    {
      "cell_type": "code",
      "execution_count": 38,
      "id": "05835992-68d8-438a-9257-6b20b3713665",
      "metadata": {
        "colab": {
          "base_uri": "https://localhost:8080/"
        },
        "id": "05835992-68d8-438a-9257-6b20b3713665",
        "outputId": "04050330-e529-4558-f461-872cd2ad89d4"
      },
      "outputs": [
        {
          "output_type": "stream",
          "name": "stdout",
          "text": [
            "\n",
            "T-Test Results for ApplicantIncome:\n",
            "T-Statistic: -0.1165\n",
            "P-Value: 0.9073\n",
            "\n",
            "T-Test Results for CoapplicantIncome:\n",
            "T-Statistic: -1.4668\n",
            "P-Value: 0.1429\n",
            "\n",
            "T-Test Results for LoanAmount:\n",
            "T-Statistic: -0.9071\n",
            "P-Value: 0.3647\n"
          ]
        }
      ],
      "source": [
        "from scipy.stats import ttest_ind\n",
        "train['Loan_Status']=train['Loan_Status'].map({'Y':1, 'N':0})\n",
        "for col in num_cols:\n",
        "    group1 = train[train['Loan_Status'] == 1][col].dropna()\n",
        "    group2 = train[train['Loan_Status'] == 0][col].dropna()\n",
        "    t_stat, p_value = ttest_ind(group1, group2)\n",
        "    print(f\"\\nT-Test Results for {col}:\")\n",
        "    print(f\"T-Statistic: {t_stat:.4f}\")\n",
        "    print(f\"P-Value: {p_value:.4f}\")"
      ]
    },
    {
      "cell_type": "code",
      "execution_count": 39,
      "id": "0351e6b7-5704-429e-ac5f-f85f7f476ee9",
      "metadata": {
        "colab": {
          "base_uri": "https://localhost:8080/",
          "height": 238
        },
        "id": "0351e6b7-5704-429e-ac5f-f85f7f476ee9",
        "outputId": "8632bafc-b4a7-49e0-e6cf-f9f80baa99ed"
      },
      "outputs": [
        {
          "output_type": "execute_result",
          "data": {
            "text/plain": [
              "<pandas.io.formats.style.Styler at 0x7c149689fa00>"
            ],
            "text/html": [
              "<style type=\"text/css\">\n",
              "#T_c5521_row0_col0, #T_c5521_row1_col1, #T_c5521_row2_col2, #T_c5521_row3_col3, #T_c5521_row4_col4, #T_c5521_row5_col5 {\n",
              "  background-color: #b40426;\n",
              "  color: #f1f1f1;\n",
              "}\n",
              "#T_c5521_row0_col1, #T_c5521_row0_col4, #T_c5521_row1_col0, #T_c5521_row1_col3, #T_c5521_row1_col5, #T_c5521_row5_col2 {\n",
              "  background-color: #3b4cc0;\n",
              "  color: #f1f1f1;\n",
              "}\n",
              "#T_c5521_row0_col2, #T_c5521_row4_col5 {\n",
              "  background-color: #f0cdbb;\n",
              "  color: #000000;\n",
              "}\n",
              "#T_c5521_row0_col3, #T_c5521_row1_col4 {\n",
              "  background-color: #3e51c5;\n",
              "  color: #f1f1f1;\n",
              "}\n",
              "#T_c5521_row0_col5, #T_c5521_row3_col1, #T_c5521_row5_col1 {\n",
              "  background-color: #4a63d3;\n",
              "  color: #f1f1f1;\n",
              "}\n",
              "#T_c5521_row1_col2 {\n",
              "  background-color: #81a4fb;\n",
              "  color: #f1f1f1;\n",
              "}\n",
              "#T_c5521_row2_col0 {\n",
              "  background-color: #f3c7b1;\n",
              "  color: #000000;\n",
              "}\n",
              "#T_c5521_row2_col1 {\n",
              "  background-color: #94b6ff;\n",
              "  color: #000000;\n",
              "}\n",
              "#T_c5521_row2_col3, #T_c5521_row4_col0 {\n",
              "  background-color: #5673e0;\n",
              "  color: #f1f1f1;\n",
              "}\n",
              "#T_c5521_row2_col4 {\n",
              "  background-color: #3c4ec2;\n",
              "  color: #f1f1f1;\n",
              "}\n",
              "#T_c5521_row2_col5 {\n",
              "  background-color: #4055c8;\n",
              "  color: #f1f1f1;\n",
              "}\n",
              "#T_c5521_row3_col0 {\n",
              "  background-color: #4e68d8;\n",
              "  color: #f1f1f1;\n",
              "}\n",
              "#T_c5521_row3_col2 {\n",
              "  background-color: #506bda;\n",
              "  color: #f1f1f1;\n",
              "}\n",
              "#T_c5521_row3_col4 {\n",
              "  background-color: #3f53c6;\n",
              "  color: #f1f1f1;\n",
              "}\n",
              "#T_c5521_row3_col5, #T_c5521_row5_col3 {\n",
              "  background-color: #455cce;\n",
              "  color: #f1f1f1;\n",
              "}\n",
              "#T_c5521_row4_col1 {\n",
              "  background-color: #5a78e4;\n",
              "  color: #f1f1f1;\n",
              "}\n",
              "#T_c5521_row4_col2 {\n",
              "  background-color: #4358cb;\n",
              "  color: #f1f1f1;\n",
              "}\n",
              "#T_c5521_row4_col3 {\n",
              "  background-color: #4b64d5;\n",
              "  color: #f1f1f1;\n",
              "}\n",
              "#T_c5521_row5_col0 {\n",
              "  background-color: #5977e3;\n",
              "  color: #f1f1f1;\n",
              "}\n",
              "#T_c5521_row5_col4 {\n",
              "  background-color: #edd2c3;\n",
              "  color: #000000;\n",
              "}\n",
              "</style>\n",
              "<table id=\"T_c5521\" class=\"dataframe\">\n",
              "  <thead>\n",
              "    <tr>\n",
              "      <th class=\"blank level0\" >&nbsp;</th>\n",
              "      <th id=\"T_c5521_level0_col0\" class=\"col_heading level0 col0\" >ApplicantIncome</th>\n",
              "      <th id=\"T_c5521_level0_col1\" class=\"col_heading level0 col1\" >CoapplicantIncome</th>\n",
              "      <th id=\"T_c5521_level0_col2\" class=\"col_heading level0 col2\" >LoanAmount</th>\n",
              "      <th id=\"T_c5521_level0_col3\" class=\"col_heading level0 col3\" >Loan_Amount_Term</th>\n",
              "      <th id=\"T_c5521_level0_col4\" class=\"col_heading level0 col4\" >Credit_History</th>\n",
              "      <th id=\"T_c5521_level0_col5\" class=\"col_heading level0 col5\" >Loan_Status</th>\n",
              "    </tr>\n",
              "  </thead>\n",
              "  <tbody>\n",
              "    <tr>\n",
              "      <th id=\"T_c5521_level0_row0\" class=\"row_heading level0 row0\" >ApplicantIncome</th>\n",
              "      <td id=\"T_c5521_row0_col0\" class=\"data row0 col0\" >1.000000</td>\n",
              "      <td id=\"T_c5521_row0_col1\" class=\"data row0 col1\" >-0.116605</td>\n",
              "      <td id=\"T_c5521_row0_col2\" class=\"data row0 col2\" >0.570909</td>\n",
              "      <td id=\"T_c5521_row0_col3\" class=\"data row0 col3\" >-0.045306</td>\n",
              "      <td id=\"T_c5521_row0_col4\" class=\"data row0 col4\" >-0.014715</td>\n",
              "      <td id=\"T_c5521_row0_col5\" class=\"data row0 col5\" >-0.004710</td>\n",
              "    </tr>\n",
              "    <tr>\n",
              "      <th id=\"T_c5521_level0_row1\" class=\"row_heading level0 row1\" >CoapplicantIncome</th>\n",
              "      <td id=\"T_c5521_row1_col0\" class=\"data row1 col0\" >-0.116605</td>\n",
              "      <td id=\"T_c5521_row1_col1\" class=\"data row1 col1\" >1.000000</td>\n",
              "      <td id=\"T_c5521_row1_col2\" class=\"data row1 col2\" >0.188619</td>\n",
              "      <td id=\"T_c5521_row1_col3\" class=\"data row1 col3\" >-0.059878</td>\n",
              "      <td id=\"T_c5521_row1_col4\" class=\"data row1 col4\" >-0.002056</td>\n",
              "      <td id=\"T_c5521_row1_col5\" class=\"data row1 col5\" >-0.059187</td>\n",
              "    </tr>\n",
              "    <tr>\n",
              "      <th id=\"T_c5521_level0_row2\" class=\"row_heading level0 row2\" >LoanAmount</th>\n",
              "      <td id=\"T_c5521_row2_col0\" class=\"data row2 col0\" >0.570909</td>\n",
              "      <td id=\"T_c5521_row2_col1\" class=\"data row2 col1\" >0.188619</td>\n",
              "      <td id=\"T_c5521_row2_col2\" class=\"data row2 col2\" >1.000000</td>\n",
              "      <td id=\"T_c5521_row2_col3\" class=\"data row2 col3\" >0.039447</td>\n",
              "      <td id=\"T_c5521_row2_col4\" class=\"data row2 col4\" >-0.008433</td>\n",
              "      <td id=\"T_c5521_row2_col5\" class=\"data row2 col5\" >-0.037318</td>\n",
              "    </tr>\n",
              "    <tr>\n",
              "      <th id=\"T_c5521_level0_row3\" class=\"row_heading level0 row3\" >Loan_Amount_Term</th>\n",
              "      <td id=\"T_c5521_row3_col0\" class=\"data row3 col0\" >-0.045306</td>\n",
              "      <td id=\"T_c5521_row3_col1\" class=\"data row3 col1\" >-0.059878</td>\n",
              "      <td id=\"T_c5521_row3_col2\" class=\"data row3 col2\" >0.039447</td>\n",
              "      <td id=\"T_c5521_row3_col3\" class=\"data row3 col3\" >1.000000</td>\n",
              "      <td id=\"T_c5521_row3_col4\" class=\"data row3 col4\" >0.001470</td>\n",
              "      <td id=\"T_c5521_row3_col5\" class=\"data row3 col5\" >-0.021268</td>\n",
              "    </tr>\n",
              "    <tr>\n",
              "      <th id=\"T_c5521_level0_row4\" class=\"row_heading level0 row4\" >Credit_History</th>\n",
              "      <td id=\"T_c5521_row4_col0\" class=\"data row4 col0\" >-0.014715</td>\n",
              "      <td id=\"T_c5521_row4_col1\" class=\"data row4 col1\" >-0.002056</td>\n",
              "      <td id=\"T_c5521_row4_col2\" class=\"data row4 col2\" >-0.008433</td>\n",
              "      <td id=\"T_c5521_row4_col3\" class=\"data row4 col3\" >0.001470</td>\n",
              "      <td id=\"T_c5521_row4_col4\" class=\"data row4 col4\" >1.000000</td>\n",
              "      <td id=\"T_c5521_row4_col5\" class=\"data row4 col5\" >0.561678</td>\n",
              "    </tr>\n",
              "    <tr>\n",
              "      <th id=\"T_c5521_level0_row5\" class=\"row_heading level0 row5\" >Loan_Status</th>\n",
              "      <td id=\"T_c5521_row5_col0\" class=\"data row5 col0\" >-0.004710</td>\n",
              "      <td id=\"T_c5521_row5_col1\" class=\"data row5 col1\" >-0.059187</td>\n",
              "      <td id=\"T_c5521_row5_col2\" class=\"data row5 col2\" >-0.037318</td>\n",
              "      <td id=\"T_c5521_row5_col3\" class=\"data row5 col3\" >-0.021268</td>\n",
              "      <td id=\"T_c5521_row5_col4\" class=\"data row5 col4\" >0.561678</td>\n",
              "      <td id=\"T_c5521_row5_col5\" class=\"data row5 col5\" >1.000000</td>\n",
              "    </tr>\n",
              "  </tbody>\n",
              "</table>\n"
            ]
          },
          "metadata": {},
          "execution_count": 39
        }
      ],
      "source": [
        "corr_matrix=train.corr(numeric_only=True)\n",
        "corr_matrix.style.background_gradient(cmap='coolwarm')"
      ]
    },
    {
      "cell_type": "markdown",
      "id": "a3fee753-6209-41eb-b560-20f1e17b54a9",
      "metadata": {
        "id": "a3fee753-6209-41eb-b560-20f1e17b54a9"
      },
      "source": [
        "👉 There is a moderate positive correlation indicating that higher applicant incomes are associated with higher loan amounts.\n",
        "    \n",
        "👉 Credit History has very weak correlation with all variables (except target) implying that it might be largely independent of these other factors"
      ]
    },
    {
      "cell_type": "code",
      "execution_count": 40,
      "id": "4851f4ba-d294-45d6-bebb-7a9ac32383cd",
      "metadata": {
        "colab": {
          "base_uri": "https://localhost:8080/"
        },
        "id": "4851f4ba-d294-45d6-bebb-7a9ac32383cd",
        "outputId": "62481672-119f-492a-c1e0-b3ce66a9ea35"
      },
      "outputs": [
        {
          "output_type": "stream",
          "name": "stdout",
          "text": [
            "['Married', 'Education', 'Property_Area', 'Credit_History', 'ApplicantIncome', 'CoapplicantIncome', 'LoanAmount']\n"
          ]
        }
      ],
      "source": [
        "significant_features.extend(['ApplicantIncome', 'CoapplicantIncome', 'LoanAmount'])\n",
        "print(significant_features)"
      ]
    },
    {
      "cell_type": "markdown",
      "id": "80388dec-af83-4955-a2bf-6a83a64af76d",
      "metadata": {
        "id": "80388dec-af83-4955-a2bf-6a83a64af76d"
      },
      "source": [
        "#### 3.3.4 Outlier detection"
      ]
    },
    {
      "cell_type": "code",
      "execution_count": 41,
      "id": "9b289f19-8811-4f54-8ee6-86ef05c4228d",
      "metadata": {
        "colab": {
          "base_uri": "https://localhost:8080/",
          "height": 407
        },
        "id": "9b289f19-8811-4f54-8ee6-86ef05c4228d",
        "outputId": "ccca68cc-3dc3-4ce7-d04d-3b6cfdd50417"
      },
      "outputs": [
        {
          "output_type": "display_data",
          "data": {
            "text/plain": [
              "<Figure size 1200x400 with 3 Axes>"
            ],
            "image/png": "[encoded data removed]"
          },
          "metadata": {}
        }
      ],
      "source": [
        "plt.figure(figsize=(12,4))\n",
        "for i, col in enumerate(num_cols, 1):\n",
        "    plt.subplot(1, 3, i)\n",
        "    sns.boxplot(x=train[col])\n",
        "plt.tight_layout()\n",
        "plt.show()"
      ]
    },
    {
      "cell_type": "code",
      "execution_count": 42,
      "id": "bb58bbcc-d29b-4fbe-845c-abb2e61a90a5",
      "metadata": {
        "colab": {
          "base_uri": "https://localhost:8080/",
          "height": 298
        },
        "id": "bb58bbcc-d29b-4fbe-845c-abb2e61a90a5",
        "outputId": "b90eaf13-45bb-4e9d-b503-a0c2d62b4f06"
      },
      "outputs": [
        {
          "output_type": "display_data",
          "data": {
            "text/plain": [
              "<Figure size 1000x800 with 3 Axes>"
            ],
            "image/png": "[encoded data removed]"
          },
          "metadata": {}
        }
      ],
      "source": [
        "plt.figure(figsize=(10,8))\n",
        "for i,col in enumerate(num_cols, 1):\n",
        "    plt.subplot(3, 3, i)\n",
        "    sns.boxplot(x='Loan_Status', y=col, data=train)\n",
        "plt.tight_layout()\n",
        "plt.show()"
      ]
    },
    {
      "cell_type": "markdown",
      "id": "4e2607d1-41c3-40e0-88ab-c8e75cf0b63d",
      "metadata": {
        "id": "4e2607d1-41c3-40e0-88ab-c8e75cf0b63d"
      },
      "source": [
        "## 4. Null Values"
      ]
    },
    {
      "cell_type": "code",
      "execution_count": 43,
      "id": "a698a799-a287-410c-bb5a-5e490f9e6193",
      "metadata": {
        "colab": {
          "base_uri": "https://localhost:8080/",
          "height": 492
        },
        "id": "a698a799-a287-410c-bb5a-5e490f9e6193",
        "outputId": "d06b6c9f-3f43-447a-8aae-3693f8640c4c"
      },
      "outputs": [
        {
          "output_type": "execute_result",
          "data": {
            "text/plain": [
              "Loan_ID               0\n",
              "Gender               13\n",
              "Married               3\n",
              "Dependents           15\n",
              "Education             0\n",
              "Self_Employed        32\n",
              "ApplicantIncome       0\n",
              "CoapplicantIncome     0\n",
              "LoanAmount           22\n",
              "Loan_Amount_Term     14\n",
              "Credit_History       50\n",
              "Property_Area         0\n",
              "Loan_Status           0\n",
              "dtype: int64"
            ],
            "text/html": [
              "<div>\n",
              "<style scoped>\n",
              "    .dataframe tbody tr th:only-of-type {\n",
              "        vertical-align: middle;\n",
              "    }\n",
              "\n",
              "    .dataframe tbody tr th {\n",
              "        vertical-align: top;\n",
              "    }\n",
              "\n",
              "    .dataframe thead th {\n",
              "        text-align: right;\n",
              "    }\n",
              "</style>\n",
              "<table border=\"1\" class=\"dataframe\">\n",
              "  <thead>\n",
              "    <tr style=\"text-align: right;\">\n",
              "      <th></th>\n",
              "      <th>0</th>\n",
              "    </tr>\n",
              "  </thead>\n",
              "  <tbody>\n",
              "    <tr>\n",
              "      <th>Loan_ID</th>\n",
              "      <td>0</td>\n",
              "    </tr>\n",
              "    <tr>\n",
              "      <th>Gender</th>\n",
              "      <td>13</td>\n",
              "    </tr>\n",
              "    <tr>\n",
              "      <th>Married</th>\n",
              "      <td>3</td>\n",
              "    </tr>\n",
              "    <tr>\n",
              "      <th>Dependents</th>\n",
              "      <td>15</td>\n",
              "    </tr>\n",
              "    <tr>\n",
              "      <th>Education</th>\n",
              "      <td>0</td>\n",
              "    </tr>\n",
              "    <tr>\n",
              "      <th>Self_Employed</th>\n",
              "      <td>32</td>\n",
              "    </tr>\n",
              "    <tr>\n",
              "      <th>ApplicantIncome</th>\n",
              "      <td>0</td>\n",
              "    </tr>\n",
              "    <tr>\n",
              "      <th>CoapplicantIncome</th>\n",
              "      <td>0</td>\n",
              "    </tr>\n",
              "    <tr>\n",
              "      <th>LoanAmount</th>\n",
              "      <td>22</td>\n",
              "    </tr>\n",
              "    <tr>\n",
              "      <th>Loan_Amount_Term</th>\n",
              "      <td>14</td>\n",
              "    </tr>\n",
              "    <tr>\n",
              "      <th>Credit_History</th>\n",
              "      <td>50</td>\n",
              "    </tr>\n",
              "    <tr>\n",
              "      <th>Property_Area</th>\n",
              "      <td>0</td>\n",
              "    </tr>\n",
              "    <tr>\n",
              "      <th>Loan_Status</th>\n",
              "      <td>0</td>\n",
              "    </tr>\n",
              "  </tbody>\n",
              "</table>\n",
              "</div><br><label><b>dtype:</b> int64</label>"
            ]
          },
          "metadata": {},
          "execution_count": 43
        }
      ],
      "source": [
        "train.isnull().sum()"
      ]
    },
    {
      "cell_type": "code",
      "execution_count": 44,
      "id": "31657bcb-88b8-4e5c-b90c-7721deb94a50",
      "metadata": {
        "colab": {
          "base_uri": "https://localhost:8080/",
          "height": 532
        },
        "id": "31657bcb-88b8-4e5c-b90c-7721deb94a50",
        "outputId": "fe7208ef-d991-454a-81fc-cbe35d9b3aeb"
      },
      "outputs": [
        {
          "output_type": "display_data",
          "data": {
            "text/plain": [
              "<Figure size 600x400 with 1 Axes>"
            ],
            "image/png": "[encoded data removed]"
          },
          "metadata": {}
        }
      ],
      "source": [
        "missing_values=(train.isnull().sum())/len(train)*100\n",
        "msg_percent=missing_values.sort_values(ascending=False)\n",
        "plt.figure(figsize=(6,4))\n",
        "sns.barplot(x=msg_percent.index, y=msg_percent.values)\n",
        "plt.xticks(rotation=90)\n",
        "plt.title('Percentage of Missing Data')\n",
        "plt.xlabel('Columns')\n",
        "plt.show()"
      ]
    },
    {
      "cell_type": "markdown",
      "id": "bb46271a-03a3-4630-bd57-60bdbde6bd5d",
      "metadata": {
        "id": "bb46271a-03a3-4630-bd57-60bdbde6bd5d"
      },
      "source": [
        "## 5. Data Preprocessing"
      ]
    },
    {
      "cell_type": "code",
      "execution_count": 45,
      "id": "4e59aaf2-5e0e-4a4a-9dd3-c23ac71a3e95",
      "metadata": {
        "id": "4e59aaf2-5e0e-4a4a-9dd3-c23ac71a3e95"
      },
      "outputs": [],
      "source": [
        "train.drop('Loan_ID', axis=1, inplace=True)\n",
        "org_test=test.copy()\n",
        "test.drop('Loan_ID', axis=1, inplace=True)"
      ]
    },
    {
      "cell_type": "code",
      "execution_count": 46,
      "id": "35bed794-0b9d-460f-b80e-c233cd304c60",
      "metadata": {
        "colab": {
          "base_uri": "https://localhost:8080/"
        },
        "id": "35bed794-0b9d-460f-b80e-c233cd304c60",
        "outputId": "071fd5fb-c53a-4ed1-b3d7-563d44e9a8c4"
      },
      "outputs": [
        {
          "output_type": "stream",
          "name": "stdout",
          "text": [
            "(614, 12) (367, 11)\n"
          ]
        }
      ],
      "source": [
        "print(train.shape, test.shape)"
      ]
    },
    {
      "cell_type": "markdown",
      "id": "9929d7cb-b788-4d08-944d-593c17931b23",
      "metadata": {
        "id": "9929d7cb-b788-4d08-944d-593c17931b23"
      },
      "source": [
        "### 5.1 Feature Engineering"
      ]
    },
    {
      "cell_type": "markdown",
      "id": "2d8f2f3d-0733-4880-82b6-bdc68d8a85b7",
      "metadata": {
        "id": "2d8f2f3d-0733-4880-82b6-bdc68d8a85b7"
      },
      "source": [
        "#### 5.1.1 Creating New Features"
      ]
    },
    {
      "cell_type": "code",
      "execution_count": 47,
      "id": "7e73aa09-b2c2-478e-a512-7f933ec96ff1",
      "metadata": {
        "id": "7e73aa09-b2c2-478e-a512-7f933ec96ff1"
      },
      "outputs": [],
      "source": [
        "train['Total_Income']=train['ApplicantIncome']+train['CoapplicantIncome']\n",
        "test['Total_Income']=test['ApplicantIncome']+test['CoapplicantIncome']"
      ]
    },
    {
      "cell_type": "code",
      "execution_count": 48,
      "id": "f871b70a-6bc5-42c7-9f0c-887eaf2417b9",
      "metadata": {
        "id": "f871b70a-6bc5-42c7-9f0c-887eaf2417b9"
      },
      "outputs": [],
      "source": [
        "train.drop(columns=['ApplicantIncome' , 'CoapplicantIncome'], inplace=True)\n",
        "test.drop(columns=['ApplicantIncome' , 'CoapplicantIncome'], inplace=True)"
      ]
    },
    {
      "cell_type": "code",
      "execution_count": 49,
      "id": "f2143e12-10e3-4442-8635-34a9df53d274",
      "metadata": {
        "colab": {
          "base_uri": "https://localhost:8080/",
          "height": 206
        },
        "id": "f2143e12-10e3-4442-8635-34a9df53d274",
        "outputId": "e4301b9a-0ef2-451e-adb7-6fc0ef8986f0"
      },
      "outputs": [
        {
          "output_type": "execute_result",
          "data": {
            "text/plain": [
              "  Gender Married Dependents     Education Self_Employed  LoanAmount  \\\n",
              "0   Male      No          0      Graduate            No         NaN   \n",
              "1   Male     Yes          1      Graduate            No       128.0   \n",
              "2   Male     Yes          0      Graduate           Yes        66.0   \n",
              "3   Male     Yes          0  Not Graduate            No       120.0   \n",
              "4   Male      No          0      Graduate            No       141.0   \n",
              "\n",
              "   Loan_Amount_Term  Credit_History Property_Area  Loan_Status  Total_Income  \n",
              "0             360.0             1.0         Urban            1        5849.0  \n",
              "1             360.0             1.0         Rural            0        6091.0  \n",
              "2             360.0             1.0         Urban            1        3000.0  \n",
              "3             360.0             1.0         Urban            1        4941.0  \n",
              "4             360.0             1.0         Urban            1        6000.0  "
            ],
            "text/html": [
              "\n",
              "  <div id=\"df-f58d0a09-4bb1-4ec2-9030-cf419c4b7f46\" class=\"colab-df-container\">\n",
              "    <div>\n",
              "<style scoped>\n",
              "    .dataframe tbody tr th:only-of-type {\n",
              "        vertical-align: middle;\n",
              "    }\n",
              "\n",
              "    .dataframe tbody tr th {\n",
              "        vertical-align: top;\n",
              "    }\n",
              "\n",
              "    .dataframe thead th {\n",
              "        text-align: right;\n",
              "    }\n",
              "</style>\n",
              "<table border=\"1\" class=\"dataframe\">\n",
              "  <thead>\n",
              "    <tr style=\"text-align: right;\">\n",
              "      <th></th>\n",
              "      <th>Gender</th>\n",
              "      <th>Married</th>\n",
              "      <th>Dependents</th>\n",
              "      <th>Education</th>\n",
              "      <th>Self_Employed</th>\n",
              "      <th>LoanAmount</th>\n",
              "      <th>Loan_Amount_Term</th>\n",
              "      <th>Credit_History</th>\n",
              "      <th>Property_Area</th>\n",
              "      <th>Loan_Status</th>\n",
              "      <th>Total_Income</th>\n",
              "    </tr>\n",
              "  </thead>\n",
              "  <tbody>\n",
              "    <tr>\n",
              "      <th>0</th>\n",
              "      <td>Male</td>\n",
              "      <td>No</td>\n",
              "      <td>0</td>\n",
              "      <td>Graduate</td>\n",
              "      <td>No</td>\n",
              "      <td>NaN</td>\n",
              "      <td>360.0</td>\n",
              "      <td>1.0</td>\n",
              "      <td>Urban</td>\n",
              "      <td>1</td>\n",
              "      <td>5849.0</td>\n",
              "    </tr>\n",
              "    <tr>\n",
              "      <th>1</th>\n",
              "      <td>Male</td>\n",
              "      <td>Yes</td>\n",
              "      <td>1</td>\n",
              "      <td>Graduate</td>\n",
              "      <td>No</td>\n",
              "      <td>128.0</td>\n",
              "      <td>360.0</td>\n",
              "      <td>1.0</td>\n",
              "      <td>Rural</td>\n",
              "      <td>0</td>\n",
              "      <td>6091.0</td>\n",
              "    </tr>\n",
              "    <tr>\n",
              "      <th>2</th>\n",
              "      <td>Male</td>\n",
              "      <td>Yes</td>\n",
              "      <td>0</td>\n",
              "      <td>Graduate</td>\n",
              "      <td>Yes</td>\n",
              "      <td>66.0</td>\n",
              "      <td>360.0</td>\n",
              "      <td>1.0</td>\n",
              "      <td>Urban</td>\n",
              "      <td>1</td>\n",
              "      <td>3000.0</td>\n",
              "    </tr>\n",
              "    <tr>\n",
              "      <th>3</th>\n",
              "      <td>Male</td>\n",
              "      <td>Yes</td>\n",
              "      <td>0</td>\n",
              "      <td>Not Graduate</td>\n",
              "      <td>No</td>\n",
              "      <td>120.0</td>\n",
              "      <td>360.0</td>\n",
              "      <td>1.0</td>\n",
              "      <td>Urban</td>\n",
              "      <td>1</td>\n",
              "      <td>4941.0</td>\n",
              "    </tr>\n",
              "    <tr>\n",
              "      <th>4</th>\n",
              "      <td>Male</td>\n",
              "      <td>No</td>\n",
              "      <td>0</td>\n",
              "      <td>Graduate</td>\n",
              "      <td>No</td>\n",
              "      <td>141.0</td>\n",
              "      <td>360.0</td>\n",
              "      <td>1.0</td>\n",
              "      <td>Urban</td>\n",
              "      <td>1</td>\n",
              "      <td>6000.0</td>\n",
              "    </tr>\n",
              "  </tbody>\n",
              "</table>\n",
              "</div>\n",
              "    <div class=\"colab-df-buttons\">\n",
              "\n",
              "  <div class=\"colab-df-container\">\n",
              "    <button class=\"colab-df-convert\" onclick=\"convertToInteractive('df-f58d0a09-4bb1-4ec2-9030-cf419c4b7f46')\"\n",
              "            title=\"Convert this dataframe to an interactive table.\"\n",
              "            style=\"display:none;\">\n",
              "\n",
              "  <svg xmlns=\"http://www.w3.org/2000/svg\" height=\"24px\" viewBox=\"0 -960 960 960\">\n",
              "    <path d=\"M120-120v-720h720v720H120Zm60-500h600v-160H180v160Zm220 220h160v-160H400v160Zm0 220h160v-160H400v160ZM180-400h160v-160H180v160Zm440 0h160v-160H620v160ZM180-180h160v-160H180v160Zm440 0h160v-160H620v160Z\"/>\n",
              "  </svg>\n",
              "    </button>\n",
              "\n",
              "  <style>\n",
              "    .colab-df-container {\n",
              "      display:flex;\n",
              "      gap: 12px;\n",
              "    }\n",
              "\n",
              "    .colab-df-convert {\n",
              "      background-color: #E8F0FE;\n",
              "      border: none;\n",
              "      border-radius: 50%;\n",
              "      cursor: pointer;\n",
              "      display: none;\n",
              "      fill: #1967D2;\n",
              "      height: 32px;\n",
              "      padding: 0 0 0 0;\n",
              "      width: 32px;\n",
              "    }\n",
              "\n",
              "    .colab-df-convert:hover {\n",
              "      background-color: #E2EBFA;\n",
              "      box-shadow: 0px 1px 2px rgba(60, 64, 67, 0.3), 0px 1px 3px 1px rgba(60, 64, 67, 0.15);\n",
              "      fill: #174EA6;\n",
              "    }\n",
              "\n",
              "    .colab-df-buttons div {\n",
              "      margin-bottom: 4px;\n",
              "    }\n",
              "\n",
              "    [theme=dark] .colab-df-convert {\n",
              "      background-color: #3B4455;\n",
              "      fill: #D2E3FC;\n",
              "    }\n",
              "\n",
              "    [theme=dark] .colab-df-convert:hover {\n",
              "      background-color: #434B5C;\n",
              "      box-shadow: 0px 1px 3px 1px rgba(0, 0, 0, 0.15);\n",
              "      filter: drop-shadow(0px 1px 2px rgba(0, 0, 0, 0.3));\n",
              "      fill: #FFFFFF;\n",
              "    }\n",
              "  </style>\n",
              "\n",
              "    <script>\n",
              "      const buttonEl =\n",
              "        document.querySelector('#df-f58d0a09-4bb1-4ec2-9030-cf419c4b7f46 button.colab-df-convert');\n",
              "      buttonEl.style.display =\n",
              "        google.colab.kernel.accessAllowed ? 'block' : 'none';\n",
              "\n",
              "      async function convertToInteractive(key) {\n",
              "        const element = document.querySelector('#df-f58d0a09-4bb1-4ec2-9030-cf419c4b7f46');\n",
              "        const dataTable =\n",
              "          await google.colab.kernel.invokeFunction('convertToInteractive',\n",
              "                                                    [key], {});\n",
              "        if (!dataTable) return;\n",
              "\n",
              "        const docLinkHtml = 'Like what you see? Visit the ' +\n",
              "          '<a target=\"_blank\" href=https://colab.research.google.com/notebooks/data_table.ipynb>data table notebook</a>'\n",
              "          + ' to learn more about interactive tables.';\n",
              "        element.innerHTML = '';\n",
              "        dataTable['output_type'] = 'display_data';\n",
              "        await google.colab.output.renderOutput(dataTable, element);\n",
              "        const docLink = document.createElement('div');\n",
              "        docLink.innerHTML = docLinkHtml;\n",
              "        element.appendChild(docLink);\n",
              "      }\n",
              "    </script>\n",
              "  </div>\n",
              "\n",
              "\n",
              "<div id=\"df-eff71b98-4f25-4a69-a328-0dba09053994\">\n",
              "  <button class=\"colab-df-quickchart\" onclick=\"quickchart('df-eff71b98-4f25-4a69-a328-0dba09053994')\"\n",
              "            title=\"Suggest charts\"\n",
              "            style=\"display:none;\">\n",
              "\n",
              "<svg xmlns=\"http://www.w3.org/2000/svg\" height=\"24px\"viewBox=\"0 0 24 24\"\n",
              "     width=\"24px\">\n",
              "    <g>\n",
              "        <path d=\"M19 3H5c-1.1 0-2 .9-2 2v14c0 1.1.9 2 2 2h14c1.1 0 2-.9 2-2V5c0-1.1-.9-2-2-2zM9 17H7v-7h2v7zm4 0h-2V7h2v10zm4 0h-2v-4h2v4z\"/>\n",
              "    </g>\n",
              "</svg>\n",
              "  </button>\n",
              "\n",
              "<style>\n",
              "  .colab-df-quickchart {\n",
              "      --bg-color: #E8F0FE;\n",
              "      --fill-color: #1967D2;\n",
              "      --hover-bg-color: #E2EBFA;\n",
              "      --hover-fill-color: #174EA6;\n",
              "      --disabled-fill-color: #AAA;\n",
              "      --disabled-bg-color: #DDD;\n",
              "  }\n",
              "\n",
              "  [theme=dark] .colab-df-quickchart {\n",
              "      --bg-color: #3B4455;\n",
              "      --fill-color: #D2E3FC;\n",
              "      --hover-bg-color: #434B5C;\n",
              "      --hover-fill-color: #FFFFFF;\n",
              "      --disabled-bg-color: #3B4455;\n",
              "      --disabled-fill-color: #666;\n",
              "  }\n",
              "\n",
              "  .colab-df-quickchart {\n",
              "    background-color: var(--bg-color);\n",
              "    border: none;\n",
              "    border-radius: 50%;\n",
              "    cursor: pointer;\n",
              "    display: none;\n",
              "    fill: var(--fill-color);\n",
              "    height: 32px;\n",
              "    padding: 0;\n",
              "    width: 32px;\n",
              "  }\n",
              "\n",
              "  .colab-df-quickchart:hover {\n",
              "    background-color: var(--hover-bg-color);\n",
              "    box-shadow: 0 1px 2px rgba(60, 64, 67, 0.3), 0 1px 3px 1px rgba(60, 64, 67, 0.15);\n",
              "    fill: var(--button-hover-fill-color);\n",
              "  }\n",
              "\n",
              "  .colab-df-quickchart-complete:disabled,\n",
              "  .colab-df-quickchart-complete:disabled:hover {\n",
              "    background-color: var(--disabled-bg-color);\n",
              "    fill: var(--disabled-fill-color);\n",
              "    box-shadow: none;\n",
              "  }\n",
              "\n",
              "  .colab-df-spinner {\n",
              "    border: 2px solid var(--fill-color);\n",
              "    border-color: transparent;\n",
              "    border-bottom-color: var(--fill-color);\n",
              "    animation:\n",
              "      spin 1s steps(1) infinite;\n",
              "  }\n",
              "\n",
              "  @keyframes spin {\n",
              "    0% {\n",
              "      border-color: transparent;\n",
              "      border-bottom-color: var(--fill-color);\n",
              "      border-left-color: var(--fill-color);\n",
              "    }\n",
              "    20% {\n",
              "      border-color: transparent;\n",
              "      border-left-color: var(--fill-color);\n",
              "      border-top-color: var(--fill-color);\n",
              "    }\n",
              "    30% {\n",
              "      border-color: transparent;\n",
              "      border-left-color: var(--fill-color);\n",
              "      border-top-color: var(--fill-color);\n",
              "      border-right-color: var(--fill-color);\n",
              "    }\n",
              "    40% {\n",
              "      border-color: transparent;\n",
              "      border-right-color: var(--fill-color);\n",
              "      border-top-color: var(--fill-color);\n",
              "    }\n",
              "    60% {\n",
              "      border-color: transparent;\n",
              "      border-right-color: var(--fill-color);\n",
              "    }\n",
              "    80% {\n",
              "      border-color: transparent;\n",
              "      border-right-color: var(--fill-color);\n",
              "      border-bottom-color: var(--fill-color);\n",
              "    }\n",
              "    90% {\n",
              "      border-color: transparent;\n",
              "      border-bottom-color: var(--fill-color);\n",
              "    }\n",
              "  }\n",
              "</style>\n",
              "\n",
              "  <script>\n",
              "    async function quickchart(key) {\n",
              "      const quickchartButtonEl =\n",
              "        document.querySelector('#' + key + ' button');\n",
              "      quickchartButtonEl.disabled = true;  // To prevent multiple clicks.\n",
              "      quickchartButtonEl.classList.add('colab-df-spinner');\n",
              "      try {\n",
              "        const charts = await google.colab.kernel.invokeFunction(\n",
              "            'suggestCharts', [key], {});\n",
              "      } catch (error) {\n",
              "        console.error('Error during call to suggestCharts:', error);\n",
              "      }\n",
              "      quickchartButtonEl.classList.remove('colab-df-spinner');\n",
              "      quickchartButtonEl.classList.add('colab-df-quickchart-complete');\n",
              "    }\n",
              "    (() => {\n",
              "      let quickchartButtonEl =\n",
              "        document.querySelector('#df-eff71b98-4f25-4a69-a328-0dba09053994 button');\n",
              "      quickchartButtonEl.style.display =\n",
              "        google.colab.kernel.accessAllowed ? 'block' : 'none';\n",
              "    })();\n",
              "  </script>\n",
              "</div>\n",
              "\n",
              "    </div>\n",
              "  </div>\n"
            ],
            "application/vnd.google.colaboratory.intrinsic+json": {
              "type": "dataframe",
              "variable_name": "train",
              "summary": "{\n  \"name\": \"train\",\n  \"rows\": 614,\n  \"fields\": [\n    {\n      \"column\": \"Gender\",\n      \"properties\": {\n        \"dtype\": \"category\",\n        \"num_unique_values\": 2,\n        \"samples\": [\n          \"Female\",\n          \"Male\"\n        ],\n        \"semantic_type\": \"\",\n        \"description\": \"\"\n      }\n    },\n    {\n      \"column\": \"Married\",\n      \"properties\": {\n        \"dtype\": \"category\",\n        \"num_unique_values\": 2,\n        \"samples\": [\n          \"Yes\",\n          \"No\"\n        ],\n        \"semantic_type\": \"\",\n        \"description\": \"\"\n      }\n    },\n    {\n      \"column\": \"Dependents\",\n      \"properties\": {\n        \"dtype\": \"category\",\n        \"num_unique_values\": 4,\n        \"samples\": [\n          \"1\",\n          \"3+\"\n        ],\n        \"semantic_type\": \"\",\n        \"description\": \"\"\n      }\n    },\n    {\n      \"column\": \"Education\",\n      \"properties\": {\n        \"dtype\": \"category\",\n        \"num_unique_values\": 2,\n        \"samples\": [\n          \"Not Graduate\",\n          \"Graduate\"\n        ],\n        \"semantic_type\": \"\",\n        \"description\": \"\"\n      }\n    },\n    {\n      \"column\": \"Self_Employed\",\n      \"properties\": {\n        \"dtype\": \"category\",\n        \"num_unique_values\": 2,\n        \"samples\": [\n          \"Yes\",\n          \"No\"\n        ],\n        \"semantic_type\": \"\",\n        \"description\": \"\"\n      }\n    },\n    {\n      \"column\": \"LoanAmount\",\n      \"properties\": {\n        \"dtype\": \"number\",\n        \"std\": 85.58732523570545,\n        \"min\": 9.0,\n        \"max\": 700.0,\n        \"num_unique_values\": 203,\n        \"samples\": [\n          100.0,\n          70.0\n        ],\n        \"semantic_type\": \"\",\n        \"description\": \"\"\n      }\n    },\n    {\n      \"column\": \"Loan_Amount_Term\",\n      \"properties\": {\n        \"dtype\": \"number\",\n        \"std\": 65.12040985461256,\n        \"min\": 12.0,\n        \"max\": 480.0,\n        \"num_unique_values\": 10,\n        \"samples\": [\n          84.0,\n          120.0\n        ],\n        \"semantic_type\": \"\",\n        \"description\": \"\"\n      }\n    },\n    {\n      \"column\": \"Credit_History\",\n      \"properties\": {\n        \"dtype\": \"number\",\n        \"std\": 0.3648783192364048,\n        \"min\": 0.0,\n        \"max\": 1.0,\n        \"num_unique_values\": 2,\n        \"samples\": [\n          0.0,\n          1.0\n        ],\n        \"semantic_type\": \"\",\n        \"description\": \"\"\n      }\n    },\n    {\n      \"column\": \"Property_Area\",\n      \"properties\": {\n        \"dtype\": \"category\",\n        \"num_unique_values\": 3,\n        \"samples\": [\n          \"Urban\",\n          \"Rural\"\n        ],\n        \"semantic_type\": \"\",\n        \"description\": \"\"\n      }\n    },\n    {\n      \"column\": \"Loan_Status\",\n      \"properties\": {\n        \"dtype\": \"number\",\n        \"std\": 0,\n        \"min\": 0,\n        \"max\": 1,\n        \"num_unique_values\": 2,\n        \"samples\": [\n          0,\n          1\n        ],\n        \"semantic_type\": \"\",\n        \"description\": \"\"\n      }\n    },\n    {\n      \"column\": \"Total_Income\",\n      \"properties\": {\n        \"dtype\": \"number\",\n        \"std\": 6458.66387219434,\n        \"min\": 1442.0,\n        \"max\": 81000.0,\n        \"num_unique_values\": 554,\n        \"samples\": [\n          3988.0,\n          3259.0\n        ],\n        \"semantic_type\": \"\",\n        \"description\": \"\"\n      }\n    }\n  ]\n}"
            }
          },
          "metadata": {},
          "execution_count": 49
        }
      ],
      "source": [
        "train.head()"
      ]
    },
    {
      "cell_type": "code",
      "execution_count": 50,
      "id": "4f072c76-c6f8-401c-9b0a-c2e695542ca0",
      "metadata": {
        "colab": {
          "base_uri": "https://localhost:8080/"
        },
        "id": "4f072c76-c6f8-401c-9b0a-c2e695542ca0",
        "outputId": "717b6f5c-cc97-4409-ad00-a3061e93dc4a"
      },
      "outputs": [
        {
          "output_type": "stream",
          "name": "stdout",
          "text": [
            "<class 'pandas.core.frame.DataFrame'>\n",
            "RangeIndex: 614 entries, 0 to 613\n",
            "Data columns (total 11 columns):\n",
            " #   Column            Non-Null Count  Dtype  \n",
            "---  ------            --------------  -----  \n",
            " 0   Gender            601 non-null    object \n",
            " 1   Married           611 non-null    object \n",
            " 2   Dependents        599 non-null    object \n",
            " 3   Education         614 non-null    object \n",
            " 4   Self_Employed     582 non-null    object \n",
            " 5   LoanAmount        592 non-null    float64\n",
            " 6   Loan_Amount_Term  600 non-null    float64\n",
            " 7   Credit_History    564 non-null    float64\n",
            " 8   Property_Area     614 non-null    object \n",
            " 9   Loan_Status       614 non-null    int64  \n",
            " 10  Total_Income      614 non-null    float64\n",
            "dtypes: float64(4), int64(1), object(6)\n",
            "memory usage: 52.9+ KB\n"
          ]
        }
      ],
      "source": [
        "train.info()"
      ]
    },
    {
      "cell_type": "code",
      "execution_count": 51,
      "id": "0cd2c3eb-8819-4ee2-bc9a-fe97079c97b5",
      "metadata": {
        "colab": {
          "base_uri": "https://localhost:8080/",
          "height": 406
        },
        "id": "0cd2c3eb-8819-4ee2-bc9a-fe97079c97b5",
        "outputId": "9cbb701b-cb38-4d8b-a216-93e2b88975d5"
      },
      "outputs": [
        {
          "output_type": "display_data",
          "data": {
            "text/plain": [
              "<Figure size 1200x400 with 2 Axes>"
            ],
            "image/png": "[encoded data removed]"
          },
          "metadata": {}
        }
      ],
      "source": [
        "num_cols=['Total_Income', 'LoanAmount']\n",
        "fig, axes=plt.subplots(1, len(num_cols), figsize=(12,4))\n",
        "for i, col in enumerate(num_cols):\n",
        "    sns.histplot(train[col], kde=True, ax=axes[i])\n",
        "plt.tight_layout()\n",
        "plt.show()"
      ]
    },
    {
      "cell_type": "markdown",
      "id": "4e97454c-a88c-43d0-85e5-d7355a09f668",
      "metadata": {
        "id": "4e97454c-a88c-43d0-85e5-d7355a09f668"
      },
      "source": [
        "Since distribution for Total_Income and LoanAmount is positively skewed we need to treat this"
      ]
    },
    {
      "cell_type": "markdown",
      "id": "e069eb28-3302-465b-9668-de77045d7d24",
      "metadata": {
        "id": "e069eb28-3302-465b-9668-de77045d7d24"
      },
      "source": [
        "##### Log Transformation"
      ]
    },
    {
      "cell_type": "code",
      "execution_count": 52,
      "id": "18ee965f-2dd0-4d1b-aac9-ea3f8d2f145d",
      "metadata": {
        "id": "18ee965f-2dd0-4d1b-aac9-ea3f8d2f145d"
      },
      "outputs": [],
      "source": [
        "train['LoanAmount_Log']=np.log1p(train['LoanAmount'])\n",
        "train['Total_Income_Log']=np.log1p(train['Total_Income'])\n",
        "num_cols.extend(['LoanAmount_Log', 'Total_Income_Log'])"
      ]
    },
    {
      "cell_type": "code",
      "execution_count": 53,
      "id": "0c28b580-ea0e-4499-867e-e7dcf9a920df",
      "metadata": {
        "colab": {
          "base_uri": "https://localhost:8080/"
        },
        "id": "0c28b580-ea0e-4499-867e-e7dcf9a920df",
        "outputId": "595dd95a-7742-4528-93f3-09453422ff33"
      },
      "outputs": [
        {
          "output_type": "execute_result",
          "data": {
            "text/plain": [
              "['Total_Income', 'LoanAmount', 'LoanAmount_Log', 'Total_Income_Log']"
            ]
          },
          "metadata": {},
          "execution_count": 53
        }
      ],
      "source": [
        "num_cols"
      ]
    },
    {
      "cell_type": "code",
      "execution_count": 54,
      "id": "da18edc9-122d-4370-a503-cd7c01f21bc6",
      "metadata": {
        "colab": {
          "base_uri": "https://localhost:8080/",
          "height": 407
        },
        "id": "da18edc9-122d-4370-a503-cd7c01f21bc6",
        "outputId": "fcc0f506-9736-49c1-885e-eda01df151ba"
      },
      "outputs": [
        {
          "output_type": "display_data",
          "data": {
            "text/plain": [
              "<Figure size 1200x400 with 4 Axes>"
            ],
            "image/png": "[encoded data removed]"
          },
          "metadata": {}
        }
      ],
      "source": [
        "fig, axes=plt.subplots(2, len(num_cols)//2, figsize=(12,4))\n",
        "axes=axes.flatten()\n",
        "for i, col in enumerate(num_cols):\n",
        "    sns.histplot(train[col], kde=True, ax=axes[i])\n",
        "plt.tight_layout()\n",
        "plt.show()"
      ]
    },
    {
      "cell_type": "markdown",
      "id": "f938f172-4a50-4d3f-b943-9ed499f41530",
      "metadata": {
        "id": "f938f172-4a50-4d3f-b943-9ed499f41530"
      },
      "source": [
        "AS can be seen the distribution after using log transformation are much better  compared to original distribution."
      ]
    },
    {
      "cell_type": "markdown",
      "id": "76284dc9-8e32-4685-b896-7ffb2a351897",
      "metadata": {
        "id": "76284dc9-8e32-4685-b896-7ffb2a351897"
      },
      "source": [
        "##### Square Root Transformation"
      ]
    },
    {
      "cell_type": "code",
      "execution_count": 55,
      "id": "deccba55-49fb-48f8-87f7-6a27e091e85d",
      "metadata": {
        "id": "deccba55-49fb-48f8-87f7-6a27e091e85d"
      },
      "outputs": [],
      "source": [
        "train['LoanAmount_sqrt']=np.sqrt(train['LoanAmount'])\n",
        "train['Total_Income_sqrt']=np.sqrt(train['Total_Income'])\n",
        "num_cols.extend(['LoanAmount_sqrt', 'Total_Income_sqrt'])"
      ]
    },
    {
      "cell_type": "code",
      "execution_count": 56,
      "id": "d6a11ffd-f348-483b-925f-8a04ca3d673b",
      "metadata": {
        "colab": {
          "base_uri": "https://localhost:8080/",
          "height": 906
        },
        "id": "d6a11ffd-f348-483b-925f-8a04ca3d673b",
        "outputId": "52ca3b21-e777-4048-ad12-b6b19b256e36"
      },
      "outputs": [
        {
          "output_type": "display_data",
          "data": {
            "text/plain": [
              "<Figure size 1200x900 with 6 Axes>"
            ],
            "image/png": "[encoded data removed]"
          },
          "metadata": {}
        }
      ],
      "source": [
        "fig, axes=plt.subplots(3, 2, figsize=(12,9))\n",
        "axes=axes.flatten()\n",
        "for i, col in enumerate(num_cols):\n",
        "    sns.histplot(train[col], kde=True, ax=axes[i])\n",
        "plt.tight_layout()\n",
        "plt.show()"
      ]
    },
    {
      "cell_type": "code",
      "execution_count": 57,
      "id": "abb39996-5d4e-486f-a3fc-5ccc78cd4823",
      "metadata": {
        "colab": {
          "base_uri": "https://localhost:8080/"
        },
        "id": "abb39996-5d4e-486f-a3fc-5ccc78cd4823",
        "outputId": "eb78e633-f69e-48b0-f67f-4ac7587b7a8c"
      },
      "outputs": [
        {
          "output_type": "execute_result",
          "data": {
            "text/plain": [
              "Index(['Gender', 'Married', 'Dependents', 'Education', 'Self_Employed',\n",
              "       'LoanAmount', 'Loan_Amount_Term', 'Credit_History', 'Property_Area',\n",
              "       'Loan_Status', 'Total_Income', 'LoanAmount_Log', 'Total_Income_Log',\n",
              "       'LoanAmount_sqrt', 'Total_Income_sqrt'],\n",
              "      dtype='object')"
            ]
          },
          "metadata": {},
          "execution_count": 57
        }
      ],
      "source": [
        "train.columns"
      ]
    },
    {
      "cell_type": "code",
      "execution_count": 58,
      "id": "c0d90dce-e2c2-4275-a6ab-5a6e377c515d",
      "metadata": {
        "colab": {
          "base_uri": "https://localhost:8080/"
        },
        "id": "c0d90dce-e2c2-4275-a6ab-5a6e377c515d",
        "outputId": "3dac8c23-8e75-40dc-bc75-7d4798883040"
      },
      "outputs": [
        {
          "output_type": "execute_result",
          "data": {
            "text/plain": [
              "Index(['Gender', 'Married', 'Dependents', 'Education', 'Self_Employed',\n",
              "       'Loan_Amount_Term', 'Credit_History', 'Property_Area', 'Loan_Status',\n",
              "       'LoanAmount_Log', 'Total_Income_Log'],\n",
              "      dtype='object')"
            ]
          },
          "metadata": {},
          "execution_count": 58
        }
      ],
      "source": [
        "train.drop(columns=['LoanAmount', 'Total_Income','LoanAmount_sqrt', 'Total_Income_sqrt' ], inplace=True)\n",
        "train.columns"
      ]
    },
    {
      "cell_type": "code",
      "execution_count": 59,
      "id": "ed10530c-1195-4735-b878-c7bbd143b292",
      "metadata": {
        "colab": {
          "base_uri": "https://localhost:8080/"
        },
        "id": "ed10530c-1195-4735-b878-c7bbd143b292",
        "outputId": "ea24dde7-ed3c-43af-da10-39938c82e9bc"
      },
      "outputs": [
        {
          "output_type": "execute_result",
          "data": {
            "text/plain": [
              "Index(['Gender', 'Married', 'Dependents', 'Education', 'Self_Employed',\n",
              "       'Loan_Amount_Term', 'Credit_History', 'Property_Area', 'LoanAmount_Log',\n",
              "       'Total_Income_Log'],\n",
              "      dtype='object')"
            ]
          },
          "metadata": {},
          "execution_count": 59
        }
      ],
      "source": [
        "test['LoanAmount_Log']=np.log1p(test['LoanAmount'])\n",
        "test['Total_Income_Log']=np.log1p(test['Total_Income'])\n",
        "test.drop(columns=['LoanAmount', 'Total_Income'], inplace=True)\n",
        "test.columns"
      ]
    },
    {
      "cell_type": "code",
      "execution_count": 60,
      "id": "abab5895-ee65-4e6f-b122-f66cabb82d40",
      "metadata": {
        "id": "abab5895-ee65-4e6f-b122-f66cabb82d40"
      },
      "outputs": [],
      "source": [
        "train=train.rename(columns={'LoanAmount_Log': 'LoanAmount'})\n",
        "train=train.rename(columns={'Total_Income_Log': 'Total_Income'})\n",
        "test=test.rename(columns={'LoanAmount_Log': 'LoanAmount'})\n",
        "test=test.rename(columns={'Total_Income_Log': 'Total_Income'})"
      ]
    },
    {
      "cell_type": "markdown",
      "id": "d9e6ffd9-784d-44da-a454-014e763dc1f1",
      "metadata": {
        "id": "d9e6ffd9-784d-44da-a454-014e763dc1f1"
      },
      "source": [
        "## 5.2 Handling Missing Values"
      ]
    },
    {
      "cell_type": "code",
      "execution_count": 61,
      "id": "2d971200-06eb-4c6b-b5f1-19b8bc1eabd5",
      "metadata": {
        "colab": {
          "base_uri": "https://localhost:8080/"
        },
        "id": "2d971200-06eb-4c6b-b5f1-19b8bc1eabd5",
        "outputId": "55ca5ab0-c9a8-41c7-bf68-316de4bfc725"
      },
      "outputs": [
        {
          "output_type": "stream",
          "name": "stdout",
          "text": [
            "['Gender', 'Married', 'Dependents', 'Education', 'Self_Employed', 'Property_Area'] ['Credit_History', 'Loan_Amount_Term'] ['Total_Income', 'LoanAmount', 'LoanAmount_Log', 'Total_Income_Log', 'LoanAmount_sqrt', 'Total_Income_sqrt']\n"
          ]
        }
      ],
      "source": [
        "print(cat_cols, dis_num_cols, num_cols)"
      ]
    },
    {
      "cell_type": "markdown",
      "id": "9da1c913-34e7-43ef-8fcb-bcb304774442",
      "metadata": {
        "id": "9da1c913-34e7-43ef-8fcb-bcb304774442"
      },
      "source": [
        "##### Categorical Columns Imputation"
      ]
    },
    {
      "cell_type": "code",
      "execution_count": 62,
      "id": "e8fd57bf-8d64-411f-b3ec-17745a6f8514",
      "metadata": {
        "colab": {
          "base_uri": "https://localhost:8080/",
          "height": 429
        },
        "id": "e8fd57bf-8d64-411f-b3ec-17745a6f8514",
        "outputId": "939b7903-ed1a-41e2-d6e9-93e4c90181b4"
      },
      "outputs": [
        {
          "output_type": "execute_result",
          "data": {
            "text/plain": [
              "Gender               0\n",
              "Married              0\n",
              "Dependents           0\n",
              "Education            0\n",
              "Self_Employed        0\n",
              "Loan_Amount_Term     0\n",
              "Credit_History       0\n",
              "Property_Area        0\n",
              "Loan_Status          0\n",
              "LoanAmount          22\n",
              "Total_Income         0\n",
              "dtype: int64"
            ],
            "text/html": [
              "<div>\n",
              "<style scoped>\n",
              "    .dataframe tbody tr th:only-of-type {\n",
              "        vertical-align: middle;\n",
              "    }\n",
              "\n",
              "    .dataframe tbody tr th {\n",
              "        vertical-align: top;\n",
              "    }\n",
              "\n",
              "    .dataframe thead th {\n",
              "        text-align: right;\n",
              "    }\n",
              "</style>\n",
              "<table border=\"1\" class=\"dataframe\">\n",
              "  <thead>\n",
              "    <tr style=\"text-align: right;\">\n",
              "      <th></th>\n",
              "      <th>0</th>\n",
              "    </tr>\n",
              "  </thead>\n",
              "  <tbody>\n",
              "    <tr>\n",
              "      <th>Gender</th>\n",
              "      <td>0</td>\n",
              "    </tr>\n",
              "    <tr>\n",
              "      <th>Married</th>\n",
              "      <td>0</td>\n",
              "    </tr>\n",
              "    <tr>\n",
              "      <th>Dependents</th>\n",
              "      <td>0</td>\n",
              "    </tr>\n",
              "    <tr>\n",
              "      <th>Education</th>\n",
              "      <td>0</td>\n",
              "    </tr>\n",
              "    <tr>\n",
              "      <th>Self_Employed</th>\n",
              "      <td>0</td>\n",
              "    </tr>\n",
              "    <tr>\n",
              "      <th>Loan_Amount_Term</th>\n",
              "      <td>0</td>\n",
              "    </tr>\n",
              "    <tr>\n",
              "      <th>Credit_History</th>\n",
              "      <td>0</td>\n",
              "    </tr>\n",
              "    <tr>\n",
              "      <th>Property_Area</th>\n",
              "      <td>0</td>\n",
              "    </tr>\n",
              "    <tr>\n",
              "      <th>Loan_Status</th>\n",
              "      <td>0</td>\n",
              "    </tr>\n",
              "    <tr>\n",
              "      <th>LoanAmount</th>\n",
              "      <td>22</td>\n",
              "    </tr>\n",
              "    <tr>\n",
              "      <th>Total_Income</th>\n",
              "      <td>0</td>\n",
              "    </tr>\n",
              "  </tbody>\n",
              "</table>\n",
              "</div><br><label><b>dtype:</b> int64</label>"
            ]
          },
          "metadata": {},
          "execution_count": 62
        }
      ],
      "source": [
        "for col in (cat_cols+dis_num_cols):\n",
        "    train[col]=train[col].fillna(train[col].dropna().mode().values[0])\n",
        "    test[col]=test[col].fillna(test[col].dropna().mode().values[0])\n",
        "train.isnull().sum()"
      ]
    },
    {
      "cell_type": "code",
      "execution_count": 63,
      "id": "6c33cfe4-97a8-451f-b9b1-b12531fe5fa8",
      "metadata": {
        "colab": {
          "base_uri": "https://localhost:8080/",
          "height": 398
        },
        "id": "6c33cfe4-97a8-451f-b9b1-b12531fe5fa8",
        "outputId": "9f1844af-a21d-4582-8506-314dbf72f5ce"
      },
      "outputs": [
        {
          "output_type": "execute_result",
          "data": {
            "text/plain": [
              "Gender              0\n",
              "Married             0\n",
              "Dependents          0\n",
              "Education           0\n",
              "Self_Employed       0\n",
              "Loan_Amount_Term    0\n",
              "Credit_History      0\n",
              "Property_Area       0\n",
              "LoanAmount          5\n",
              "Total_Income        0\n",
              "dtype: int64"
            ],
            "text/html": [
              "<div>\n",
              "<style scoped>\n",
              "    .dataframe tbody tr th:only-of-type {\n",
              "        vertical-align: middle;\n",
              "    }\n",
              "\n",
              "    .dataframe tbody tr th {\n",
              "        vertical-align: top;\n",
              "    }\n",
              "\n",
              "    .dataframe thead th {\n",
              "        text-align: right;\n",
              "    }\n",
              "</style>\n",
              "<table border=\"1\" class=\"dataframe\">\n",
              "  <thead>\n",
              "    <tr style=\"text-align: right;\">\n",
              "      <th></th>\n",
              "      <th>0</th>\n",
              "    </tr>\n",
              "  </thead>\n",
              "  <tbody>\n",
              "    <tr>\n",
              "      <th>Gender</th>\n",
              "      <td>0</td>\n",
              "    </tr>\n",
              "    <tr>\n",
              "      <th>Married</th>\n",
              "      <td>0</td>\n",
              "    </tr>\n",
              "    <tr>\n",
              "      <th>Dependents</th>\n",
              "      <td>0</td>\n",
              "    </tr>\n",
              "    <tr>\n",
              "      <th>Education</th>\n",
              "      <td>0</td>\n",
              "    </tr>\n",
              "    <tr>\n",
              "      <th>Self_Employed</th>\n",
              "      <td>0</td>\n",
              "    </tr>\n",
              "    <tr>\n",
              "      <th>Loan_Amount_Term</th>\n",
              "      <td>0</td>\n",
              "    </tr>\n",
              "    <tr>\n",
              "      <th>Credit_History</th>\n",
              "      <td>0</td>\n",
              "    </tr>\n",
              "    <tr>\n",
              "      <th>Property_Area</th>\n",
              "      <td>0</td>\n",
              "    </tr>\n",
              "    <tr>\n",
              "      <th>LoanAmount</th>\n",
              "      <td>5</td>\n",
              "    </tr>\n",
              "    <tr>\n",
              "      <th>Total_Income</th>\n",
              "      <td>0</td>\n",
              "    </tr>\n",
              "  </tbody>\n",
              "</table>\n",
              "</div><br><label><b>dtype:</b> int64</label>"
            ]
          },
          "metadata": {},
          "execution_count": 63
        }
      ],
      "source": [
        "test.isnull().sum()"
      ]
    },
    {
      "cell_type": "markdown",
      "id": "3fc1a055-8810-40be-8d4d-b7e6083e7812",
      "metadata": {
        "id": "3fc1a055-8810-40be-8d4d-b7e6083e7812"
      },
      "source": [
        "##### Numerical Columns Imputation"
      ]
    },
    {
      "cell_type": "code",
      "execution_count": 64,
      "id": "7afec17a-3415-4e05-b375-72271b692d2a",
      "metadata": {
        "colab": {
          "base_uri": "https://localhost:8080/",
          "height": 429
        },
        "id": "7afec17a-3415-4e05-b375-72271b692d2a",
        "outputId": "f27a5053-9750-4e70-c713-d96b4fb6b05f"
      },
      "outputs": [
        {
          "output_type": "execute_result",
          "data": {
            "text/plain": [
              "Gender              0\n",
              "Married             0\n",
              "Dependents          0\n",
              "Education           0\n",
              "Self_Employed       0\n",
              "Loan_Amount_Term    0\n",
              "Credit_History      0\n",
              "Property_Area       0\n",
              "Loan_Status         0\n",
              "LoanAmount          0\n",
              "Total_Income        0\n",
              "dtype: int64"
            ],
            "text/html": [
              "<div>\n",
              "<style scoped>\n",
              "    .dataframe tbody tr th:only-of-type {\n",
              "        vertical-align: middle;\n",
              "    }\n",
              "\n",
              "    .dataframe tbody tr th {\n",
              "        vertical-align: top;\n",
              "    }\n",
              "\n",
              "    .dataframe thead th {\n",
              "        text-align: right;\n",
              "    }\n",
              "</style>\n",
              "<table border=\"1\" class=\"dataframe\">\n",
              "  <thead>\n",
              "    <tr style=\"text-align: right;\">\n",
              "      <th></th>\n",
              "      <th>0</th>\n",
              "    </tr>\n",
              "  </thead>\n",
              "  <tbody>\n",
              "    <tr>\n",
              "      <th>Gender</th>\n",
              "      <td>0</td>\n",
              "    </tr>\n",
              "    <tr>\n",
              "      <th>Married</th>\n",
              "      <td>0</td>\n",
              "    </tr>\n",
              "    <tr>\n",
              "      <th>Dependents</th>\n",
              "      <td>0</td>\n",
              "    </tr>\n",
              "    <tr>\n",
              "      <th>Education</th>\n",
              "      <td>0</td>\n",
              "    </tr>\n",
              "    <tr>\n",
              "      <th>Self_Employed</th>\n",
              "      <td>0</td>\n",
              "    </tr>\n",
              "    <tr>\n",
              "      <th>Loan_Amount_Term</th>\n",
              "      <td>0</td>\n",
              "    </tr>\n",
              "    <tr>\n",
              "      <th>Credit_History</th>\n",
              "      <td>0</td>\n",
              "    </tr>\n",
              "    <tr>\n",
              "      <th>Property_Area</th>\n",
              "      <td>0</td>\n",
              "    </tr>\n",
              "    <tr>\n",
              "      <th>Loan_Status</th>\n",
              "      <td>0</td>\n",
              "    </tr>\n",
              "    <tr>\n",
              "      <th>LoanAmount</th>\n",
              "      <td>0</td>\n",
              "    </tr>\n",
              "    <tr>\n",
              "      <th>Total_Income</th>\n",
              "      <td>0</td>\n",
              "    </tr>\n",
              "  </tbody>\n",
              "</table>\n",
              "</div><br><label><b>dtype:</b> int64</label>"
            ]
          },
          "metadata": {},
          "execution_count": 64
        }
      ],
      "source": [
        "num_cols=['LoanAmount', 'Total_Income']\n",
        "for col in num_cols:\n",
        "    train[col]=train[col].fillna(train[col].dropna().median())\n",
        "    test[col]=test[col].fillna(test[col].dropna().median())\n",
        "train.isnull().sum()"
      ]
    },
    {
      "cell_type": "markdown",
      "id": "cd459786-4186-4146-8f1b-5a783dbca332",
      "metadata": {
        "id": "cd459786-4186-4146-8f1b-5a783dbca332"
      },
      "source": [
        "## 5.3 Encoding"
      ]
    },
    {
      "cell_type": "code",
      "execution_count": 65,
      "id": "807f94f2-3516-4d98-94ed-4ef762ac690f",
      "metadata": {
        "colab": {
          "base_uri": "https://localhost:8080/",
          "height": 206
        },
        "id": "807f94f2-3516-4d98-94ed-4ef762ac690f",
        "outputId": "82e2c4f3-2b23-4a8d-813a-5aae2fc2af4a"
      },
      "outputs": [
        {
          "output_type": "execute_result",
          "data": {
            "text/plain": [
              "   Gender  Married  Dependents  Education  Self_Employed  Loan_Amount_Term  \\\n",
              "0       1        0           0          0              0             360.0   \n",
              "1       1        1           1          0              0             360.0   \n",
              "2       1        1           0          0              1             360.0   \n",
              "3       1        1           0          1              0             360.0   \n",
              "4       1        0           0          0              0             360.0   \n",
              "\n",
              "   Credit_History  Property_Area  Loan_Status  LoanAmount  Total_Income  \n",
              "0             1.0              2            1    4.859812      8.674197  \n",
              "1             1.0              0            0    4.859812      8.714732  \n",
              "2             1.0              2            1    4.204693      8.006701  \n",
              "3             1.0              2            1    4.795791      8.505525  \n",
              "4             1.0              2            1    4.955827      8.699681  "
            ],
            "text/html": [
              "\n",
              "  <div id=\"df-5bce21b9-9eb2-4a71-bc84-7ae6d89010ba\" class=\"colab-df-container\">\n",
              "    <div>\n",
              "<style scoped>\n",
              "    .dataframe tbody tr th:only-of-type {\n",
              "        vertical-align: middle;\n",
              "    }\n",
              "\n",
              "    .dataframe tbody tr th {\n",
              "        vertical-align: top;\n",
              "    }\n",
              "\n",
              "    .dataframe thead th {\n",
              "        text-align: right;\n",
              "    }\n",
              "</style>\n",
              "<table border=\"1\" class=\"dataframe\">\n",
              "  <thead>\n",
              "    <tr style=\"text-align: right;\">\n",
              "      <th></th>\n",
              "      <th>Gender</th>\n",
              "      <th>Married</th>\n",
              "      <th>Dependents</th>\n",
              "      <th>Education</th>\n",
              "      <th>Self_Employed</th>\n",
              "      <th>Loan_Amount_Term</th>\n",
              "      <th>Credit_History</th>\n",
              "      <th>Property_Area</th>\n",
              "      <th>Loan_Status</th>\n",
              "      <th>LoanAmount</th>\n",
              "      <th>Total_Income</th>\n",
              "    </tr>\n",
              "  </thead>\n",
              "  <tbody>\n",
              "    <tr>\n",
              "      <th>0</th>\n",
              "      <td>1</td>\n",
              "      <td>0</td>\n",
              "      <td>0</td>\n",
              "      <td>0</td>\n",
              "      <td>0</td>\n",
              "      <td>360.0</td>\n",
              "      <td>1.0</td>\n",
              "      <td>2</td>\n",
              "      <td>1</td>\n",
              "      <td>4.859812</td>\n",
              "      <td>8.674197</td>\n",
              "    </tr>\n",
              "    <tr>\n",
              "      <th>1</th>\n",
              "      <td>1</td>\n",
              "      <td>1</td>\n",
              "      <td>1</td>\n",
              "      <td>0</td>\n",
              "      <td>0</td>\n",
              "      <td>360.0</td>\n",
              "      <td>1.0</td>\n",
              "      <td>0</td>\n",
              "      <td>0</td>\n",
              "      <td>4.859812</td>\n",
              "      <td>8.714732</td>\n",
              "    </tr>\n",
              "    <tr>\n",
              "      <th>2</th>\n",
              "      <td>1</td>\n",
              "      <td>1</td>\n",
              "      <td>0</td>\n",
              "      <td>0</td>\n",
              "      <td>1</td>\n",
              "      <td>360.0</td>\n",
              "      <td>1.0</td>\n",
              "      <td>2</td>\n",
              "      <td>1</td>\n",
              "      <td>4.204693</td>\n",
              "      <td>8.006701</td>\n",
              "    </tr>\n",
              "    <tr>\n",
              "      <th>3</th>\n",
              "      <td>1</td>\n",
              "      <td>1</td>\n",
              "      <td>0</td>\n",
              "      <td>1</td>\n",
              "      <td>0</td>\n",
              "      <td>360.0</td>\n",
              "      <td>1.0</td>\n",
              "      <td>2</td>\n",
              "      <td>1</td>\n",
              "      <td>4.795791</td>\n",
              "      <td>8.505525</td>\n",
              "    </tr>\n",
              "    <tr>\n",
              "      <th>4</th>\n",
              "      <td>1</td>\n",
              "      <td>0</td>\n",
              "      <td>0</td>\n",
              "      <td>0</td>\n",
              "      <td>0</td>\n",
              "      <td>360.0</td>\n",
              "      <td>1.0</td>\n",
              "      <td>2</td>\n",
              "      <td>1</td>\n",
              "      <td>4.955827</td>\n",
              "      <td>8.699681</td>\n",
              "    </tr>\n",
              "  </tbody>\n",
              "</table>\n",
              "</div>\n",
              "    <div class=\"colab-df-buttons\">\n",
              "\n",
              "  <div class=\"colab-df-container\">\n",
              "    <button class=\"colab-df-convert\" onclick=\"convertToInteractive('df-5bce21b9-9eb2-4a71-bc84-7ae6d89010ba')\"\n",
              "            title=\"Convert this dataframe to an interactive table.\"\n",
              "            style=\"display:none;\">\n",
              "\n",
              "  <svg xmlns=\"http://www.w3.org/2000/svg\" height=\"24px\" viewBox=\"0 -960 960 960\">\n",
              "    <path d=\"M120-120v-720h720v720H120Zm60-500h600v-160H180v160Zm220 220h160v-160H400v160Zm0 220h160v-160H400v160ZM180-400h160v-160H180v160Zm440 0h160v-160H620v160ZM180-180h160v-160H180v160Zm440 0h160v-160H620v160Z\"/>\n",
              "  </svg>\n",
              "    </button>\n",
              "\n",
              "  <style>\n",
              "    .colab-df-container {\n",
              "      display:flex;\n",
              "      gap: 12px;\n",
              "    }\n",
              "\n",
              "    .colab-df-convert {\n",
              "      background-color: #E8F0FE;\n",
              "      border: none;\n",
              "      border-radius: 50%;\n",
              "      cursor: pointer;\n",
              "      display: none;\n",
              "      fill: #1967D2;\n",
              "      height: 32px;\n",
              "      padding: 0 0 0 0;\n",
              "      width: 32px;\n",
              "    }\n",
              "\n",
              "    .colab-df-convert:hover {\n",
              "      background-color: #E2EBFA;\n",
              "      box-shadow: 0px 1px 2px rgba(60, 64, 67, 0.3), 0px 1px 3px 1px rgba(60, 64, 67, 0.15);\n",
              "      fill: #174EA6;\n",
              "    }\n",
              "\n",
              "    .colab-df-buttons div {\n",
              "      margin-bottom: 4px;\n",
              "    }\n",
              "\n",
              "    [theme=dark] .colab-df-convert {\n",
              "      background-color: #3B4455;\n",
              "      fill: #D2E3FC;\n",
              "    }\n",
              "\n",
              "    [theme=dark] .colab-df-convert:hover {\n",
              "      background-color: #434B5C;\n",
              "      box-shadow: 0px 1px 3px 1px rgba(0, 0, 0, 0.15);\n",
              "      filter: drop-shadow(0px 1px 2px rgba(0, 0, 0, 0.3));\n",
              "      fill: #FFFFFF;\n",
              "    }\n",
              "  </style>\n",
              "\n",
              "    <script>\n",
              "      const buttonEl =\n",
              "        document.querySelector('#df-5bce21b9-9eb2-4a71-bc84-7ae6d89010ba button.colab-df-convert');\n",
              "      buttonEl.style.display =\n",
              "        google.colab.kernel.accessAllowed ? 'block' : 'none';\n",
              "\n",
              "      async function convertToInteractive(key) {\n",
              "        const element = document.querySelector('#df-5bce21b9-9eb2-4a71-bc84-7ae6d89010ba');\n",
              "        const dataTable =\n",
              "          await google.colab.kernel.invokeFunction('convertToInteractive',\n",
              "                                                    [key], {});\n",
              "        if (!dataTable) return;\n",
              "\n",
              "        const docLinkHtml = 'Like what you see? Visit the ' +\n",
              "          '<a target=\"_blank\" href=https://colab.research.google.com/notebooks/data_table.ipynb>data table notebook</a>'\n",
              "          + ' to learn more about interactive tables.';\n",
              "        element.innerHTML = '';\n",
              "        dataTable['output_type'] = 'display_data';\n",
              "        await google.colab.output.renderOutput(dataTable, element);\n",
              "        const docLink = document.createElement('div');\n",
              "        docLink.innerHTML = docLinkHtml;\n",
              "        element.appendChild(docLink);\n",
              "      }\n",
              "    </script>\n",
              "  </div>\n",
              "\n",
              "\n",
              "<div id=\"df-bdfa4bc9-9831-4ce1-aaeb-37aca7bfc7a9\">\n",
              "  <button class=\"colab-df-quickchart\" onclick=\"quickchart('df-bdfa4bc9-9831-4ce1-aaeb-37aca7bfc7a9')\"\n",
              "            title=\"Suggest charts\"\n",
              "            style=\"display:none;\">\n",
              "\n",
              "<svg xmlns=\"http://www.w3.org/2000/svg\" height=\"24px\"viewBox=\"0 0 24 24\"\n",
              "     width=\"24px\">\n",
              "    <g>\n",
              "        <path d=\"M19 3H5c-1.1 0-2 .9-2 2v14c0 1.1.9 2 2 2h14c1.1 0 2-.9 2-2V5c0-1.1-.9-2-2-2zM9 17H7v-7h2v7zm4 0h-2V7h2v10zm4 0h-2v-4h2v4z\"/>\n",
              "    </g>\n",
              "</svg>\n",
              "  </button>\n",
              "\n",
              "<style>\n",
              "  .colab-df-quickchart {\n",
              "      --bg-color: #E8F0FE;\n",
              "      --fill-color: #1967D2;\n",
              "      --hover-bg-color: #E2EBFA;\n",
              "      --hover-fill-color: #174EA6;\n",
              "      --disabled-fill-color: #AAA;\n",
              "      --disabled-bg-color: #DDD;\n",
              "  }\n",
              "\n",
              "  [theme=dark] .colab-df-quickchart {\n",
              "      --bg-color: #3B4455;\n",
              "      --fill-color: #D2E3FC;\n",
              "      --hover-bg-color: #434B5C;\n",
              "      --hover-fill-color: #FFFFFF;\n",
              "      --disabled-bg-color: #3B4455;\n",
              "      --disabled-fill-color: #666;\n",
              "  }\n",
              "\n",
              "  .colab-df-quickchart {\n",
              "    background-color: var(--bg-color);\n",
              "    border: none;\n",
              "    border-radius: 50%;\n",
              "    cursor: pointer;\n",
              "    display: none;\n",
              "    fill: var(--fill-color);\n",
              "    height: 32px;\n",
              "    padding: 0;\n",
              "    width: 32px;\n",
              "  }\n",
              "\n",
              "  .colab-df-quickchart:hover {\n",
              "    background-color: var(--hover-bg-color);\n",
              "    box-shadow: 0 1px 2px rgba(60, 64, 67, 0.3), 0 1px 3px 1px rgba(60, 64, 67, 0.15);\n",
              "    fill: var(--button-hover-fill-color);\n",
              "  }\n",
              "\n",
              "  .colab-df-quickchart-complete:disabled,\n",
              "  .colab-df-quickchart-complete:disabled:hover {\n",
              "    background-color: var(--disabled-bg-color);\n",
              "    fill: var(--disabled-fill-color);\n",
              "    box-shadow: none;\n",
              "  }\n",
              "\n",
              "  .colab-df-spinner {\n",
              "    border: 2px solid var(--fill-color);\n",
              "    border-color: transparent;\n",
              "    border-bottom-color: var(--fill-color);\n",
              "    animation:\n",
              "      spin 1s steps(1) infinite;\n",
              "  }\n",
              "\n",
              "  @keyframes spin {\n",
              "    0% {\n",
              "      border-color: transparent;\n",
              "      border-bottom-color: var(--fill-color);\n",
              "      border-left-color: var(--fill-color);\n",
              "    }\n",
              "    20% {\n",
              "      border-color: transparent;\n",
              "      border-left-color: var(--fill-color);\n",
              "      border-top-color: var(--fill-color);\n",
              "    }\n",
              "    30% {\n",
              "      border-color: transparent;\n",
              "      border-left-color: var(--fill-color);\n",
              "      border-top-color: var(--fill-color);\n",
              "      border-right-color: var(--fill-color);\n",
              "    }\n",
              "    40% {\n",
              "      border-color: transparent;\n",
              "      border-right-color: var(--fill-color);\n",
              "      border-top-color: var(--fill-color);\n",
              "    }\n",
              "    60% {\n",
              "      border-color: transparent;\n",
              "      border-right-color: var(--fill-color);\n",
              "    }\n",
              "    80% {\n",
              "      border-color: transparent;\n",
              "      border-right-color: var(--fill-color);\n",
              "      border-bottom-color: var(--fill-color);\n",
              "    }\n",
              "    90% {\n",
              "      border-color: transparent;\n",
              "      border-bottom-color: var(--fill-color);\n",
              "    }\n",
              "  }\n",
              "</style>\n",
              "\n",
              "  <script>\n",
              "    async function quickchart(key) {\n",
              "      const quickchartButtonEl =\n",
              "        document.querySelector('#' + key + ' button');\n",
              "      quickchartButtonEl.disabled = true;  // To prevent multiple clicks.\n",
              "      quickchartButtonEl.classList.add('colab-df-spinner');\n",
              "      try {\n",
              "        const charts = await google.colab.kernel.invokeFunction(\n",
              "            'suggestCharts', [key], {});\n",
              "      } catch (error) {\n",
              "        console.error('Error during call to suggestCharts:', error);\n",
              "      }\n",
              "      quickchartButtonEl.classList.remove('colab-df-spinner');\n",
              "      quickchartButtonEl.classList.add('colab-df-quickchart-complete');\n",
              "    }\n",
              "    (() => {\n",
              "      let quickchartButtonEl =\n",
              "        document.querySelector('#df-bdfa4bc9-9831-4ce1-aaeb-37aca7bfc7a9 button');\n",
              "      quickchartButtonEl.style.display =\n",
              "        google.colab.kernel.accessAllowed ? 'block' : 'none';\n",
              "    })();\n",
              "  </script>\n",
              "</div>\n",
              "\n",
              "    </div>\n",
              "  </div>\n"
            ],
            "application/vnd.google.colaboratory.intrinsic+json": {
              "type": "dataframe",
              "variable_name": "train",
              "summary": "{\n  \"name\": \"train\",\n  \"rows\": 614,\n  \"fields\": [\n    {\n      \"column\": \"Gender\",\n      \"properties\": {\n        \"dtype\": \"number\",\n        \"std\": 0,\n        \"min\": 0,\n        \"max\": 1,\n        \"num_unique_values\": 2,\n        \"samples\": [\n          0,\n          1\n        ],\n        \"semantic_type\": \"\",\n        \"description\": \"\"\n      }\n    },\n    {\n      \"column\": \"Married\",\n      \"properties\": {\n        \"dtype\": \"number\",\n        \"std\": 0,\n        \"min\": 0,\n        \"max\": 1,\n        \"num_unique_values\": 2,\n        \"samples\": [\n          1,\n          0\n        ],\n        \"semantic_type\": \"\",\n        \"description\": \"\"\n      }\n    },\n    {\n      \"column\": \"Dependents\",\n      \"properties\": {\n        \"dtype\": \"number\",\n        \"std\": 1,\n        \"min\": 0,\n        \"max\": 3,\n        \"num_unique_values\": 4,\n        \"samples\": [\n          1,\n          3\n        ],\n        \"semantic_type\": \"\",\n        \"description\": \"\"\n      }\n    },\n    {\n      \"column\": \"Education\",\n      \"properties\": {\n        \"dtype\": \"number\",\n        \"std\": 0,\n        \"min\": 0,\n        \"max\": 1,\n        \"num_unique_values\": 2,\n        \"samples\": [\n          1,\n          0\n        ],\n        \"semantic_type\": \"\",\n        \"description\": \"\"\n      }\n    },\n    {\n      \"column\": \"Self_Employed\",\n      \"properties\": {\n        \"dtype\": \"number\",\n        \"std\": 0,\n        \"min\": 0,\n        \"max\": 1,\n        \"num_unique_values\": 2,\n        \"samples\": [\n          1,\n          0\n        ],\n        \"semantic_type\": \"\",\n        \"description\": \"\"\n      }\n    },\n    {\n      \"column\": \"Loan_Amount_Term\",\n      \"properties\": {\n        \"dtype\": \"number\",\n        \"std\": 64.42862906767307,\n        \"min\": 12.0,\n        \"max\": 480.0,\n        \"num_unique_values\": 10,\n        \"samples\": [\n          84.0,\n          120.0\n        ],\n        \"semantic_type\": \"\",\n        \"description\": \"\"\n      }\n    },\n    {\n      \"column\": \"Credit_History\",\n      \"properties\": {\n        \"dtype\": \"number\",\n        \"std\": 0.3523386063582998,\n        \"min\": 0.0,\n        \"max\": 1.0,\n        \"num_unique_values\": 2,\n        \"samples\": [\n          0.0,\n          1.0\n        ],\n        \"semantic_type\": \"\",\n        \"description\": \"\"\n      }\n    },\n    {\n      \"column\": \"Property_Area\",\n      \"properties\": {\n        \"dtype\": \"number\",\n        \"std\": 0,\n        \"min\": 0,\n        \"max\": 2,\n        \"num_unique_values\": 3,\n        \"samples\": [\n          2,\n          0\n        ],\n        \"semantic_type\": \"\",\n        \"description\": \"\"\n      }\n    },\n    {\n      \"column\": \"Loan_Status\",\n      \"properties\": {\n        \"dtype\": \"number\",\n        \"std\": 0,\n        \"min\": 0,\n        \"max\": 1,\n        \"num_unique_values\": 2,\n        \"samples\": [\n          0,\n          1\n        ],\n        \"semantic_type\": \"\",\n        \"description\": \"\"\n      }\n    },\n    {\n      \"column\": \"LoanAmount\",\n      \"properties\": {\n        \"dtype\": \"number\",\n        \"std\": 0.4908105349626494,\n        \"min\": 2.302585092994046,\n        \"max\": 6.55250788703459,\n        \"num_unique_values\": 203,\n        \"samples\": [\n          4.61512051684126,\n          4.2626798770413155\n        ],\n        \"semantic_type\": \"\",\n        \"description\": \"\"\n      }\n    },\n    {\n      \"column\": \"Total_Income\",\n      \"properties\": {\n        \"dtype\": \"number\",\n        \"std\": 0.5450167016964548,\n        \"min\": 7.274479558773871,\n        \"max\": 11.302216779257382,\n        \"num_unique_values\": 554,\n        \"samples\": [\n          8.291295851905407,\n          8.089482474360754\n        ],\n        \"semantic_type\": \"\",\n        \"description\": \"\"\n      }\n    }\n  ]\n}"
            }
          },
          "metadata": {},
          "execution_count": 65
        }
      ],
      "source": [
        "from sklearn.preprocessing import LabelEncoder\n",
        "for col in cat_cols:\n",
        "    le=LabelEncoder()\n",
        "    train[col]=le.fit_transform(train[col])\n",
        "    test[col]=le.transform(test[col])\n",
        "train.head()"
      ]
    },
    {
      "cell_type": "markdown",
      "id": "b59be599-ce44-488a-b62d-91371dae8d7f",
      "metadata": {
        "id": "b59be599-ce44-488a-b62d-91371dae8d7f"
      },
      "source": [
        "## 5.4 Outliers Removal"
      ]
    },
    {
      "cell_type": "code",
      "execution_count": 66,
      "id": "d958681c-dfb8-46e8-b543-928de19b52c9",
      "metadata": {
        "colab": {
          "base_uri": "https://localhost:8080/"
        },
        "id": "d958681c-dfb8-46e8-b543-928de19b52c9",
        "outputId": "51afc338-5118-4ede-beb4-fee68790ebeb"
      },
      "outputs": [
        {
          "output_type": "stream",
          "name": "stdout",
          "text": [
            "Original size (614, 11)\n",
            "After removing Outliers (588, 11)\n"
          ]
        }
      ],
      "source": [
        "from scipy import stats\n",
        "z_scores=stats.zscore(train)\n",
        "abs_scores=np.abs(z_scores)\n",
        "filtered_rows=(abs_scores<3).all(axis=1)\n",
        "df=train[filtered_rows]\n",
        "print(\"Original size\", train.shape)\n",
        "print(\"After removing Outliers\", df.shape)"
      ]
    },
    {
      "cell_type": "markdown",
      "id": "af22f671-97a2-4b2d-b7f3-ac17843cbcd3",
      "metadata": {
        "id": "af22f671-97a2-4b2d-b7f3-ac17843cbcd3"
      },
      "source": [
        "## 5.5 Normalizing the data"
      ]
    },
    {
      "cell_type": "code",
      "execution_count": 67,
      "id": "8b70a035-9965-4e55-bfd7-eccd767839a7",
      "metadata": {
        "colab": {
          "base_uri": "https://localhost:8080/"
        },
        "id": "8b70a035-9965-4e55-bfd7-eccd767839a7",
        "outputId": "db12444a-3aca-4236-b321-c1c7d528c9a5"
      },
      "outputs": [
        {
          "output_type": "stream",
          "name": "stdout",
          "text": [
            "   Gender  Married  Dependents  Education  Self_Employed  Loan_Amount_Term  \\\n",
            "0     1.0      0.0    0.000000        0.0            0.0           0.74359   \n",
            "1     1.0      1.0    0.333333        0.0            0.0           0.74359   \n",
            "2     1.0      1.0    0.000000        0.0            1.0           0.74359   \n",
            "3     1.0      1.0    0.000000        1.0            0.0           0.74359   \n",
            "4     1.0      0.0    0.000000        0.0            0.0           0.74359   \n",
            "\n",
            "   Credit_History  Property_Area  LoanAmount  Total_Income  Loan_Status  \n",
            "0             1.0            1.0    0.601711      0.347520            1  \n",
            "1             1.0            0.0    0.601711      0.357583            0  \n",
            "2             1.0            1.0    0.447563      0.181795            1  \n",
            "3             1.0            1.0    0.586647      0.305642            1  \n",
            "4             1.0            1.0    0.624304      0.353847            1  \n"
          ]
        }
      ],
      "source": [
        "from sklearn.preprocessing import MinMaxScaler\n",
        "train_new=train.drop(columns=['Loan_Status'])\n",
        "scaler=MinMaxScaler()\n",
        "train_df=pd.DataFrame(scaler.fit_transform(train_new), columns=train_new.columns)\n",
        "test_df=pd.DataFrame(scaler.transform(test), columns=test.columns)\n",
        "train_df['Loan_Status']=train['Loan_Status']\n",
        "print(train_df.head())"
      ]
    },
    {
      "cell_type": "code",
      "execution_count": 68,
      "id": "dcc07899-8848-4956-8203-fab67d95f2d8",
      "metadata": {
        "colab": {
          "base_uri": "https://localhost:8080/",
          "height": 206
        },
        "id": "dcc07899-8848-4956-8203-fab67d95f2d8",
        "outputId": "bf7cf2f5-1240-480b-d4b4-6ef99fb618ef"
      },
      "outputs": [
        {
          "output_type": "execute_result",
          "data": {
            "text/plain": [
              "   Gender  Married  Dependents  Education  Self_Employed  Loan_Amount_Term  \\\n",
              "0     1.0      1.0    0.000000        0.0            0.0           0.74359   \n",
              "1     1.0      1.0    0.333333        0.0            0.0           0.74359   \n",
              "2     1.0      1.0    0.666667        0.0            0.0           0.74359   \n",
              "3     1.0      1.0    0.666667        0.0            0.0           0.74359   \n",
              "4     1.0      0.0    0.000000        1.0            0.0           0.74359   \n",
              "\n",
              "   Credit_History  Property_Area  LoanAmount  Total_Income  \n",
              "0             1.0            1.0    0.566350      0.341983  \n",
              "1             1.0            1.0    0.598035      0.286593  \n",
              "2             1.0            1.0    0.715248      0.384917  \n",
              "3             1.0            1.0    0.544136      0.302863  \n",
              "4             1.0            1.0    0.486329      0.203639  "
            ],
            "text/html": [
              "\n",
              "  <div id=\"df-45c8bd07-cbf5-4f1f-99e7-9a9796be5a9f\" class=\"colab-df-container\">\n",
              "    <div>\n",
              "<style scoped>\n",
              "    .dataframe tbody tr th:only-of-type {\n",
              "        vertical-align: middle;\n",
              "    }\n",
              "\n",
              "    .dataframe tbody tr th {\n",
              "        vertical-align: top;\n",
              "    }\n",
              "\n",
              "    .dataframe thead th {\n",
              "        text-align: right;\n",
              "    }\n",
              "</style>\n",
              "<table border=\"1\" class=\"dataframe\">\n",
              "  <thead>\n",
              "    <tr style=\"text-align: right;\">\n",
              "      <th></th>\n",
              "      <th>Gender</th>\n",
              "      <th>Married</th>\n",
              "      <th>Dependents</th>\n",
              "      <th>Education</th>\n",
              "      <th>Self_Employed</th>\n",
              "      <th>Loan_Amount_Term</th>\n",
              "      <th>Credit_History</th>\n",
              "      <th>Property_Area</th>\n",
              "      <th>LoanAmount</th>\n",
              "      <th>Total_Income</th>\n",
              "    </tr>\n",
              "  </thead>\n",
              "  <tbody>\n",
              "    <tr>\n",
              "      <th>0</th>\n",
              "      <td>1.0</td>\n",
              "      <td>1.0</td>\n",
              "      <td>0.000000</td>\n",
              "      <td>0.0</td>\n",
              "      <td>0.0</td>\n",
              "      <td>0.74359</td>\n",
              "      <td>1.0</td>\n",
              "      <td>1.0</td>\n",
              "      <td>0.566350</td>\n",
              "      <td>0.341983</td>\n",
              "    </tr>\n",
              "    <tr>\n",
              "      <th>1</th>\n",
              "      <td>1.0</td>\n",
              "      <td>1.0</td>\n",
              "      <td>0.333333</td>\n",
              "      <td>0.0</td>\n",
              "      <td>0.0</td>\n",
              "      <td>0.74359</td>\n",
              "      <td>1.0</td>\n",
              "      <td>1.0</td>\n",
              "      <td>0.598035</td>\n",
              "      <td>0.286593</td>\n",
              "    </tr>\n",
              "    <tr>\n",
              "      <th>2</th>\n",
              "      <td>1.0</td>\n",
              "      <td>1.0</td>\n",
              "      <td>0.666667</td>\n",
              "      <td>0.0</td>\n",
              "      <td>0.0</td>\n",
              "      <td>0.74359</td>\n",
              "      <td>1.0</td>\n",
              "      <td>1.0</td>\n",
              "      <td>0.715248</td>\n",
              "      <td>0.384917</td>\n",
              "    </tr>\n",
              "    <tr>\n",
              "      <th>3</th>\n",
              "      <td>1.0</td>\n",
              "      <td>1.0</td>\n",
              "      <td>0.666667</td>\n",
              "      <td>0.0</td>\n",
              "      <td>0.0</td>\n",
              "      <td>0.74359</td>\n",
              "      <td>1.0</td>\n",
              "      <td>1.0</td>\n",
              "      <td>0.544136</td>\n",
              "      <td>0.302863</td>\n",
              "    </tr>\n",
              "    <tr>\n",
              "      <th>4</th>\n",
              "      <td>1.0</td>\n",
              "      <td>0.0</td>\n",
              "      <td>0.000000</td>\n",
              "      <td>1.0</td>\n",
              "      <td>0.0</td>\n",
              "      <td>0.74359</td>\n",
              "      <td>1.0</td>\n",
              "      <td>1.0</td>\n",
              "      <td>0.486329</td>\n",
              "      <td>0.203639</td>\n",
              "    </tr>\n",
              "  </tbody>\n",
              "</table>\n",
              "</div>\n",
              "    <div class=\"colab-df-buttons\">\n",
              "\n",
              "  <div class=\"colab-df-container\">\n",
              "    <button class=\"colab-df-convert\" onclick=\"convertToInteractive('df-45c8bd07-cbf5-4f1f-99e7-9a9796be5a9f')\"\n",
              "            title=\"Convert this dataframe to an interactive table.\"\n",
              "            style=\"display:none;\">\n",
              "\n",
              "  <svg xmlns=\"http://www.w3.org/2000/svg\" height=\"24px\" viewBox=\"0 -960 960 960\">\n",
              "    <path d=\"M120-120v-720h720v720H120Zm60-500h600v-160H180v160Zm220 220h160v-160H400v160Zm0 220h160v-160H400v160ZM180-400h160v-160H180v160Zm440 0h160v-160H620v160ZM180-180h160v-160H180v160Zm440 0h160v-160H620v160Z\"/>\n",
              "  </svg>\n",
              "    </button>\n",
              "\n",
              "  <style>\n",
              "    .colab-df-container {\n",
              "      display:flex;\n",
              "      gap: 12px;\n",
              "    }\n",
              "\n",
              "    .colab-df-convert {\n",
              "      background-color: #E8F0FE;\n",
              "      border: none;\n",
              "      border-radius: 50%;\n",
              "      cursor: pointer;\n",
              "      display: none;\n",
              "      fill: #1967D2;\n",
              "      height: 32px;\n",
              "      padding: 0 0 0 0;\n",
              "      width: 32px;\n",
              "    }\n",
              "\n",
              "    .colab-df-convert:hover {\n",
              "      background-color: #E2EBFA;\n",
              "      box-shadow: 0px 1px 2px rgba(60, 64, 67, 0.3), 0px 1px 3px 1px rgba(60, 64, 67, 0.15);\n",
              "      fill: #174EA6;\n",
              "    }\n",
              "\n",
              "    .colab-df-buttons div {\n",
              "      margin-bottom: 4px;\n",
              "    }\n",
              "\n",
              "    [theme=dark] .colab-df-convert {\n",
              "      background-color: #3B4455;\n",
              "      fill: #D2E3FC;\n",
              "    }\n",
              "\n",
              "    [theme=dark] .colab-df-convert:hover {\n",
              "      background-color: #434B5C;\n",
              "      box-shadow: 0px 1px 3px 1px rgba(0, 0, 0, 0.15);\n",
              "      filter: drop-shadow(0px 1px 2px rgba(0, 0, 0, 0.3));\n",
              "      fill: #FFFFFF;\n",
              "    }\n",
              "  </style>\n",
              "\n",
              "    <script>\n",
              "      const buttonEl =\n",
              "        document.querySelector('#df-45c8bd07-cbf5-4f1f-99e7-9a9796be5a9f button.colab-df-convert');\n",
              "      buttonEl.style.display =\n",
              "        google.colab.kernel.accessAllowed ? 'block' : 'none';\n",
              "\n",
              "      async function convertToInteractive(key) {\n",
              "        const element = document.querySelector('#df-45c8bd07-cbf5-4f1f-99e7-9a9796be5a9f');\n",
              "        const dataTable =\n",
              "          await google.colab.kernel.invokeFunction('convertToInteractive',\n",
              "                                                    [key], {});\n",
              "        if (!dataTable) return;\n",
              "\n",
              "        const docLinkHtml = 'Like what you see? Visit the ' +\n",
              "          '<a target=\"_blank\" href=https://colab.research.google.com/notebooks/data_table.ipynb>data table notebook</a>'\n",
              "          + ' to learn more about interactive tables.';\n",
              "        element.innerHTML = '';\n",
              "        dataTable['output_type'] = 'display_data';\n",
              "        await google.colab.output.renderOutput(dataTable, element);\n",
              "        const docLink = document.createElement('div');\n",
              "        docLink.innerHTML = docLinkHtml;\n",
              "        element.appendChild(docLink);\n",
              "      }\n",
              "    </script>\n",
              "  </div>\n",
              "\n",
              "\n",
              "<div id=\"df-072844be-b3ab-47ea-b5c7-b0d195af9b23\">\n",
              "  <button class=\"colab-df-quickchart\" onclick=\"quickchart('df-072844be-b3ab-47ea-b5c7-b0d195af9b23')\"\n",
              "            title=\"Suggest charts\"\n",
              "            style=\"display:none;\">\n",
              "\n",
              "<svg xmlns=\"http://www.w3.org/2000/svg\" height=\"24px\"viewBox=\"0 0 24 24\"\n",
              "     width=\"24px\">\n",
              "    <g>\n",
              "        <path d=\"M19 3H5c-1.1 0-2 .9-2 2v14c0 1.1.9 2 2 2h14c1.1 0 2-.9 2-2V5c0-1.1-.9-2-2-2zM9 17H7v-7h2v7zm4 0h-2V7h2v10zm4 0h-2v-4h2v4z\"/>\n",
              "    </g>\n",
              "</svg>\n",
              "  </button>\n",
              "\n",
              "<style>\n",
              "  .colab-df-quickchart {\n",
              "      --bg-color: #E8F0FE;\n",
              "      --fill-color: #1967D2;\n",
              "      --hover-bg-color: #E2EBFA;\n",
              "      --hover-fill-color: #174EA6;\n",
              "      --disabled-fill-color: #AAA;\n",
              "      --disabled-bg-color: #DDD;\n",
              "  }\n",
              "\n",
              "  [theme=dark] .colab-df-quickchart {\n",
              "      --bg-color: #3B4455;\n",
              "      --fill-color: #D2E3FC;\n",
              "      --hover-bg-color: #434B5C;\n",
              "      --hover-fill-color: #FFFFFF;\n",
              "      --disabled-bg-color: #3B4455;\n",
              "      --disabled-fill-color: #666;\n",
              "  }\n",
              "\n",
              "  .colab-df-quickchart {\n",
              "    background-color: var(--bg-color);\n",
              "    border: none;\n",
              "    border-radius: 50%;\n",
              "    cursor: pointer;\n",
              "    display: none;\n",
              "    fill: var(--fill-color);\n",
              "    height: 32px;\n",
              "    padding: 0;\n",
              "    width: 32px;\n",
              "  }\n",
              "\n",
              "  .colab-df-quickchart:hover {\n",
              "    background-color: var(--hover-bg-color);\n",
              "    box-shadow: 0 1px 2px rgba(60, 64, 67, 0.3), 0 1px 3px 1px rgba(60, 64, 67, 0.15);\n",
              "    fill: var(--button-hover-fill-color);\n",
              "  }\n",
              "\n",
              "  .colab-df-quickchart-complete:disabled,\n",
              "  .colab-df-quickchart-complete:disabled:hover {\n",
              "    background-color: var(--disabled-bg-color);\n",
              "    fill: var(--disabled-fill-color);\n",
              "    box-shadow: none;\n",
              "  }\n",
              "\n",
              "  .colab-df-spinner {\n",
              "    border: 2px solid var(--fill-color);\n",
              "    border-color: transparent;\n",
              "    border-bottom-color: var(--fill-color);\n",
              "    animation:\n",
              "      spin 1s steps(1) infinite;\n",
              "  }\n",
              "\n",
              "  @keyframes spin {\n",
              "    0% {\n",
              "      border-color: transparent;\n",
              "      border-bottom-color: var(--fill-color);\n",
              "      border-left-color: var(--fill-color);\n",
              "    }\n",
              "    20% {\n",
              "      border-color: transparent;\n",
              "      border-left-color: var(--fill-color);\n",
              "      border-top-color: var(--fill-color);\n",
              "    }\n",
              "    30% {\n",
              "      border-color: transparent;\n",
              "      border-left-color: var(--fill-color);\n",
              "      border-top-color: var(--fill-color);\n",
              "      border-right-color: var(--fill-color);\n",
              "    }\n",
              "    40% {\n",
              "      border-color: transparent;\n",
              "      border-right-color: var(--fill-color);\n",
              "      border-top-color: var(--fill-color);\n",
              "    }\n",
              "    60% {\n",
              "      border-color: transparent;\n",
              "      border-right-color: var(--fill-color);\n",
              "    }\n",
              "    80% {\n",
              "      border-color: transparent;\n",
              "      border-right-color: var(--fill-color);\n",
              "      border-bottom-color: var(--fill-color);\n",
              "    }\n",
              "    90% {\n",
              "      border-color: transparent;\n",
              "      border-bottom-color: var(--fill-color);\n",
              "    }\n",
              "  }\n",
              "</style>\n",
              "\n",
              "  <script>\n",
              "    async function quickchart(key) {\n",
              "      const quickchartButtonEl =\n",
              "        document.querySelector('#' + key + ' button');\n",
              "      quickchartButtonEl.disabled = true;  // To prevent multiple clicks.\n",
              "      quickchartButtonEl.classList.add('colab-df-spinner');\n",
              "      try {\n",
              "        const charts = await google.colab.kernel.invokeFunction(\n",
              "            'suggestCharts', [key], {});\n",
              "      } catch (error) {\n",
              "        console.error('Error during call to suggestCharts:', error);\n",
              "      }\n",
              "      quickchartButtonEl.classList.remove('colab-df-spinner');\n",
              "      quickchartButtonEl.classList.add('colab-df-quickchart-complete');\n",
              "    }\n",
              "    (() => {\n",
              "      let quickchartButtonEl =\n",
              "        document.querySelector('#df-072844be-b3ab-47ea-b5c7-b0d195af9b23 button');\n",
              "      quickchartButtonEl.style.display =\n",
              "        google.colab.kernel.accessAllowed ? 'block' : 'none';\n",
              "    })();\n",
              "  </script>\n",
              "</div>\n",
              "\n",
              "    </div>\n",
              "  </div>\n"
            ],
            "application/vnd.google.colaboratory.intrinsic+json": {
              "type": "dataframe",
              "variable_name": "test_df",
              "summary": "{\n  \"name\": \"test_df\",\n  \"rows\": 367,\n  \"fields\": [\n    {\n      \"column\": \"Gender\",\n      \"properties\": {\n        \"dtype\": \"number\",\n        \"std\": 0.39341749595915276,\n        \"min\": 0.0,\n        \"max\": 1.0,\n        \"num_unique_values\": 2,\n        \"samples\": [\n          0.0,\n          1.0\n        ],\n        \"semantic_type\": \"\",\n        \"description\": \"\"\n      }\n    },\n    {\n      \"column\": \"Married\",\n      \"properties\": {\n        \"dtype\": \"number\",\n        \"std\": 0.4821218172546439,\n        \"min\": 0.0,\n        \"max\": 1.0,\n        \"num_unique_values\": 2,\n        \"samples\": [\n          0.0,\n          1.0\n        ],\n        \"semantic_type\": \"\",\n        \"description\": \"\"\n      }\n    },\n    {\n      \"column\": \"Dependents\",\n      \"properties\": {\n        \"dtype\": \"number\",\n        \"std\": 0.3550589820662696,\n        \"min\": 0.0,\n        \"max\": 1.0,\n        \"num_unique_values\": 4,\n        \"samples\": [\n          0.3333333333333333,\n          1.0\n        ],\n        \"semantic_type\": \"\",\n        \"description\": \"\"\n      }\n    },\n    {\n      \"column\": \"Education\",\n      \"properties\": {\n        \"dtype\": \"number\",\n        \"std\": 0.4206871881556253,\n        \"min\": 0.0,\n        \"max\": 1.0,\n        \"num_unique_values\": 2,\n        \"samples\": [\n          1.0,\n          0.0\n        ],\n        \"semantic_type\": \"\",\n        \"description\": \"\"\n      }\n    },\n    {\n      \"column\": \"Self_Employed\",\n      \"properties\": {\n        \"dtype\": \"number\",\n        \"std\": 0.30149787613273077,\n        \"min\": 0.0,\n        \"max\": 1.0,\n        \"num_unique_values\": 2,\n        \"samples\": [\n          1.0,\n          0.0\n        ],\n        \"semantic_type\": \"\",\n        \"description\": \"\"\n      }\n    },\n    {\n      \"column\": \"Loan_Amount_Term\",\n      \"properties\": {\n        \"dtype\": \"number\",\n        \"std\": 0.13815897918928804,\n        \"min\": -0.012820512820512822,\n        \"max\": 1.0000000000000002,\n        \"num_unique_values\": 12,\n        \"samples\": [\n          0.2307692307692308,\n          0.05128205128205128\n        ],\n        \"semantic_type\": \"\",\n        \"description\": \"\"\n      }\n    },\n    {\n      \"column\": \"Credit_History\",\n      \"properties\": {\n        \"dtype\": \"number\",\n        \"std\": 0.36781360499839794,\n        \"min\": 0.0,\n        \"max\": 1.0,\n        \"num_unique_values\": 2,\n        \"samples\": [\n          0.0,\n          1.0\n        ],\n        \"semantic_type\": \"\",\n        \"description\": \"\"\n      }\n    },\n    {\n      \"column\": \"Property_Area\",\n      \"properties\": {\n        \"dtype\": \"number\",\n        \"std\": 0.41216843510617396,\n        \"min\": 0.0,\n        \"max\": 1.0,\n        \"num_unique_values\": 3,\n        \"samples\": [\n          1.0,\n          0.5\n        ],\n        \"semantic_type\": \"\",\n        \"description\": \"\"\n      }\n    },\n    {\n      \"column\": \"LoanAmount\",\n      \"properties\": {\n        \"dtype\": \"number\",\n        \"std\": 0.09699305239421321,\n        \"min\": 0.25052472446921137,\n        \"max\": 0.9433464819127304,\n        \"num_unique_values\": 144,\n        \"samples\": [\n          0.5705521825286981,\n          0.25052472446921137\n        ],\n        \"semantic_type\": \"\",\n        \"description\": \"\"\n      }\n    },\n    {\n      \"column\": \"Total_Income\",\n      \"properties\": {\n        \"dtype\": \"number\",\n        \"std\": 0.11809071351568348,\n        \"min\": 0.04944651024140723,\n        \"max\": 0.9725748665185601,\n        \"num_unique_values\": 348,\n        \"samples\": [\n          0.31998948732340593,\n          0.43636687830164367\n        ],\n        \"semantic_type\": \"\",\n        \"description\": \"\"\n      }\n    }\n  ]\n}"
            }
          },
          "metadata": {},
          "execution_count": 68
        }
      ],
      "source": [
        "test_df.head()"
      ]
    },
    {
      "cell_type": "code",
      "execution_count": 69,
      "id": "3192d2da-c215-4660-acca-546e1ce084da",
      "metadata": {
        "colab": {
          "base_uri": "https://localhost:8080/"
        },
        "id": "3192d2da-c215-4660-acca-546e1ce084da",
        "outputId": "cdc385db-f720-472b-d56e-75e040b8c1f0"
      },
      "outputs": [
        {
          "output_type": "stream",
          "name": "stdout",
          "text": [
            "(614, 11) (367, 10)\n"
          ]
        }
      ],
      "source": [
        "print(train_df.shape, test_df.shape)"
      ]
    },
    {
      "cell_type": "markdown",
      "id": "9c6d395c-eac1-402f-8288-63a86866ed1d",
      "metadata": {
        "id": "9c6d395c-eac1-402f-8288-63a86866ed1d"
      },
      "source": [
        "## Saving the Preprocessed Files"
      ]
    },
    {
      "cell_type": "code",
      "execution_count": 70,
      "id": "7b40e0f8-1a1f-4710-a032-cfec1628a501",
      "metadata": {
        "colab": {
          "base_uri": "https://localhost:8080/"
        },
        "id": "7b40e0f8-1a1f-4710-a032-cfec1628a501",
        "outputId": "19c3af19-08c5-43ad-d6d7-c81684ef61b4"
      },
      "outputs": [
        {
          "output_type": "stream",
          "name": "stdout",
          "text": [
            "Preprocessed Files are saved successfully\n"
          ]
        }
      ],
      "source": [
        "train_df.to_csv(\"Preprocessed_train\", index=False)\n",
        "test_df.to_csv(\"Preprocessed_test\", index=False)\n",
        "print(\"Preprocessed Files are saved successfully\")"
      ]
    },
    {
      "cell_type": "code",
      "source": [
        "import pickle\n",
        "scaler.fit(train_new)\n",
        "with open('scaler.pkl', 'wb') as scaler_file:\n",
        "    pickle.dump(scaler, scaler_file)"
      ],
      "metadata": {
        "id": "ZslVB0DFy_L7"
      },
      "id": "ZslVB0DFy_L7",
      "execution_count": 71,
      "outputs": []
    }
  ],
  "metadata": {
    "kernelspec": {
      "display_name": "Python 3 (ipykernel)",
      "language": "python",
      "name": "python3"
    },
    "language_info": {
      "codemirror_mode": {
        "name": "ipython",
        "version": 3
      },
      "file_extension": ".py",
      "mimetype": "text/x-python",
      "name": "python",
      "nbconvert_exporter": "python",
      "pygments_lexer": "ipython3",
      "version": "3.12.4"
    },
    "colab": {
      "provenance": []
    }
  },
  "nbformat": 4,
  "nbformat_minor": 5
}